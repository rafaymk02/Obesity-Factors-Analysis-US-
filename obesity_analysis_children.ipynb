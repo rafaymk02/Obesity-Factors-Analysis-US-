{
 "cells": [
  {
   "cell_type": "markdown",
   "metadata": {},
   "source": [
    "# Obesity Among Children and Adolescents 2-19 Analysis\n",
    "This notebook contains analysis on obesity amongst children using age, sex, year, race, and other factors to determine what factors make individuals aged 2-19 more likely to be obese.\n",
    "## Project Introduction\n",
    "With obesity at all time rates in the United States it is important to understand the individuals most at risk. Obesity is a pressing public health concern with far-reaching implications for everyone. This analysis is focused on the critical issue of obesity among children and adolescents aged 2-19 years, exploring data from selected population characteristics. This information was made available by the Centers of Disease Control and Prevention (CDC) and contains data from 1988-2018. The data gives us access to information regarding percent poverty level, race, hispanic origin, age, and sex of a age range in a given year. Few interesting questions we are investigating are if income is the leading factor in obesity. Though, children and many adolscents do not have income, we can use the poverty level to ask the question if the leading factor of obesity in individuals 2-19 is poverty. Other questions that can be answered are is the trend in obesity the same in all races, or if younger age range are more affected by obesity. \n",
    "## Any Changes\n",
    "As of now, no changes have been made to the scope of the project since the check in. The current scope of the project is \n",
    "## Data Cleaning - Obesity Among Children and Adolescents 2-19 Analysis\n"
   ]
  },
  {
   "cell_type": "code",
   "execution_count": 154,
   "metadata": {},
   "outputs": [],
   "source": [
    "import pandas as pd\n",
    "import plotly as px\n",
    "from obesity_children import final_clean, remove_single_unique, remove_num_columns"
   ]
  },
  {
   "cell_type": "markdown",
   "metadata": {},
   "source": [
    "### Before Cleaning Data Set\n",
    "Printed below is the original dataset"
   ]
  },
  {
   "cell_type": "code",
   "execution_count": 147,
   "metadata": {},
   "outputs": [
    {
     "data": {
      "text/html": [
       "<div>\n",
       "<style scoped>\n",
       "    .dataframe tbody tr th:only-of-type {\n",
       "        vertical-align: middle;\n",
       "    }\n",
       "\n",
       "    .dataframe tbody tr th {\n",
       "        vertical-align: top;\n",
       "    }\n",
       "\n",
       "    .dataframe thead th {\n",
       "        text-align: right;\n",
       "    }\n",
       "</style>\n",
       "<table border=\"1\" class=\"dataframe\">\n",
       "  <thead>\n",
       "    <tr style=\"text-align: right;\">\n",
       "      <th></th>\n",
       "      <th>INDICATOR</th>\n",
       "      <th>PANEL</th>\n",
       "      <th>PANEL_NUM</th>\n",
       "      <th>UNIT</th>\n",
       "      <th>UNIT_NUM</th>\n",
       "      <th>STUB_NAME</th>\n",
       "      <th>STUB_NAME_NUM</th>\n",
       "      <th>STUB_LABEL_NUM</th>\n",
       "      <th>STUB_LABEL</th>\n",
       "      <th>YEAR</th>\n",
       "      <th>YEAR_NUM</th>\n",
       "      <th>AGE</th>\n",
       "      <th>AGE_NUM</th>\n",
       "      <th>ESTIMATE</th>\n",
       "      <th>SE</th>\n",
       "      <th>FLAG</th>\n",
       "    </tr>\n",
       "  </thead>\n",
       "  <tbody>\n",
       "    <tr>\n",
       "      <th>0</th>\n",
       "      <td>Obesity among children and adolescents aged 2-...</td>\n",
       "      <td>2-19 years</td>\n",
       "      <td>1</td>\n",
       "      <td>Percent of population, crude</td>\n",
       "      <td>1</td>\n",
       "      <td>Total</td>\n",
       "      <td>0</td>\n",
       "      <td>0.0</td>\n",
       "      <td>2-19 years</td>\n",
       "      <td>1988-1994</td>\n",
       "      <td>1</td>\n",
       "      <td>2-19 years</td>\n",
       "      <td>0.0</td>\n",
       "      <td>10.0</td>\n",
       "      <td>0.5</td>\n",
       "      <td>NaN</td>\n",
       "    </tr>\n",
       "    <tr>\n",
       "      <th>1</th>\n",
       "      <td>Obesity among children and adolescents aged 2-...</td>\n",
       "      <td>2-19 years</td>\n",
       "      <td>1</td>\n",
       "      <td>Percent of population, crude</td>\n",
       "      <td>1</td>\n",
       "      <td>Total</td>\n",
       "      <td>0</td>\n",
       "      <td>0.0</td>\n",
       "      <td>2-19 years</td>\n",
       "      <td>1999-2002</td>\n",
       "      <td>2</td>\n",
       "      <td>2-19 years</td>\n",
       "      <td>0.0</td>\n",
       "      <td>14.8</td>\n",
       "      <td>0.7</td>\n",
       "      <td>NaN</td>\n",
       "    </tr>\n",
       "    <tr>\n",
       "      <th>2</th>\n",
       "      <td>Obesity among children and adolescents aged 2-...</td>\n",
       "      <td>2-19 years</td>\n",
       "      <td>1</td>\n",
       "      <td>Percent of population, crude</td>\n",
       "      <td>1</td>\n",
       "      <td>Total</td>\n",
       "      <td>0</td>\n",
       "      <td>0.0</td>\n",
       "      <td>2-19 years</td>\n",
       "      <td>2001-2004</td>\n",
       "      <td>3</td>\n",
       "      <td>2-19 years</td>\n",
       "      <td>0.0</td>\n",
       "      <td>16.3</td>\n",
       "      <td>0.8</td>\n",
       "      <td>NaN</td>\n",
       "    </tr>\n",
       "    <tr>\n",
       "      <th>3</th>\n",
       "      <td>Obesity among children and adolescents aged 2-...</td>\n",
       "      <td>2-19 years</td>\n",
       "      <td>1</td>\n",
       "      <td>Percent of population, crude</td>\n",
       "      <td>1</td>\n",
       "      <td>Total</td>\n",
       "      <td>0</td>\n",
       "      <td>0.0</td>\n",
       "      <td>2-19 years</td>\n",
       "      <td>2003-2006</td>\n",
       "      <td>4</td>\n",
       "      <td>2-19 years</td>\n",
       "      <td>0.0</td>\n",
       "      <td>16.3</td>\n",
       "      <td>0.9</td>\n",
       "      <td>NaN</td>\n",
       "    </tr>\n",
       "    <tr>\n",
       "      <th>4</th>\n",
       "      <td>Obesity among children and adolescents aged 2-...</td>\n",
       "      <td>2-19 years</td>\n",
       "      <td>1</td>\n",
       "      <td>Percent of population, crude</td>\n",
       "      <td>1</td>\n",
       "      <td>Total</td>\n",
       "      <td>0</td>\n",
       "      <td>0.0</td>\n",
       "      <td>2-19 years</td>\n",
       "      <td>2005-2008</td>\n",
       "      <td>5</td>\n",
       "      <td>2-19 years</td>\n",
       "      <td>0.0</td>\n",
       "      <td>16.2</td>\n",
       "      <td>0.9</td>\n",
       "      <td>NaN</td>\n",
       "    </tr>\n",
       "  </tbody>\n",
       "</table>\n",
       "</div>"
      ],
      "text/plain": [
       "                                           INDICATOR       PANEL  PANEL_NUM  \\\n",
       "0  Obesity among children and adolescents aged 2-...  2-19 years          1   \n",
       "1  Obesity among children and adolescents aged 2-...  2-19 years          1   \n",
       "2  Obesity among children and adolescents aged 2-...  2-19 years          1   \n",
       "3  Obesity among children and adolescents aged 2-...  2-19 years          1   \n",
       "4  Obesity among children and adolescents aged 2-...  2-19 years          1   \n",
       "\n",
       "                           UNIT  UNIT_NUM STUB_NAME  STUB_NAME_NUM  \\\n",
       "0  Percent of population, crude         1     Total              0   \n",
       "1  Percent of population, crude         1     Total              0   \n",
       "2  Percent of population, crude         1     Total              0   \n",
       "3  Percent of population, crude         1     Total              0   \n",
       "4  Percent of population, crude         1     Total              0   \n",
       "\n",
       "   STUB_LABEL_NUM  STUB_LABEL       YEAR  YEAR_NUM         AGE  AGE_NUM  \\\n",
       "0             0.0  2-19 years  1988-1994         1  2-19 years      0.0   \n",
       "1             0.0  2-19 years  1999-2002         2  2-19 years      0.0   \n",
       "2             0.0  2-19 years  2001-2004         3  2-19 years      0.0   \n",
       "3             0.0  2-19 years  2003-2006         4  2-19 years      0.0   \n",
       "4             0.0  2-19 years  2005-2008         5  2-19 years      0.0   \n",
       "\n",
       "   ESTIMATE   SE FLAG  \n",
       "0      10.0  0.5  NaN  \n",
       "1      14.8  0.7  NaN  \n",
       "2      16.3  0.8  NaN  \n",
       "3      16.3  0.9  NaN  \n",
       "4      16.2  0.9  NaN  "
      ]
     },
     "execution_count": 147,
     "metadata": {},
     "output_type": "execute_result"
    }
   ],
   "source": [
    "obesity_children = pd.read_csv(\"Obesity_among_children_and_adolescents_aged_2_19_years__by_selected_characteristics__United_States.csv\")\n",
    "obesity_children.head()\n"
   ]
  },
  {
   "cell_type": "code",
   "execution_count": 136,
   "metadata": {},
   "outputs": [],
   "source": [
    "obesity_single_unique = remove_single_unique(obesity_children)\n",
    "obesity_clean = remove_num_columns(obesity_single_unique)\n",
    "sex_race_his_obesity, race_his_obesity, total_obesity, poverty_obesity, sex_obesity, age_obesity = final_clean(obesity_clean)"
   ]
  },
  {
   "cell_type": "markdown",
   "metadata": {},
   "source": [
    "### After Cleaning Data Set\n",
    "The functions above were called to clean the data. Below are the cleaned datasets split into categories based on population characteristics."
   ]
  },
  {
   "cell_type": "code",
   "execution_count": 137,
   "metadata": {},
   "outputs": [
    {
     "name": "stdout",
     "output_type": "stream",
     "text": [
      "         PANEL                         STUB_NAME  \\\n",
      "80  2-19 years  Sex and race and Hispanic origin   \n",
      "81  2-19 years  Sex and race and Hispanic origin   \n",
      "82  2-19 years  Sex and race and Hispanic origin   \n",
      "83  2-19 years  Sex and race and Hispanic origin   \n",
      "84  2-19 years  Sex and race and Hispanic origin   \n",
      "\n",
      "                                           STUB_LABEL       YEAR         AGE  \\\n",
      "80  Male: Not Hispanic or Latino: Black or African...  1988-1994  2-19 years   \n",
      "81  Male: Not Hispanic or Latino: Black or African...  1999-2002  2-19 years   \n",
      "82  Male: Not Hispanic or Latino: Black or African...  2001-2004  2-19 years   \n",
      "83  Male: Not Hispanic or Latino: Black or African...  2003-2006  2-19 years   \n",
      "84  Male: Not Hispanic or Latino: Black or African...  2005-2008  2-19 years   \n",
      "\n",
      "    ESTIMATE   SE  \n",
      "80      10.6  0.8  \n",
      "81      16.0  0.9  \n",
      "82      16.0  1.0  \n",
      "83      17.4  1.0  \n",
      "84      17.8  1.3  \n"
     ]
    }
   ],
   "source": [
    "print(sex_race_his_obesity.head())"
   ]
  },
  {
   "cell_type": "code",
   "execution_count": 138,
   "metadata": {},
   "outputs": [
    {
     "name": "stdout",
     "output_type": "stream",
     "text": [
      "         PANEL                 STUB_NAME                          STUB_LABEL  \\\n",
      "30  2-19 years  Race and Hispanic origin  Not Hispanic or Latino: White only   \n",
      "31  2-19 years  Race and Hispanic origin  Not Hispanic or Latino: White only   \n",
      "32  2-19 years  Race and Hispanic origin  Not Hispanic or Latino: White only   \n",
      "33  2-19 years  Race and Hispanic origin  Not Hispanic or Latino: White only   \n",
      "34  2-19 years  Race and Hispanic origin  Not Hispanic or Latino: White only   \n",
      "\n",
      "         YEAR         AGE  ESTIMATE   SE  \n",
      "30  1988-1994  2-19 years       9.2  0.7  \n",
      "31  1999-2002  2-19 years      12.6  1.0  \n",
      "32  2001-2004  2-19 years      15.1  1.2  \n",
      "33  2003-2006  2-19 years      14.7  1.3  \n",
      "34  2005-2008  2-19 years      14.1  1.4  \n"
     ]
    }
   ],
   "source": [
    "print(race_his_obesity.head())"
   ]
  },
  {
   "cell_type": "code",
   "execution_count": 149,
   "metadata": {},
   "outputs": [
    {
     "name": "stdout",
     "output_type": "stream",
     "text": [
      "          PANEL                 STUB_NAME  STUB_LABEL       YEAR         AGE  \\\n",
      "171  2-19 years  Percent of poverty level  Below 100%  1988-1994  2-19 years   \n",
      "172  2-19 years  Percent of poverty level  Below 100%  1999-2002  2-19 years   \n",
      "173  2-19 years  Percent of poverty level  Below 100%  2001-2004  2-19 years   \n",
      "174  2-19 years  Percent of poverty level  Below 100%  2003-2006  2-19 years   \n",
      "175  2-19 years  Percent of poverty level  Below 100%  2005-2008  2-19 years   \n",
      "\n",
      "     ESTIMATE   SE  \n",
      "171      12.6  1.2  \n",
      "172      17.6  1.1  \n",
      "173      17.9  1.3  \n",
      "174      18.9  1.4  \n",
      "175      19.9  1.4  \n"
     ]
    },
    {
     "data": {
      "text/plain": [
       "160"
      ]
     },
     "execution_count": 149,
     "metadata": {},
     "output_type": "execute_result"
    }
   ],
   "source": [
    "print(poverty_obesity.head())\n"
   ]
  },
  {
   "cell_type": "code",
   "execution_count": 168,
   "metadata": {},
   "outputs": [
    {
     "name": "stdout",
     "output_type": "stream",
     "text": [
      "        PANEL STUB_NAME  STUB_LABEL       YEAR         AGE  ESTIMATE   SE\n",
      "0  2-19 years     Total  2-19 years  1988-1994  2-19 years      10.0  0.5\n",
      "1  2-19 years     Total  2-19 years  1999-2002  2-19 years      14.8  0.7\n",
      "2  2-19 years     Total  2-19 years  2001-2004  2-19 years      16.3  0.8\n",
      "3  2-19 years     Total  2-19 years  2003-2006  2-19 years      16.3  0.9\n",
      "4  2-19 years     Total  2-19 years  2005-2008  2-19 years      16.2  0.9\n",
      "5  2-19 years     Total  2-19 years  2007-2010  2-19 years      16.8  0.7\n",
      "6  2-19 years     Total  2-19 years  2009-2012  2-19 years      16.9  0.6\n",
      "7  2-19 years     Total  2-19 years  2011-2014  2-19 years      17.0  0.7\n",
      "8  2-19 years     Total  2-19 years  2013-2016  2-19 years      17.8  0.8\n",
      "9  2-19 years     Total  2-19 years  2015-2018  2-19 years      18.9  0.8\n",
      "\n",
      "\n",
      "----------------------------------------------\n",
      "\n",
      "\n",
      "<class 'pandas.core.frame.DataFrame'>\n",
      "Index: 10 entries, 0 to 9\n",
      "Data columns (total 7 columns):\n",
      " #   Column      Non-Null Count  Dtype  \n",
      "---  ------      --------------  -----  \n",
      " 0   PANEL       10 non-null     object \n",
      " 1   STUB_NAME   10 non-null     object \n",
      " 2   STUB_LABEL  10 non-null     object \n",
      " 3   YEAR        10 non-null     object \n",
      " 4   AGE         10 non-null     object \n",
      " 5   ESTIMATE    10 non-null     float64\n",
      " 6   SE          10 non-null     float64\n",
      "dtypes: float64(2), object(5)\n",
      "memory usage: 640.0+ bytes\n",
      "10\n"
     ]
    },
    {
     "data": {
      "text/plain": [
       "0    DatetimeIndex(['1988-01-01', '1989-01-01', '19...\n",
       "1    DatetimeIndex(['1999-01-01', '2000-01-01', '20...\n",
       "2    DatetimeIndex(['2001-01-01', '2002-01-01', '20...\n",
       "3    DatetimeIndex(['2003-01-01', '2004-01-01', '20...\n",
       "4    DatetimeIndex(['2005-01-01', '2006-01-01', '20...\n",
       "5    DatetimeIndex(['2007-01-01', '2008-01-01', '20...\n",
       "6    DatetimeIndex(['2009-01-01', '2010-01-01', '20...\n",
       "7    DatetimeIndex(['2011-01-01', '2012-01-01', '20...\n",
       "8    DatetimeIndex(['2013-01-01', '2014-01-01', '20...\n",
       "9    DatetimeIndex(['2015-01-01', '2016-01-01', '20...\n",
       "Name: YEAR, dtype: object"
      ]
     },
     "execution_count": 168,
     "metadata": {},
     "output_type": "execute_result"
    }
   ],
   "source": [
    "print(total_obesity)\n",
    "print(\"\\n\\n----------------------------------------------\\n\\n\")\n",
    "total_obesity.info()\n",
    "print(len(total_obesity))\n",
    "def convert_time(time):\n",
    "    time_range = time.split('-') \n",
    "    return pd.date_range(start = time_range[0], end = time_range[1], freq = 'YS')\n",
    "\n",
    "\n",
    "total_obesity[\"YEAR\"].apply(convert_time)"
   ]
  },
  {
   "cell_type": "code",
   "execution_count": 148,
   "metadata": {},
   "outputs": [
    {
     "name": "stdout",
     "output_type": "stream",
     "text": [
      "         PANEL STUB_NAME STUB_LABEL       YEAR         AGE  ESTIMATE   SE\n",
      "10  2-19 years       Sex       Male  1988-1994  2-19 years      10.2  0.7\n",
      "11  2-19 years       Sex       Male  1999-2002  2-19 years      15.5  0.8\n",
      "12  2-19 years       Sex       Male  2001-2004  2-19 years      17.3  0.9\n",
      "13  2-19 years       Sex       Male  2003-2006  2-19 years      17.0  1.1\n",
      "14  2-19 years       Sex       Male  2005-2008  2-19 years      16.8  1.0\n"
     ]
    },
    {
     "data": {
      "text/plain": [
       "80"
      ]
     },
     "execution_count": 148,
     "metadata": {},
     "output_type": "execute_result"
    }
   ],
   "source": [
    "print(sex_obesity.head())\n"
   ]
  },
  {
   "cell_type": "code",
   "execution_count": 142,
   "metadata": {},
   "outputs": [
    {
     "name": "stdout",
     "output_type": "stream",
     "text": [
      "         PANEL STUB_NAME STUB_LABEL       YEAR        AGE  ESTIMATE   SE\n",
      "230  2-5 years       Age  2-5 years  1988-1994  2-5 years       7.2  0.7\n",
      "231  2-5 years       Age  2-5 years  1999-2002  2-5 years      10.3  1.2\n",
      "232  2-5 years       Age  2-5 years  2001-2004  2-5 years      12.4  1.2\n",
      "233  2-5 years       Age  2-5 years  2003-2006  2-5 years      12.5  1.0\n",
      "234  2-5 years       Age  2-5 years  2005-2008  2-5 years      10.5  0.9\n"
     ]
    }
   ],
   "source": [
    "print(age_obesity.head())"
   ]
  },
  {
   "cell_type": "markdown",
   "metadata": {},
   "source": [
    "## Exploratory Data Analysis (EDA) \n"
   ]
  },
  {
   "cell_type": "markdown",
   "metadata": {},
   "source": [
    "## Visualizations"
   ]
  },
  {
   "cell_type": "markdown",
   "metadata": {},
   "source": [
    "## Reflections \n",
    "\n",
    "## Next Steps"
   ]
  }
 ],
 "metadata": {
  "kernelspec": {
   "display_name": "Python 3 (ipykernel)",
   "language": "python",
   "name": "python3"
  },
  "language_info": {
   "codemirror_mode": {
    "name": "ipython",
    "version": 3
   },
   "file_extension": ".py",
   "mimetype": "text/x-python",
   "name": "python",
   "nbconvert_exporter": "python",
   "pygments_lexer": "ipython3",
   "version": "3.11.5"
  },
  "vscode": {
   "interpreter": {
    "hash": "31f2aee4e71d21fbe5cf8b01ff0e069b9275f58929596ceb00d14d90e3e16cd6"
   }
  }
 },
 "nbformat": 4,
 "nbformat_minor": 4
}
