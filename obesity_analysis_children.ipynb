{
 "cells": [
  {
   "cell_type": "markdown",
   "metadata": {},
   "source": [
    "# Obesity Among Children and Adolescents 2-19 Analysis\n",
    "This notebook contains analysis on obesity amongst children using age, sex, year, race, and other factors to determine what factors make individuals aged 2-19 more likely to be obese.\n",
    "## Project Introduction\n",
    "With obesity at all time rates in the United States it is important to understand the individuals most at risk. Obesity is a pressing public health concern with far-reaching implications for everyone. This analysis is focused on the critical issue of obesity among children and adolescents aged 2-19 years, exploring data from selected population characteristics. This information was made available by the Centers of Disease Control and Prevention (CDC) and contains data from 1988-2018. The data gives us access to information regarding percent poverty level, race, hispanic origin, age, and sex of a age range in a given year. Few interesting questions we are investigating are if income is the leading factor in obesity. Though, children and many adolscents do not have income, we can use the poverty level to ask the question if the leading factor of obesity in individuals 2-19 is poverty. Other questions that can be answered are is the trend in obesity the same in all races, or if younger age range are more affected by obesity. \n",
    "## Any Changes\n",
    "As of now, no changes have been made to the scope of the project since the check in. The current scope of the project is \n",
    "## Data Cleaning - Obesity Among Children and Adolescents 2-19 Analysis\n"
   ]
  },
  {
   "cell_type": "code",
   "execution_count": 19,
   "metadata": {},
   "outputs": [],
   "source": [
    "import pandas as pd\n",
    "import numpy as np\n",
    "import seaborn as sns\n",
    "import plotly.express as px\n",
    "%matplotlib inline\n",
    "import matplotlib.pyplot as plt\n",
    "from obesity_children import *"
   ]
  },
  {
   "cell_type": "markdown",
   "metadata": {},
   "source": [
    "### Before Cleaning Data Set\n",
    "Printed below is the original dataset"
   ]
  },
  {
   "cell_type": "code",
   "execution_count": 7,
   "metadata": {},
   "outputs": [
    {
     "data": {
      "text/html": [
       "<div>\n",
       "<style scoped>\n",
       "    .dataframe tbody tr th:only-of-type {\n",
       "        vertical-align: middle;\n",
       "    }\n",
       "\n",
       "    .dataframe tbody tr th {\n",
       "        vertical-align: top;\n",
       "    }\n",
       "\n",
       "    .dataframe thead th {\n",
       "        text-align: right;\n",
       "    }\n",
       "</style>\n",
       "<table border=\"1\" class=\"dataframe\">\n",
       "  <thead>\n",
       "    <tr style=\"text-align: right;\">\n",
       "      <th></th>\n",
       "      <th>INDICATOR</th>\n",
       "      <th>PANEL</th>\n",
       "      <th>PANEL_NUM</th>\n",
       "      <th>UNIT</th>\n",
       "      <th>UNIT_NUM</th>\n",
       "      <th>STUB_NAME</th>\n",
       "      <th>STUB_NAME_NUM</th>\n",
       "      <th>STUB_LABEL_NUM</th>\n",
       "      <th>STUB_LABEL</th>\n",
       "      <th>YEAR</th>\n",
       "      <th>YEAR_NUM</th>\n",
       "      <th>AGE</th>\n",
       "      <th>AGE_NUM</th>\n",
       "      <th>ESTIMATE</th>\n",
       "      <th>SE</th>\n",
       "      <th>FLAG</th>\n",
       "    </tr>\n",
       "  </thead>\n",
       "  <tbody>\n",
       "    <tr>\n",
       "      <th>0</th>\n",
       "      <td>Obesity among children and adolescents aged 2-...</td>\n",
       "      <td>2-19 years</td>\n",
       "      <td>1</td>\n",
       "      <td>Percent of population, crude</td>\n",
       "      <td>1</td>\n",
       "      <td>Total</td>\n",
       "      <td>0</td>\n",
       "      <td>0.0</td>\n",
       "      <td>2-19 years</td>\n",
       "      <td>1988-1994</td>\n",
       "      <td>1</td>\n",
       "      <td>2-19 years</td>\n",
       "      <td>0.0</td>\n",
       "      <td>10.0</td>\n",
       "      <td>0.5</td>\n",
       "      <td>NaN</td>\n",
       "    </tr>\n",
       "    <tr>\n",
       "      <th>1</th>\n",
       "      <td>Obesity among children and adolescents aged 2-...</td>\n",
       "      <td>2-19 years</td>\n",
       "      <td>1</td>\n",
       "      <td>Percent of population, crude</td>\n",
       "      <td>1</td>\n",
       "      <td>Total</td>\n",
       "      <td>0</td>\n",
       "      <td>0.0</td>\n",
       "      <td>2-19 years</td>\n",
       "      <td>1999-2002</td>\n",
       "      <td>2</td>\n",
       "      <td>2-19 years</td>\n",
       "      <td>0.0</td>\n",
       "      <td>14.8</td>\n",
       "      <td>0.7</td>\n",
       "      <td>NaN</td>\n",
       "    </tr>\n",
       "    <tr>\n",
       "      <th>2</th>\n",
       "      <td>Obesity among children and adolescents aged 2-...</td>\n",
       "      <td>2-19 years</td>\n",
       "      <td>1</td>\n",
       "      <td>Percent of population, crude</td>\n",
       "      <td>1</td>\n",
       "      <td>Total</td>\n",
       "      <td>0</td>\n",
       "      <td>0.0</td>\n",
       "      <td>2-19 years</td>\n",
       "      <td>2001-2004</td>\n",
       "      <td>3</td>\n",
       "      <td>2-19 years</td>\n",
       "      <td>0.0</td>\n",
       "      <td>16.3</td>\n",
       "      <td>0.8</td>\n",
       "      <td>NaN</td>\n",
       "    </tr>\n",
       "    <tr>\n",
       "      <th>3</th>\n",
       "      <td>Obesity among children and adolescents aged 2-...</td>\n",
       "      <td>2-19 years</td>\n",
       "      <td>1</td>\n",
       "      <td>Percent of population, crude</td>\n",
       "      <td>1</td>\n",
       "      <td>Total</td>\n",
       "      <td>0</td>\n",
       "      <td>0.0</td>\n",
       "      <td>2-19 years</td>\n",
       "      <td>2003-2006</td>\n",
       "      <td>4</td>\n",
       "      <td>2-19 years</td>\n",
       "      <td>0.0</td>\n",
       "      <td>16.3</td>\n",
       "      <td>0.9</td>\n",
       "      <td>NaN</td>\n",
       "    </tr>\n",
       "    <tr>\n",
       "      <th>4</th>\n",
       "      <td>Obesity among children and adolescents aged 2-...</td>\n",
       "      <td>2-19 years</td>\n",
       "      <td>1</td>\n",
       "      <td>Percent of population, crude</td>\n",
       "      <td>1</td>\n",
       "      <td>Total</td>\n",
       "      <td>0</td>\n",
       "      <td>0.0</td>\n",
       "      <td>2-19 years</td>\n",
       "      <td>2005-2008</td>\n",
       "      <td>5</td>\n",
       "      <td>2-19 years</td>\n",
       "      <td>0.0</td>\n",
       "      <td>16.2</td>\n",
       "      <td>0.9</td>\n",
       "      <td>NaN</td>\n",
       "    </tr>\n",
       "  </tbody>\n",
       "</table>\n",
       "</div>"
      ],
      "text/plain": [
       "                                           INDICATOR       PANEL  PANEL_NUM  \\\n",
       "0  Obesity among children and adolescents aged 2-...  2-19 years          1   \n",
       "1  Obesity among children and adolescents aged 2-...  2-19 years          1   \n",
       "2  Obesity among children and adolescents aged 2-...  2-19 years          1   \n",
       "3  Obesity among children and adolescents aged 2-...  2-19 years          1   \n",
       "4  Obesity among children and adolescents aged 2-...  2-19 years          1   \n",
       "\n",
       "                           UNIT  UNIT_NUM STUB_NAME  STUB_NAME_NUM  \\\n",
       "0  Percent of population, crude         1     Total              0   \n",
       "1  Percent of population, crude         1     Total              0   \n",
       "2  Percent of population, crude         1     Total              0   \n",
       "3  Percent of population, crude         1     Total              0   \n",
       "4  Percent of population, crude         1     Total              0   \n",
       "\n",
       "   STUB_LABEL_NUM  STUB_LABEL       YEAR  YEAR_NUM         AGE  AGE_NUM  \\\n",
       "0             0.0  2-19 years  1988-1994         1  2-19 years      0.0   \n",
       "1             0.0  2-19 years  1999-2002         2  2-19 years      0.0   \n",
       "2             0.0  2-19 years  2001-2004         3  2-19 years      0.0   \n",
       "3             0.0  2-19 years  2003-2006         4  2-19 years      0.0   \n",
       "4             0.0  2-19 years  2005-2008         5  2-19 years      0.0   \n",
       "\n",
       "   ESTIMATE   SE FLAG  \n",
       "0      10.0  0.5  NaN  \n",
       "1      14.8  0.7  NaN  \n",
       "2      16.3  0.8  NaN  \n",
       "3      16.3  0.9  NaN  \n",
       "4      16.2  0.9  NaN  "
      ]
     },
     "execution_count": 7,
     "metadata": {},
     "output_type": "execute_result"
    }
   ],
   "source": [
    "obesity_children = pd.read_csv(\"Obesity_among_children_and_adolescents_aged_2_19_years__by_selected_characteristics__United_States.csv\")\n",
    "obesity_children.head()\n"
   ]
  },
  {
   "cell_type": "code",
   "execution_count": 8,
   "metadata": {
    "scrolled": true
   },
   "outputs": [],
   "source": [
    "obesity_single_unique = remove_single_unique(obesity_children)\n",
    "obesity_clean = remove_num_columns(obesity_single_unique)\n",
    "sex_race_his_obesity, race_his_obesity, total_obesity, poverty_obesity, sex_obesity, age_obesity = final_clean(obesity_clean)"
   ]
  },
  {
   "cell_type": "markdown",
   "metadata": {},
   "source": [
    "### After Cleaning Data Set\n",
    "The functions above were called to clean the data. Below are the cleaned datasets split into categories based on population characteristics."
   ]
  },
  {
   "cell_type": "code",
   "execution_count": 9,
   "metadata": {},
   "outputs": [
    {
     "data": {
      "text/html": [
       "<div>\n",
       "<style scoped>\n",
       "    .dataframe tbody tr th:only-of-type {\n",
       "        vertical-align: middle;\n",
       "    }\n",
       "\n",
       "    .dataframe tbody tr th {\n",
       "        vertical-align: top;\n",
       "    }\n",
       "\n",
       "    .dataframe thead th {\n",
       "        text-align: right;\n",
       "    }\n",
       "</style>\n",
       "<table border=\"1\" class=\"dataframe\">\n",
       "  <thead>\n",
       "    <tr style=\"text-align: right;\">\n",
       "      <th></th>\n",
       "      <th>PANEL</th>\n",
       "      <th>STUB_NAME</th>\n",
       "      <th>STUB_LABEL</th>\n",
       "      <th>YEAR</th>\n",
       "      <th>AGE</th>\n",
       "      <th>ESTIMATE</th>\n",
       "      <th>SE</th>\n",
       "      <th>FLAG</th>\n",
       "    </tr>\n",
       "  </thead>\n",
       "  <tbody>\n",
       "    <tr>\n",
       "      <th>0</th>\n",
       "      <td>2-19 years</td>\n",
       "      <td>Total</td>\n",
       "      <td>2-19 years</td>\n",
       "      <td>1988-1994</td>\n",
       "      <td>2-19 years</td>\n",
       "      <td>10.0</td>\n",
       "      <td>0.5</td>\n",
       "      <td>NaN</td>\n",
       "    </tr>\n",
       "    <tr>\n",
       "      <th>1</th>\n",
       "      <td>2-19 years</td>\n",
       "      <td>Total</td>\n",
       "      <td>2-19 years</td>\n",
       "      <td>1999-2002</td>\n",
       "      <td>2-19 years</td>\n",
       "      <td>14.8</td>\n",
       "      <td>0.7</td>\n",
       "      <td>NaN</td>\n",
       "    </tr>\n",
       "    <tr>\n",
       "      <th>2</th>\n",
       "      <td>2-19 years</td>\n",
       "      <td>Total</td>\n",
       "      <td>2-19 years</td>\n",
       "      <td>2001-2004</td>\n",
       "      <td>2-19 years</td>\n",
       "      <td>16.3</td>\n",
       "      <td>0.8</td>\n",
       "      <td>NaN</td>\n",
       "    </tr>\n",
       "    <tr>\n",
       "      <th>3</th>\n",
       "      <td>2-19 years</td>\n",
       "      <td>Total</td>\n",
       "      <td>2-19 years</td>\n",
       "      <td>2003-2006</td>\n",
       "      <td>2-19 years</td>\n",
       "      <td>16.3</td>\n",
       "      <td>0.9</td>\n",
       "      <td>NaN</td>\n",
       "    </tr>\n",
       "    <tr>\n",
       "      <th>4</th>\n",
       "      <td>2-19 years</td>\n",
       "      <td>Total</td>\n",
       "      <td>2-19 years</td>\n",
       "      <td>2005-2008</td>\n",
       "      <td>2-19 years</td>\n",
       "      <td>16.2</td>\n",
       "      <td>0.9</td>\n",
       "      <td>NaN</td>\n",
       "    </tr>\n",
       "  </tbody>\n",
       "</table>\n",
       "</div>"
      ],
      "text/plain": [
       "        PANEL STUB_NAME  STUB_LABEL       YEAR         AGE  ESTIMATE   SE FLAG\n",
       "0  2-19 years     Total  2-19 years  1988-1994  2-19 years      10.0  0.5  NaN\n",
       "1  2-19 years     Total  2-19 years  1999-2002  2-19 years      14.8  0.7  NaN\n",
       "2  2-19 years     Total  2-19 years  2001-2004  2-19 years      16.3  0.8  NaN\n",
       "3  2-19 years     Total  2-19 years  2003-2006  2-19 years      16.3  0.9  NaN\n",
       "4  2-19 years     Total  2-19 years  2005-2008  2-19 years      16.2  0.9  NaN"
      ]
     },
     "execution_count": 9,
     "metadata": {},
     "output_type": "execute_result"
    }
   ],
   "source": [
    "total_obesity.head()"
   ]
  },
  {
   "cell_type": "code",
   "execution_count": 10,
   "metadata": {},
   "outputs": [
    {
     "data": {
      "text/html": [
       "<div>\n",
       "<style scoped>\n",
       "    .dataframe tbody tr th:only-of-type {\n",
       "        vertical-align: middle;\n",
       "    }\n",
       "\n",
       "    .dataframe tbody tr th {\n",
       "        vertical-align: top;\n",
       "    }\n",
       "\n",
       "    .dataframe thead th {\n",
       "        text-align: right;\n",
       "    }\n",
       "</style>\n",
       "<table border=\"1\" class=\"dataframe\">\n",
       "  <thead>\n",
       "    <tr style=\"text-align: right;\">\n",
       "      <th></th>\n",
       "      <th>PANEL</th>\n",
       "      <th>STUB_NAME</th>\n",
       "      <th>STUB_LABEL</th>\n",
       "      <th>YEAR</th>\n",
       "      <th>AGE</th>\n",
       "      <th>ESTIMATE</th>\n",
       "      <th>SE</th>\n",
       "      <th>FLAG</th>\n",
       "    </tr>\n",
       "  </thead>\n",
       "  <tbody>\n",
       "    <tr>\n",
       "      <th>171</th>\n",
       "      <td>2-19 years</td>\n",
       "      <td>Percent of poverty level</td>\n",
       "      <td>Below 100%</td>\n",
       "      <td>1988-1994</td>\n",
       "      <td>2-19 years</td>\n",
       "      <td>12.6</td>\n",
       "      <td>1.2</td>\n",
       "      <td>NaN</td>\n",
       "    </tr>\n",
       "    <tr>\n",
       "      <th>172</th>\n",
       "      <td>2-19 years</td>\n",
       "      <td>Percent of poverty level</td>\n",
       "      <td>Below 100%</td>\n",
       "      <td>1999-2002</td>\n",
       "      <td>2-19 years</td>\n",
       "      <td>17.6</td>\n",
       "      <td>1.1</td>\n",
       "      <td>NaN</td>\n",
       "    </tr>\n",
       "    <tr>\n",
       "      <th>173</th>\n",
       "      <td>2-19 years</td>\n",
       "      <td>Percent of poverty level</td>\n",
       "      <td>Below 100%</td>\n",
       "      <td>2001-2004</td>\n",
       "      <td>2-19 years</td>\n",
       "      <td>17.9</td>\n",
       "      <td>1.3</td>\n",
       "      <td>NaN</td>\n",
       "    </tr>\n",
       "    <tr>\n",
       "      <th>174</th>\n",
       "      <td>2-19 years</td>\n",
       "      <td>Percent of poverty level</td>\n",
       "      <td>Below 100%</td>\n",
       "      <td>2003-2006</td>\n",
       "      <td>2-19 years</td>\n",
       "      <td>18.9</td>\n",
       "      <td>1.4</td>\n",
       "      <td>NaN</td>\n",
       "    </tr>\n",
       "    <tr>\n",
       "      <th>175</th>\n",
       "      <td>2-19 years</td>\n",
       "      <td>Percent of poverty level</td>\n",
       "      <td>Below 100%</td>\n",
       "      <td>2005-2008</td>\n",
       "      <td>2-19 years</td>\n",
       "      <td>19.9</td>\n",
       "      <td>1.4</td>\n",
       "      <td>NaN</td>\n",
       "    </tr>\n",
       "  </tbody>\n",
       "</table>\n",
       "</div>"
      ],
      "text/plain": [
       "          PANEL                 STUB_NAME  STUB_LABEL       YEAR         AGE  \\\n",
       "171  2-19 years  Percent of poverty level  Below 100%  1988-1994  2-19 years   \n",
       "172  2-19 years  Percent of poverty level  Below 100%  1999-2002  2-19 years   \n",
       "173  2-19 years  Percent of poverty level  Below 100%  2001-2004  2-19 years   \n",
       "174  2-19 years  Percent of poverty level  Below 100%  2003-2006  2-19 years   \n",
       "175  2-19 years  Percent of poverty level  Below 100%  2005-2008  2-19 years   \n",
       "\n",
       "     ESTIMATE   SE FLAG  \n",
       "171      12.6  1.2  NaN  \n",
       "172      17.6  1.1  NaN  \n",
       "173      17.9  1.3  NaN  \n",
       "174      18.9  1.4  NaN  \n",
       "175      19.9  1.4  NaN  "
      ]
     },
     "execution_count": 10,
     "metadata": {},
     "output_type": "execute_result"
    }
   ],
   "source": [
    "poverty_obesity.head()"
   ]
  },
  {
   "cell_type": "code",
   "execution_count": 11,
   "metadata": {},
   "outputs": [
    {
     "data": {
      "text/html": [
       "<div>\n",
       "<style scoped>\n",
       "    .dataframe tbody tr th:only-of-type {\n",
       "        vertical-align: middle;\n",
       "    }\n",
       "\n",
       "    .dataframe tbody tr th {\n",
       "        vertical-align: top;\n",
       "    }\n",
       "\n",
       "    .dataframe thead th {\n",
       "        text-align: right;\n",
       "    }\n",
       "</style>\n",
       "<table border=\"1\" class=\"dataframe\">\n",
       "  <thead>\n",
       "    <tr style=\"text-align: right;\">\n",
       "      <th></th>\n",
       "      <th>PANEL</th>\n",
       "      <th>STUB_NAME</th>\n",
       "      <th>STUB_LABEL</th>\n",
       "      <th>YEAR</th>\n",
       "      <th>AGE</th>\n",
       "      <th>ESTIMATE</th>\n",
       "      <th>SE</th>\n",
       "      <th>FLAG</th>\n",
       "    </tr>\n",
       "  </thead>\n",
       "  <tbody>\n",
       "    <tr>\n",
       "      <th>80</th>\n",
       "      <td>2-19 years</td>\n",
       "      <td>Sex and race and Hispanic origin</td>\n",
       "      <td>Male: Not Hispanic or Latino: Black or African...</td>\n",
       "      <td>1988-1994</td>\n",
       "      <td>2-19 years</td>\n",
       "      <td>10.6</td>\n",
       "      <td>0.8</td>\n",
       "      <td>NaN</td>\n",
       "    </tr>\n",
       "    <tr>\n",
       "      <th>81</th>\n",
       "      <td>2-19 years</td>\n",
       "      <td>Sex and race and Hispanic origin</td>\n",
       "      <td>Male: Not Hispanic or Latino: Black or African...</td>\n",
       "      <td>1999-2002</td>\n",
       "      <td>2-19 years</td>\n",
       "      <td>16.0</td>\n",
       "      <td>0.9</td>\n",
       "      <td>NaN</td>\n",
       "    </tr>\n",
       "    <tr>\n",
       "      <th>82</th>\n",
       "      <td>2-19 years</td>\n",
       "      <td>Sex and race and Hispanic origin</td>\n",
       "      <td>Male: Not Hispanic or Latino: Black or African...</td>\n",
       "      <td>2001-2004</td>\n",
       "      <td>2-19 years</td>\n",
       "      <td>16.0</td>\n",
       "      <td>1.0</td>\n",
       "      <td>NaN</td>\n",
       "    </tr>\n",
       "    <tr>\n",
       "      <th>83</th>\n",
       "      <td>2-19 years</td>\n",
       "      <td>Sex and race and Hispanic origin</td>\n",
       "      <td>Male: Not Hispanic or Latino: Black or African...</td>\n",
       "      <td>2003-2006</td>\n",
       "      <td>2-19 years</td>\n",
       "      <td>17.4</td>\n",
       "      <td>1.0</td>\n",
       "      <td>NaN</td>\n",
       "    </tr>\n",
       "    <tr>\n",
       "      <th>84</th>\n",
       "      <td>2-19 years</td>\n",
       "      <td>Sex and race and Hispanic origin</td>\n",
       "      <td>Male: Not Hispanic or Latino: Black or African...</td>\n",
       "      <td>2005-2008</td>\n",
       "      <td>2-19 years</td>\n",
       "      <td>17.8</td>\n",
       "      <td>1.3</td>\n",
       "      <td>NaN</td>\n",
       "    </tr>\n",
       "  </tbody>\n",
       "</table>\n",
       "</div>"
      ],
      "text/plain": [
       "         PANEL                         STUB_NAME  \\\n",
       "80  2-19 years  Sex and race and Hispanic origin   \n",
       "81  2-19 years  Sex and race and Hispanic origin   \n",
       "82  2-19 years  Sex and race and Hispanic origin   \n",
       "83  2-19 years  Sex and race and Hispanic origin   \n",
       "84  2-19 years  Sex and race and Hispanic origin   \n",
       "\n",
       "                                           STUB_LABEL       YEAR         AGE  \\\n",
       "80  Male: Not Hispanic or Latino: Black or African...  1988-1994  2-19 years   \n",
       "81  Male: Not Hispanic or Latino: Black or African...  1999-2002  2-19 years   \n",
       "82  Male: Not Hispanic or Latino: Black or African...  2001-2004  2-19 years   \n",
       "83  Male: Not Hispanic or Latino: Black or African...  2003-2006  2-19 years   \n",
       "84  Male: Not Hispanic or Latino: Black or African...  2005-2008  2-19 years   \n",
       "\n",
       "    ESTIMATE   SE FLAG  \n",
       "80      10.6  0.8  NaN  \n",
       "81      16.0  0.9  NaN  \n",
       "82      16.0  1.0  NaN  \n",
       "83      17.4  1.0  NaN  \n",
       "84      17.8  1.3  NaN  "
      ]
     },
     "execution_count": 11,
     "metadata": {},
     "output_type": "execute_result"
    }
   ],
   "source": [
    "sex_race_his_obesity.head()"
   ]
  },
  {
   "cell_type": "code",
   "execution_count": 12,
   "metadata": {},
   "outputs": [
    {
     "data": {
      "text/plain": [
       "array(['Not Hispanic or Latino: White only',\n",
       "       'Not Hispanic or Latino: Black or African American only',\n",
       "       'Not Hispanic or Latino: Asian only',\n",
       "       'Hispanic or Latino: All races',\n",
       "       'Hispanic or Latino: Mexican: All races'], dtype=object)"
      ]
     },
     "execution_count": 12,
     "metadata": {},
     "output_type": "execute_result"
    }
   ],
   "source": [
    "race_his_obesity[\"STUB_LABEL\"].unique()"
   ]
  },
  {
   "cell_type": "markdown",
   "metadata": {},
   "source": [
    "## Exploratory Data Analysis (EDA) \n",
    "The graph below depicts the trend of obesity rates over time in individuals aged 2 to 19. The data of obesity percentage estimates span from 1988 to 2018, however, we use the starting dates to better understand the data. The blue graph represents the obesity rate and the orange line represents the standard error for each of the estimates. As seen below, the obesity rate increases dramatically from it being aroung 10% to almost 19% near 2016. Also, the data does not seem to have as much frequent data about obesity in individuals aged 2-19 from 1988-1999. When focused on the data we can see that the majority of data seems to be from 1999-2016. There has been steady increases in obesity with a higher rate of increase from the years 2015 and beyond. The estimates seem consistant and did not increase when the obesity rate increased."
   ]
  },
  {
   "cell_type": "code",
   "execution_count": 13,
   "metadata": {},
   "outputs": [
    {
     "name": "stderr",
     "output_type": "stream",
     "text": [
      "/Users/omgor/CS Projects/CS418/group-project-mind-masters/obesity_children.py:36: SettingWithCopyWarning: \n",
      "A value is trying to be set on a copy of a slice from a DataFrame.\n",
      "Try using .loc[row_indexer,col_indexer] = value instead\n",
      "\n",
      "See the caveats in the documentation: https://pandas.pydata.org/pandas-docs/stable/user_guide/indexing.html#returning-a-view-versus-a-copy\n",
      "  df['END_YEAR'] = pd.to_datetime(df['YEAR'].str.split('-', expand=True)[0], format='%Y')\n"
     ]
    },
    {
     "data": {
      "image/png": "[encoded data removed]",
      "text/plain": [
       "<Figure size 640x480 with 1 Axes>"
      ]
     },
     "metadata": {},
     "output_type": "display_data"
    }
   ],
   "source": [
    "obesity_EDA_visual(total_obesity)"
   ]
  },
  {
   "cell_type": "markdown",
   "metadata": {},
   "source": [
    "## Visualizations"
   ]
  },
  {
   "cell_type": "markdown",
   "metadata": {},
   "source": [
    "### Visual 1: Obesity Estimate based on Poverty Level and Age in individuals aged 2-19"
   ]
  },
  {
   "cell_type": "code",
   "execution_count": 20,
   "metadata": {},
   "outputs": [
    {
     "name": "stderr",
     "output_type": "stream",
     "text": [
      "/Users/omgor/CS Projects/CS418/group-project-mind-masters/obesity_children.py:49: SettingWithCopyWarning:\n",
      "\n",
      "\n",
      "A value is trying to be set on a copy of a slice from a DataFrame.\n",
      "Try using .loc[row_indexer,col_indexer] = value instead\n",
      "\n",
      "See the caveats in the documentation: https://pandas.pydata.org/pandas-docs/stable/user_guide/indexing.html#returning-a-view-versus-a-copy\n",
      "\n",
      "/Users/omgor/CS Projects/CS418/group-project-mind-masters/obesity_children.py:50: SettingWithCopyWarning:\n",
      "\n",
      "\n",
      "A value is trying to be set on a copy of a slice from a DataFrame.\n",
      "Try using .loc[row_indexer,col_indexer] = value instead\n",
      "\n",
      "See the caveats in the documentation: https://pandas.pydata.org/pandas-docs/stable/user_guide/indexing.html#returning-a-view-versus-a-copy\n",
      "\n",
      "/Users/omgor/CS Projects/CS418/group-project-mind-masters/obesity_children.py:51: FutureWarning:\n",
      "\n",
      "The default of observed=False is deprecated and will be changed to True in a future version of pandas. Pass observed=False to retain current behavior or observed=True to adopt the future default and silence this warning.\n",
      "\n",
      "/Users/omgor/anaconda3/envs/cs418env/lib/python3.11/site-packages/plotly/express/_core.py:1958: FutureWarning:\n",
      "\n",
      "The default of observed=False is deprecated and will be changed to True in a future version of pandas. Pass observed=False to retain current behavior or observed=True to adopt the future default and silence this warning.\n",
      "\n"
     ]
    },
    {
     "data": {
      "application/vnd.plotly.v1+json": {
       "config": {
        "plotlyServerURL": "https://plot.ly"
       },
       "data": [
        {
         "alignmentgroup": "True",
         "hovertemplate": "AGE=2-5 years<br>Poverty Levels (Highest to Least)=%{x}<br>Obesity Rate (%)=%{y}<extra></extra>",
         "legendgroup": "2-5 years",
         "marker": {
          "color": "#636efa",
          "pattern": {
           "shape": ""
          }
         },
         "name": "2-5 years",
         "offsetgroup": "2-5 years",
         "orientation": "v",
         "showlegend": true,
         "textposition": "auto",
         "type": "bar",
         "x": [
          "Below 100%",
          "100%-199%",
          "200%-399%",
          "400% or more"
         ],
         "xaxis": "x",
         "y": [
          12.77,
          12.01,
          10.6,
          7.12
         ],
         "yaxis": "y"
        },
        {
         "alignmentgroup": "True",
         "hovertemplate": "AGE=6-11 years<br>Poverty Levels (Highest to Least)=%{x}<br>Obesity Rate (%)=%{y}<extra></extra>",
         "legendgroup": "6-11 years",
         "marker": {
          "color": "#EF553B",
          "pattern": {
           "shape": ""
          }
         },
         "name": "6-11 years",
         "offsetgroup": "6-11 years",
         "orientation": "v",
         "showlegend": true,
         "textposition": "auto",
         "type": "bar",
         "x": [
          "Below 100%",
          "100%-199%",
          "200%-399%",
          "400% or more"
         ],
         "xaxis": "x",
         "y": [
          20.740000000000002,
          19.05,
          16.330000000000002,
          11.577777777777778
         ],
         "yaxis": "y"
        },
        {
         "alignmentgroup": "True",
         "hovertemplate": "AGE=12-19 years<br>Poverty Levels (Highest to Least)=%{x}<br>Obesity Rate (%)=%{y}<extra></extra>",
         "legendgroup": "12-19 years",
         "marker": {
          "color": "#00cc96",
          "pattern": {
           "shape": ""
          }
         },
         "name": "12-19 years",
         "offsetgroup": "12-19 years",
         "orientation": "v",
         "showlegend": true,
         "textposition": "auto",
         "type": "bar",
         "x": [
          "Below 100%",
          "100%-199%",
          "200%-399%",
          "400% or more"
         ],
         "xaxis": "x",
         "y": [
          22.05,
          19.72,
          17.55,
          13.322222222222223
         ],
         "yaxis": "y"
        }
       ],
       "layout": {
        "autosize": true,
        "barmode": "group",
        "legend": {
         "title": {
          "text": "AGE"
         },
         "tracegroupgap": 0
        },
        "template": {
         "data": {
          "bar": [
           {
            "error_x": {
             "color": "#2a3f5f"
            },
            "error_y": {
             "color": "#2a3f5f"
            },
            "marker": {
             "line": {
              "color": "#E5ECF6",
              "width": 0.5
             },
             "pattern": {
              "fillmode": "overlay",
              "size": 10,
              "solidity": 0.2
             }
            },
            "type": "bar"
           }
          ],
          "barpolar": [
           {
            "marker": {
             "line": {
              "color": "#E5ECF6",
              "width": 0.5
             },
             "pattern": {
              "fillmode": "overlay",
              "size": 10,
              "solidity": 0.2
             }
            },
            "type": "barpolar"
           }
          ],
          "carpet": [
           {
            "aaxis": {
             "endlinecolor": "#2a3f5f",
             "gridcolor": "white",
             "linecolor": "white",
             "minorgridcolor": "white",
             "startlinecolor": "#2a3f5f"
            },
            "baxis": {
             "endlinecolor": "#2a3f5f",
             "gridcolor": "white",
             "linecolor": "white",
             "minorgridcolor": "white",
             "startlinecolor": "#2a3f5f"
            },
            "type": "carpet"
           }
          ],
          "choropleth": [
           {
            "colorbar": {
             "outlinewidth": 0,
             "ticks": ""
            },
            "type": "choropleth"
           }
          ],
          "contour": [
           {
            "colorbar": {
             "outlinewidth": 0,
             "ticks": ""
            },
            "colorscale": [
             [
              0,
              "#0d0887"
             ],
             [
              0.1111111111111111,
              "#46039f"
             ],
             [
              0.2222222222222222,
              "#7201a8"
             ],
             [
              0.3333333333333333,
              "#9c179e"
             ],
             [
              0.4444444444444444,
              "#bd3786"
             ],
             [
              0.5555555555555556,
              "#d8576b"
             ],
             [
              0.6666666666666666,
              "#ed7953"
             ],
             [
              0.7777777777777778,
              "#fb9f3a"
             ],
             [
              0.8888888888888888,
              "#fdca26"
             ],
             [
              1,
              "#f0f921"
             ]
            ],
            "type": "contour"
           }
          ],
          "contourcarpet": [
           {
            "colorbar": {
             "outlinewidth": 0,
             "ticks": ""
            },
            "type": "contourcarpet"
           }
          ],
          "heatmap": [
           {
            "colorbar": {
             "outlinewidth": 0,
             "ticks": ""
            },
            "colorscale": [
             [
              0,
              "#0d0887"
             ],
             [
              0.1111111111111111,
              "#46039f"
             ],
             [
              0.2222222222222222,
              "#7201a8"
             ],
             [
              0.3333333333333333,
              "#9c179e"
             ],
             [
              0.4444444444444444,
              "#bd3786"
             ],
             [
              0.5555555555555556,
              "#d8576b"
             ],
             [
              0.6666666666666666,
              "#ed7953"
             ],
             [
              0.7777777777777778,
              "#fb9f3a"
             ],
             [
              0.8888888888888888,
              "#fdca26"
             ],
             [
              1,
              "#f0f921"
             ]
            ],
            "type": "heatmap"
           }
          ],
          "heatmapgl": [
           {
            "colorbar": {
             "outlinewidth": 0,
             "ticks": ""
            },
            "colorscale": [
             [
              0,
              "#0d0887"
             ],
             [
              0.1111111111111111,
              "#46039f"
             ],
             [
              0.2222222222222222,
              "#7201a8"
             ],
             [
              0.3333333333333333,
              "#9c179e"
             ],
             [
              0.4444444444444444,
              "#bd3786"
             ],
             [
              0.5555555555555556,
              "#d8576b"
             ],
             [
              0.6666666666666666,
              "#ed7953"
             ],
             [
              0.7777777777777778,
              "#fb9f3a"
             ],
             [
              0.8888888888888888,
              "#fdca26"
             ],
             [
              1,
              "#f0f921"
             ]
            ],
            "type": "heatmapgl"
           }
          ],
          "histogram": [
           {
            "marker": {
             "pattern": {
              "fillmode": "overlay",
              "size": 10,
              "solidity": 0.2
             }
            },
            "type": "histogram"
           }
          ],
          "histogram2d": [
           {
            "colorbar": {
             "outlinewidth": 0,
             "ticks": ""
            },
            "colorscale": [
             [
              0,
              "#0d0887"
             ],
             [
              0.1111111111111111,
              "#46039f"
             ],
             [
              0.2222222222222222,
              "#7201a8"
             ],
             [
              0.3333333333333333,
              "#9c179e"
             ],
             [
              0.4444444444444444,
              "#bd3786"
             ],
             [
              0.5555555555555556,
              "#d8576b"
             ],
             [
              0.6666666666666666,
              "#ed7953"
             ],
             [
              0.7777777777777778,
              "#fb9f3a"
             ],
             [
              0.8888888888888888,
              "#fdca26"
             ],
             [
              1,
              "#f0f921"
             ]
            ],
            "type": "histogram2d"
           }
          ],
          "histogram2dcontour": [
           {
            "colorbar": {
             "outlinewidth": 0,
             "ticks": ""
            },
            "colorscale": [
             [
              0,
              "#0d0887"
             ],
             [
              0.1111111111111111,
              "#46039f"
             ],
             [
              0.2222222222222222,
              "#7201a8"
             ],
             [
              0.3333333333333333,
              "#9c179e"
             ],
             [
              0.4444444444444444,
              "#bd3786"
             ],
             [
              0.5555555555555556,
              "#d8576b"
             ],
             [
              0.6666666666666666,
              "#ed7953"
             ],
             [
              0.7777777777777778,
              "#fb9f3a"
             ],
             [
              0.8888888888888888,
              "#fdca26"
             ],
             [
              1,
              "#f0f921"
             ]
            ],
            "type": "histogram2dcontour"
           }
          ],
          "mesh3d": [
           {
            "colorbar": {
             "outlinewidth": 0,
             "ticks": ""
            },
            "type": "mesh3d"
           }
          ],
          "parcoords": [
           {
            "line": {
             "colorbar": {
              "outlinewidth": 0,
              "ticks": ""
             }
            },
            "type": "parcoords"
           }
          ],
          "pie": [
           {
            "automargin": true,
            "type": "pie"
           }
          ],
          "scatter": [
           {
            "fillpattern": {
             "fillmode": "overlay",
             "size": 10,
             "solidity": 0.2
            },
            "type": "scatter"
           }
          ],
          "scatter3d": [
           {
            "line": {
             "colorbar": {
              "outlinewidth": 0,
              "ticks": ""
             }
            },
            "marker": {
             "colorbar": {
              "outlinewidth": 0,
              "ticks": ""
             }
            },
            "type": "scatter3d"
           }
          ],
          "scattercarpet": [
           {
            "marker": {
             "colorbar": {
              "outlinewidth": 0,
              "ticks": ""
             }
            },
            "type": "scattercarpet"
           }
          ],
          "scattergeo": [
           {
            "marker": {
             "colorbar": {
              "outlinewidth": 0,
              "ticks": ""
             }
            },
            "type": "scattergeo"
           }
          ],
          "scattergl": [
           {
            "marker": {
             "colorbar": {
              "outlinewidth": 0,
              "ticks": ""
             }
            },
            "type": "scattergl"
           }
          ],
          "scattermapbox": [
           {
            "marker": {
             "colorbar": {
              "outlinewidth": 0,
              "ticks": ""
             }
            },
            "type": "scattermapbox"
           }
          ],
          "scatterpolar": [
           {
            "marker": {
             "colorbar": {
              "outlinewidth": 0,
              "ticks": ""
             }
            },
            "type": "scatterpolar"
           }
          ],
          "scatterpolargl": [
           {
            "marker": {
             "colorbar": {
              "outlinewidth": 0,
              "ticks": ""
             }
            },
            "type": "scatterpolargl"
           }
          ],
          "scatterternary": [
           {
            "marker": {
             "colorbar": {
              "outlinewidth": 0,
              "ticks": ""
             }
            },
            "type": "scatterternary"
           }
          ],
          "surface": [
           {
            "colorbar": {
             "outlinewidth": 0,
             "ticks": ""
            },
            "colorscale": [
             [
              0,
              "#0d0887"
             ],
             [
              0.1111111111111111,
              "#46039f"
             ],
             [
              0.2222222222222222,
              "#7201a8"
             ],
             [
              0.3333333333333333,
              "#9c179e"
             ],
             [
              0.4444444444444444,
              "#bd3786"
             ],
             [
              0.5555555555555556,
              "#d8576b"
             ],
             [
              0.6666666666666666,
              "#ed7953"
             ],
             [
              0.7777777777777778,
              "#fb9f3a"
             ],
             [
              0.8888888888888888,
              "#fdca26"
             ],
             [
              1,
              "#f0f921"
             ]
            ],
            "type": "surface"
           }
          ],
          "table": [
           {
            "cells": {
             "fill": {
              "color": "#EBF0F8"
             },
             "line": {
              "color": "white"
             }
            },
            "header": {
             "fill": {
              "color": "#C8D4E3"
             },
             "line": {
              "color": "white"
             }
            },
            "type": "table"
           }
          ]
         },
         "layout": {
          "annotationdefaults": {
           "arrowcolor": "#2a3f5f",
           "arrowhead": 0,
           "arrowwidth": 1
          },
          "autotypenumbers": "strict",
          "coloraxis": {
           "colorbar": {
            "outlinewidth": 0,
            "ticks": ""
           }
          },
          "colorscale": {
           "diverging": [
            [
             0,
             "#8e0152"
            ],
            [
             0.1,
             "#c51b7d"
            ],
            [
             0.2,
             "#de77ae"
            ],
            [
             0.3,
             "#f1b6da"
            ],
            [
             0.4,
             "#fde0ef"
            ],
            [
             0.5,
             "#f7f7f7"
            ],
            [
             0.6,
             "#e6f5d0"
            ],
            [
             0.7,
             "#b8e186"
            ],
            [
             0.8,
             "#7fbc41"
            ],
            [
             0.9,
             "#4d9221"
            ],
            [
             1,
             "#276419"
            ]
           ],
           "sequential": [
            [
             0,
             "#0d0887"
            ],
            [
             0.1111111111111111,
             "#46039f"
            ],
            [
             0.2222222222222222,
             "#7201a8"
            ],
            [
             0.3333333333333333,
             "#9c179e"
            ],
            [
             0.4444444444444444,
             "#bd3786"
            ],
            [
             0.5555555555555556,
             "#d8576b"
            ],
            [
             0.6666666666666666,
             "#ed7953"
            ],
            [
             0.7777777777777778,
             "#fb9f3a"
            ],
            [
             0.8888888888888888,
             "#fdca26"
            ],
            [
             1,
             "#f0f921"
            ]
           ],
           "sequentialminus": [
            [
             0,
             "#0d0887"
            ],
            [
             0.1111111111111111,
             "#46039f"
            ],
            [
             0.2222222222222222,
             "#7201a8"
            ],
            [
             0.3333333333333333,
             "#9c179e"
            ],
            [
             0.4444444444444444,
             "#bd3786"
            ],
            [
             0.5555555555555556,
             "#d8576b"
            ],
            [
             0.6666666666666666,
             "#ed7953"
            ],
            [
             0.7777777777777778,
             "#fb9f3a"
            ],
            [
             0.8888888888888888,
             "#fdca26"
            ],
            [
             1,
             "#f0f921"
            ]
           ]
          },
          "colorway": [
           "#636efa",
           "#EF553B",
           "#00cc96",
           "#ab63fa",
           "#FFA15A",
           "#19d3f3",
           "#FF6692",
           "#B6E880",
           "#FF97FF",
           "#FECB52"
          ],
          "font": {
           "color": "#2a3f5f"
          },
          "geo": {
           "bgcolor": "white",
           "lakecolor": "white",
           "landcolor": "#E5ECF6",
           "showlakes": true,
           "showland": true,
           "subunitcolor": "white"
          },
          "hoverlabel": {
           "align": "left"
          },
          "hovermode": "closest",
          "mapbox": {
           "style": "light"
          },
          "paper_bgcolor": "white",
          "plot_bgcolor": "#E5ECF6",
          "polar": {
           "angularaxis": {
            "gridcolor": "white",
            "linecolor": "white",
            "ticks": ""
           },
           "bgcolor": "#E5ECF6",
           "radialaxis": {
            "gridcolor": "white",
            "linecolor": "white",
            "ticks": ""
           }
          },
          "scene": {
           "xaxis": {
            "backgroundcolor": "#E5ECF6",
            "gridcolor": "white",
            "gridwidth": 2,
            "linecolor": "white",
            "showbackground": true,
            "ticks": "",
            "zerolinecolor": "white"
           },
           "yaxis": {
            "backgroundcolor": "#E5ECF6",
            "gridcolor": "white",
            "gridwidth": 2,
            "linecolor": "white",
            "showbackground": true,
            "ticks": "",
            "zerolinecolor": "white"
           },
           "zaxis": {
            "backgroundcolor": "#E5ECF6",
            "gridcolor": "white",
            "gridwidth": 2,
            "linecolor": "white",
            "showbackground": true,
            "ticks": "",
            "zerolinecolor": "white"
           }
          },
          "shapedefaults": {
           "line": {
            "color": "#2a3f5f"
           }
          },
          "ternary": {
           "aaxis": {
            "gridcolor": "white",
            "linecolor": "white",
            "ticks": ""
           },
           "baxis": {
            "gridcolor": "white",
            "linecolor": "white",
            "ticks": ""
           },
           "bgcolor": "#E5ECF6",
           "caxis": {
            "gridcolor": "white",
            "linecolor": "white",
            "ticks": ""
           }
          },
          "title": {
           "x": 0.05
          },
          "xaxis": {
           "automargin": true,
           "gridcolor": "white",
           "linecolor": "white",
           "ticks": "",
           "title": {
            "standoff": 15
           },
           "zerolinecolor": "white",
           "zerolinewidth": 2
          },
          "yaxis": {
           "automargin": true,
           "gridcolor": "white",
           "linecolor": "white",
           "ticks": "",
           "title": {
            "standoff": 15
           },
           "zerolinecolor": "white",
           "zerolinewidth": 2
          }
         }
        },
        "title": {
         "text": "Obesity Estimate based on Poverty Level and Age in individuals aged 2-19"
        },
        "xaxis": {
         "anchor": "y",
         "autorange": true,
         "domain": [
          0,
          1
         ],
         "range": [
          -0.5,
          3.5
         ],
         "title": {
          "text": "Poverty Levels (Highest to Least)"
         },
         "type": "category"
        },
        "yaxis": {
         "anchor": "x",
         "autorange": true,
         "domain": [
          0,
          1
         ],
         "range": [
          0,
          23.210526315789476
         ],
         "title": {
          "text": "Obesity Rate (%)"
         },
         "type": "linear"
        }
       }
      },
      "image/png": "[encoded data removed]",
      "text/html": [
       "<div>                            <div id=\"74f6e32e-0a72-4df3-ac40-0be1229b6e9f\" class=\"plotly-graph-div\" style=\"height:525px; width:100%;\"></div>            <script type=\"text/javascript\">                require([\"plotly\"], function(Plotly) {                    window.PLOTLYENV=window.PLOTLYENV || {};                                    if (document.getElementById(\"74f6e32e-0a72-4df3-ac40-0be1229b6e9f\")) {                    Plotly.newPlot(                        \"74f6e32e-0a72-4df3-ac40-0be1229b6e9f\",                        [{\"alignmentgroup\":\"True\",\"hovertemplate\":\"AGE=2-5 years<br>Poverty Levels (Highest to Least)=%{x}<br>Obesity Rate (%)=%{y}<extra></extra>\",\"legendgroup\":\"2-5 years\",\"marker\":{\"color\":\"#636efa\",\"pattern\":{\"shape\":\"\"}},\"name\":\"2-5 years\",\"offsetgroup\":\"2-5 years\",\"orientation\":\"v\",\"showlegend\":true,\"textposition\":\"auto\",\"x\":[\"Below 100%\",\"100%-199%\",\"200%-399%\",\"400% or more\"],\"xaxis\":\"x\",\"y\":[12.77,12.01,10.6,7.12],\"yaxis\":\"y\",\"type\":\"bar\"},{\"alignmentgroup\":\"True\",\"hovertemplate\":\"AGE=6-11 years<br>Poverty Levels (Highest to Least)=%{x}<br>Obesity Rate (%)=%{y}<extra></extra>\",\"legendgroup\":\"6-11 years\",\"marker\":{\"color\":\"#EF553B\",\"pattern\":{\"shape\":\"\"}},\"name\":\"6-11 years\",\"offsetgroup\":\"6-11 years\",\"orientation\":\"v\",\"showlegend\":true,\"textposition\":\"auto\",\"x\":[\"Below 100%\",\"100%-199%\",\"200%-399%\",\"400% or more\"],\"xaxis\":\"x\",\"y\":[20.740000000000002,19.05,16.330000000000002,11.577777777777778],\"yaxis\":\"y\",\"type\":\"bar\"},{\"alignmentgroup\":\"True\",\"hovertemplate\":\"AGE=12-19 years<br>Poverty Levels (Highest to Least)=%{x}<br>Obesity Rate (%)=%{y}<extra></extra>\",\"legendgroup\":\"12-19 years\",\"marker\":{\"color\":\"#00cc96\",\"pattern\":{\"shape\":\"\"}},\"name\":\"12-19 years\",\"offsetgroup\":\"12-19 years\",\"orientation\":\"v\",\"showlegend\":true,\"textposition\":\"auto\",\"x\":[\"Below 100%\",\"100%-199%\",\"200%-399%\",\"400% or more\"],\"xaxis\":\"x\",\"y\":[22.05,19.72,17.55,13.322222222222223],\"yaxis\":\"y\",\"type\":\"bar\"}],                        {\"template\":{\"data\":{\"histogram2dcontour\":[{\"type\":\"histogram2dcontour\",\"colorbar\":{\"outlinewidth\":0,\"ticks\":\"\"},\"colorscale\":[[0.0,\"#0d0887\"],[0.1111111111111111,\"#46039f\"],[0.2222222222222222,\"#7201a8\"],[0.3333333333333333,\"#9c179e\"],[0.4444444444444444,\"#bd3786\"],[0.5555555555555556,\"#d8576b\"],[0.6666666666666666,\"#ed7953\"],[0.7777777777777778,\"#fb9f3a\"],[0.8888888888888888,\"#fdca26\"],[1.0,\"#f0f921\"]]}],\"choropleth\":[{\"type\":\"choropleth\",\"colorbar\":{\"outlinewidth\":0,\"ticks\":\"\"}}],\"histogram2d\":[{\"type\":\"histogram2d\",\"colorbar\":{\"outlinewidth\":0,\"ticks\":\"\"},\"colorscale\":[[0.0,\"#0d0887\"],[0.1111111111111111,\"#46039f\"],[0.2222222222222222,\"#7201a8\"],[0.3333333333333333,\"#9c179e\"],[0.4444444444444444,\"#bd3786\"],[0.5555555555555556,\"#d8576b\"],[0.6666666666666666,\"#ed7953\"],[0.7777777777777778,\"#fb9f3a\"],[0.8888888888888888,\"#fdca26\"],[1.0,\"#f0f921\"]]}],\"heatmap\":[{\"type\":\"heatmap\",\"colorbar\":{\"outlinewidth\":0,\"ticks\":\"\"},\"colorscale\":[[0.0,\"#0d0887\"],[0.1111111111111111,\"#46039f\"],[0.2222222222222222,\"#7201a8\"],[0.3333333333333333,\"#9c179e\"],[0.4444444444444444,\"#bd3786\"],[0.5555555555555556,\"#d8576b\"],[0.6666666666666666,\"#ed7953\"],[0.7777777777777778,\"#fb9f3a\"],[0.8888888888888888,\"#fdca26\"],[1.0,\"#f0f921\"]]}],\"heatmapgl\":[{\"type\":\"heatmapgl\",\"colorbar\":{\"outlinewidth\":0,\"ticks\":\"\"},\"colorscale\":[[0.0,\"#0d0887\"],[0.1111111111111111,\"#46039f\"],[0.2222222222222222,\"#7201a8\"],[0.3333333333333333,\"#9c179e\"],[0.4444444444444444,\"#bd3786\"],[0.5555555555555556,\"#d8576b\"],[0.6666666666666666,\"#ed7953\"],[0.7777777777777778,\"#fb9f3a\"],[0.8888888888888888,\"#fdca26\"],[1.0,\"#f0f921\"]]}],\"contourcarpet\":[{\"type\":\"contourcarpet\",\"colorbar\":{\"outlinewidth\":0,\"ticks\":\"\"}}],\"contour\":[{\"type\":\"contour\",\"colorbar\":{\"outlinewidth\":0,\"ticks\":\"\"},\"colorscale\":[[0.0,\"#0d0887\"],[0.1111111111111111,\"#46039f\"],[0.2222222222222222,\"#7201a8\"],[0.3333333333333333,\"#9c179e\"],[0.4444444444444444,\"#bd3786\"],[0.5555555555555556,\"#d8576b\"],[0.6666666666666666,\"#ed7953\"],[0.7777777777777778,\"#fb9f3a\"],[0.8888888888888888,\"#fdca26\"],[1.0,\"#f0f921\"]]}],\"surface\":[{\"type\":\"surface\",\"colorbar\":{\"outlinewidth\":0,\"ticks\":\"\"},\"colorscale\":[[0.0,\"#0d0887\"],[0.1111111111111111,\"#46039f\"],[0.2222222222222222,\"#7201a8\"],[0.3333333333333333,\"#9c179e\"],[0.4444444444444444,\"#bd3786\"],[0.5555555555555556,\"#d8576b\"],[0.6666666666666666,\"#ed7953\"],[0.7777777777777778,\"#fb9f3a\"],[0.8888888888888888,\"#fdca26\"],[1.0,\"#f0f921\"]]}],\"mesh3d\":[{\"type\":\"mesh3d\",\"colorbar\":{\"outlinewidth\":0,\"ticks\":\"\"}}],\"scatter\":[{\"fillpattern\":{\"fillmode\":\"overlay\",\"size\":10,\"solidity\":0.2},\"type\":\"scatter\"}],\"parcoords\":[{\"type\":\"parcoords\",\"line\":{\"colorbar\":{\"outlinewidth\":0,\"ticks\":\"\"}}}],\"scatterpolargl\":[{\"type\":\"scatterpolargl\",\"marker\":{\"colorbar\":{\"outlinewidth\":0,\"ticks\":\"\"}}}],\"bar\":[{\"error_x\":{\"color\":\"#2a3f5f\"},\"error_y\":{\"color\":\"#2a3f5f\"},\"marker\":{\"line\":{\"color\":\"#E5ECF6\",\"width\":0.5},\"pattern\":{\"fillmode\":\"overlay\",\"size\":10,\"solidity\":0.2}},\"type\":\"bar\"}],\"scattergeo\":[{\"type\":\"scattergeo\",\"marker\":{\"colorbar\":{\"outlinewidth\":0,\"ticks\":\"\"}}}],\"scatterpolar\":[{\"type\":\"scatterpolar\",\"marker\":{\"colorbar\":{\"outlinewidth\":0,\"ticks\":\"\"}}}],\"histogram\":[{\"marker\":{\"pattern\":{\"fillmode\":\"overlay\",\"size\":10,\"solidity\":0.2}},\"type\":\"histogram\"}],\"scattergl\":[{\"type\":\"scattergl\",\"marker\":{\"colorbar\":{\"outlinewidth\":0,\"ticks\":\"\"}}}],\"scatter3d\":[{\"type\":\"scatter3d\",\"line\":{\"colorbar\":{\"outlinewidth\":0,\"ticks\":\"\"}},\"marker\":{\"colorbar\":{\"outlinewidth\":0,\"ticks\":\"\"}}}],\"scattermapbox\":[{\"type\":\"scattermapbox\",\"marker\":{\"colorbar\":{\"outlinewidth\":0,\"ticks\":\"\"}}}],\"scatterternary\":[{\"type\":\"scatterternary\",\"marker\":{\"colorbar\":{\"outlinewidth\":0,\"ticks\":\"\"}}}],\"scattercarpet\":[{\"type\":\"scattercarpet\",\"marker\":{\"colorbar\":{\"outlinewidth\":0,\"ticks\":\"\"}}}],\"carpet\":[{\"aaxis\":{\"endlinecolor\":\"#2a3f5f\",\"gridcolor\":\"white\",\"linecolor\":\"white\",\"minorgridcolor\":\"white\",\"startlinecolor\":\"#2a3f5f\"},\"baxis\":{\"endlinecolor\":\"#2a3f5f\",\"gridcolor\":\"white\",\"linecolor\":\"white\",\"minorgridcolor\":\"white\",\"startlinecolor\":\"#2a3f5f\"},\"type\":\"carpet\"}],\"table\":[{\"cells\":{\"fill\":{\"color\":\"#EBF0F8\"},\"line\":{\"color\":\"white\"}},\"header\":{\"fill\":{\"color\":\"#C8D4E3\"},\"line\":{\"color\":\"white\"}},\"type\":\"table\"}],\"barpolar\":[{\"marker\":{\"line\":{\"color\":\"#E5ECF6\",\"width\":0.5},\"pattern\":{\"fillmode\":\"overlay\",\"size\":10,\"solidity\":0.2}},\"type\":\"barpolar\"}],\"pie\":[{\"automargin\":true,\"type\":\"pie\"}]},\"layout\":{\"autotypenumbers\":\"strict\",\"colorway\":[\"#636efa\",\"#EF553B\",\"#00cc96\",\"#ab63fa\",\"#FFA15A\",\"#19d3f3\",\"#FF6692\",\"#B6E880\",\"#FF97FF\",\"#FECB52\"],\"font\":{\"color\":\"#2a3f5f\"},\"hovermode\":\"closest\",\"hoverlabel\":{\"align\":\"left\"},\"paper_bgcolor\":\"white\",\"plot_bgcolor\":\"#E5ECF6\",\"polar\":{\"bgcolor\":\"#E5ECF6\",\"angularaxis\":{\"gridcolor\":\"white\",\"linecolor\":\"white\",\"ticks\":\"\"},\"radialaxis\":{\"gridcolor\":\"white\",\"linecolor\":\"white\",\"ticks\":\"\"}},\"ternary\":{\"bgcolor\":\"#E5ECF6\",\"aaxis\":{\"gridcolor\":\"white\",\"linecolor\":\"white\",\"ticks\":\"\"},\"baxis\":{\"gridcolor\":\"white\",\"linecolor\":\"white\",\"ticks\":\"\"},\"caxis\":{\"gridcolor\":\"white\",\"linecolor\":\"white\",\"ticks\":\"\"}},\"coloraxis\":{\"colorbar\":{\"outlinewidth\":0,\"ticks\":\"\"}},\"colorscale\":{\"sequential\":[[0.0,\"#0d0887\"],[0.1111111111111111,\"#46039f\"],[0.2222222222222222,\"#7201a8\"],[0.3333333333333333,\"#9c179e\"],[0.4444444444444444,\"#bd3786\"],[0.5555555555555556,\"#d8576b\"],[0.6666666666666666,\"#ed7953\"],[0.7777777777777778,\"#fb9f3a\"],[0.8888888888888888,\"#fdca26\"],[1.0,\"#f0f921\"]],\"sequentialminus\":[[0.0,\"#0d0887\"],[0.1111111111111111,\"#46039f\"],[0.2222222222222222,\"#7201a8\"],[0.3333333333333333,\"#9c179e\"],[0.4444444444444444,\"#bd3786\"],[0.5555555555555556,\"#d8576b\"],[0.6666666666666666,\"#ed7953\"],[0.7777777777777778,\"#fb9f3a\"],[0.8888888888888888,\"#fdca26\"],[1.0,\"#f0f921\"]],\"diverging\":[[0,\"#8e0152\"],[0.1,\"#c51b7d\"],[0.2,\"#de77ae\"],[0.3,\"#f1b6da\"],[0.4,\"#fde0ef\"],[0.5,\"#f7f7f7\"],[0.6,\"#e6f5d0\"],[0.7,\"#b8e186\"],[0.8,\"#7fbc41\"],[0.9,\"#4d9221\"],[1,\"#276419\"]]},\"xaxis\":{\"gridcolor\":\"white\",\"linecolor\":\"white\",\"ticks\":\"\",\"title\":{\"standoff\":15},\"zerolinecolor\":\"white\",\"automargin\":true,\"zerolinewidth\":2},\"yaxis\":{\"gridcolor\":\"white\",\"linecolor\":\"white\",\"ticks\":\"\",\"title\":{\"standoff\":15},\"zerolinecolor\":\"white\",\"automargin\":true,\"zerolinewidth\":2},\"scene\":{\"xaxis\":{\"backgroundcolor\":\"#E5ECF6\",\"gridcolor\":\"white\",\"linecolor\":\"white\",\"showbackground\":true,\"ticks\":\"\",\"zerolinecolor\":\"white\",\"gridwidth\":2},\"yaxis\":{\"backgroundcolor\":\"#E5ECF6\",\"gridcolor\":\"white\",\"linecolor\":\"white\",\"showbackground\":true,\"ticks\":\"\",\"zerolinecolor\":\"white\",\"gridwidth\":2},\"zaxis\":{\"backgroundcolor\":\"#E5ECF6\",\"gridcolor\":\"white\",\"linecolor\":\"white\",\"showbackground\":true,\"ticks\":\"\",\"zerolinecolor\":\"white\",\"gridwidth\":2}},\"shapedefaults\":{\"line\":{\"color\":\"#2a3f5f\"}},\"annotationdefaults\":{\"arrowcolor\":\"#2a3f5f\",\"arrowhead\":0,\"arrowwidth\":1},\"geo\":{\"bgcolor\":\"white\",\"landcolor\":\"#E5ECF6\",\"subunitcolor\":\"white\",\"showland\":true,\"showlakes\":true,\"lakecolor\":\"white\"},\"title\":{\"x\":0.05},\"mapbox\":{\"style\":\"light\"}}},\"xaxis\":{\"anchor\":\"y\",\"domain\":[0.0,1.0],\"title\":{\"text\":\"Poverty Levels (Highest to Least)\"}},\"yaxis\":{\"anchor\":\"x\",\"domain\":[0.0,1.0],\"title\":{\"text\":\"Obesity Rate (%)\"}},\"legend\":{\"title\":{\"text\":\"AGE\"},\"tracegroupgap\":0},\"title\":{\"text\":\"Obesity Estimate based on Poverty Level and Age in individuals aged 2-19\"},\"barmode\":\"group\"},                        {\"responsive\": true}                    ).then(function(){\n",
       "                            \n",
       "var gd = document.getElementById('74f6e32e-0a72-4df3-ac40-0be1229b6e9f');\n",
       "var x = new MutationObserver(function (mutations, observer) {{\n",
       "        var display = window.getComputedStyle(gd).display;\n",
       "        if (!display || display === 'none') {{\n",
       "            console.log([gd, 'removed!']);\n",
       "            Plotly.purge(gd);\n",
       "            observer.disconnect();\n",
       "        }}\n",
       "}});\n",
       "\n",
       "// Listen for the removal of the full notebook cells\n",
       "var notebookContainer = gd.closest('#notebook-container');\n",
       "if (notebookContainer) {{\n",
       "    x.observe(notebookContainer, {childList: true});\n",
       "}}\n",
       "\n",
       "// Listen for the clearing of the current output cell\n",
       "var outputEl = gd.closest('.output');\n",
       "if (outputEl) {{\n",
       "    x.observe(outputEl, {childList: true});\n",
       "}}\n",
       "\n",
       "                        })                };                });            </script>        </div>"
      ]
     },
     "metadata": {},
     "output_type": "display_data"
    }
   ],
   "source": [
    "obesity_Visual1(poverty_obesity)"
   ]
  },
  {
   "cell_type": "markdown",
   "metadata": {},
   "source": [
    "### Visual 2:"
   ]
  },
  {
   "cell_type": "code",
   "execution_count": 21,
   "metadata": {},
   "outputs": [
    {
     "name": "stderr",
     "output_type": "stream",
     "text": [
      "/var/folders/1t/tj9yy0zx3c155qtctzmnms9m0000gn/T/ipykernel_8678/446180422.py:3: SettingWithCopyWarning:\n",
      "\n",
      "\n",
      "A value is trying to be set on a copy of a slice from a DataFrame\n",
      "\n",
      "See the caveats in the documentation: https://pandas.pydata.org/pandas-docs/stable/user_guide/indexing.html#returning-a-view-versus-a-copy\n",
      "\n"
     ]
    },
    {
     "data": {
      "application/vnd.plotly.v1+json": {
       "config": {
        "plotlyServerURL": "https://plot.ly"
       },
       "data": [
        {
         "hovertemplate": "RACE=Not Hispanic or Latino: White only<br>YEAR=%{x}<br>ESTIMATE=%{y}<extra></extra>",
         "legendgroup": "Not Hispanic or Latino: White only",
         "line": {
          "color": "#636efa",
          "dash": "solid",
          "width": 2.75
         },
         "marker": {
          "symbol": "circle"
         },
         "mode": "lines",
         "name": "Not Hispanic or Latino: White only",
         "orientation": "v",
         "showlegend": true,
         "type": "scatter",
         "x": [
          "1988-1994",
          "1999-2002",
          "2001-2004",
          "2003-2006",
          "2005-2008",
          "2007-2010",
          "2009-2012",
          "2011-2014",
          "2013-2016",
          "2015-2018"
         ],
         "xaxis": "x",
         "y": [
          9.2,
          12.6,
          15.1,
          14.7,
          14.1,
          14.6,
          14,
          14.7,
          14.7,
          15.1
         ],
         "yaxis": "y"
        },
        {
         "hovertemplate": "RACE=Not Hispanic or Latino: Black or African American only<br>YEAR=%{x}<br>ESTIMATE=%{y}<extra></extra>",
         "legendgroup": "Not Hispanic or Latino: Black or African American only",
         "line": {
          "color": "#EF553B",
          "dash": "solid",
          "width": 2.75
         },
         "marker": {
          "symbol": "circle"
         },
         "mode": "lines",
         "name": "Not Hispanic or Latino: Black or African American only",
         "orientation": "v",
         "showlegend": true,
         "type": "scatter",
         "x": [
          "1988-1994",
          "1999-2002",
          "2001-2004",
          "2003-2006",
          "2005-2008",
          "2007-2010",
          "2009-2012",
          "2011-2014",
          "2013-2016",
          "2015-2018"
         ],
         "xaxis": "x",
         "y": [
          12.5,
          18.2,
          18.8,
          20.7,
          20.7,
          22.1,
          22.1,
          19.5,
          20.4,
          23.1
         ],
         "yaxis": "y"
        },
        {
         "hovertemplate": "RACE=Not Hispanic or Latino: Asian only<br>YEAR=%{x}<br>ESTIMATE=%{y}<extra></extra>",
         "legendgroup": "Not Hispanic or Latino: Asian only",
         "line": {
          "color": "#00cc96",
          "dash": "solid",
          "width": 2.75
         },
         "marker": {
          "symbol": "circle"
         },
         "mode": "lines",
         "name": "Not Hispanic or Latino: Asian only",
         "orientation": "v",
         "showlegend": true,
         "type": "scatter",
         "x": [
          "1988-1994",
          "1999-2002",
          "2001-2004",
          "2003-2006",
          "2005-2008",
          "2007-2010",
          "2009-2012",
          "2011-2014",
          "2013-2016",
          "2015-2018"
         ],
         "xaxis": "x",
         "y": [
          null,
          null,
          null,
          null,
          null,
          null,
          null,
          8.6,
          9.8,
          9.8
         ],
         "yaxis": "y"
        },
        {
         "hovertemplate": "RACE=Hispanic or Latino: All races<br>YEAR=%{x}<br>ESTIMATE=%{y}<extra></extra>",
         "legendgroup": "Hispanic or Latino: All races",
         "line": {
          "color": "#ab63fa",
          "dash": "solid",
          "width": 2.75
         },
         "marker": {
          "symbol": "circle"
         },
         "mode": "lines",
         "name": "Hispanic or Latino: All races",
         "orientation": "v",
         "showlegend": true,
         "type": "scatter",
         "x": [
          "1988-1994",
          "1999-2002",
          "2001-2004",
          "2003-2006",
          "2005-2008",
          "2007-2010",
          "2009-2012",
          "2011-2014",
          "2013-2016",
          "2015-2018"
         ],
         "xaxis": "x",
         "y": [
          null,
          null,
          null,
          null,
          null,
          21.1,
          21.8,
          21.9,
          23.6,
          25.7
         ],
         "yaxis": "y"
        },
        {
         "hovertemplate": "RACE=Hispanic or Latino: Mexican: All races<br>YEAR=%{x}<br>ESTIMATE=%{y}<extra></extra>",
         "legendgroup": "Hispanic or Latino: Mexican: All races",
         "line": {
          "color": "#FFA15A",
          "dash": "solid",
          "width": 2.75
         },
         "marker": {
          "symbol": "circle"
         },
         "mode": "lines",
         "name": "Hispanic or Latino: Mexican: All races",
         "orientation": "v",
         "showlegend": true,
         "type": "scatter",
         "x": [
          "1988-1994",
          "1999-2002",
          "2001-2004",
          "2003-2006",
          "2005-2008",
          "2007-2010",
          "2009-2012",
          "2011-2014",
          "2013-2016",
          "2015-2018"
         ],
         "xaxis": "x",
         "y": [
          14.3,
          20,
          19.4,
          20.9,
          21.7,
          21,
          21.9,
          22.2,
          24.2,
          26.9
         ],
         "yaxis": "y"
        }
       ],
       "layout": {
        "autosize": true,
        "legend": {
         "title": {
          "text": "RACE"
         },
         "tracegroupgap": 0
        },
        "template": {
         "data": {
          "bar": [
           {
            "error_x": {
             "color": "#2a3f5f"
            },
            "error_y": {
             "color": "#2a3f5f"
            },
            "marker": {
             "line": {
              "color": "#E5ECF6",
              "width": 0.5
             },
             "pattern": {
              "fillmode": "overlay",
              "size": 10,
              "solidity": 0.2
             }
            },
            "type": "bar"
           }
          ],
          "barpolar": [
           {
            "marker": {
             "line": {
              "color": "#E5ECF6",
              "width": 0.5
             },
             "pattern": {
              "fillmode": "overlay",
              "size": 10,
              "solidity": 0.2
             }
            },
            "type": "barpolar"
           }
          ],
          "carpet": [
           {
            "aaxis": {
             "endlinecolor": "#2a3f5f",
             "gridcolor": "white",
             "linecolor": "white",
             "minorgridcolor": "white",
             "startlinecolor": "#2a3f5f"
            },
            "baxis": {
             "endlinecolor": "#2a3f5f",
             "gridcolor": "white",
             "linecolor": "white",
             "minorgridcolor": "white",
             "startlinecolor": "#2a3f5f"
            },
            "type": "carpet"
           }
          ],
          "choropleth": [
           {
            "colorbar": {
             "outlinewidth": 0,
             "ticks": ""
            },
            "type": "choropleth"
           }
          ],
          "contour": [
           {
            "colorbar": {
             "outlinewidth": 0,
             "ticks": ""
            },
            "colorscale": [
             [
              0,
              "#0d0887"
             ],
             [
              0.1111111111111111,
              "#46039f"
             ],
             [
              0.2222222222222222,
              "#7201a8"
             ],
             [
              0.3333333333333333,
              "#9c179e"
             ],
             [
              0.4444444444444444,
              "#bd3786"
             ],
             [
              0.5555555555555556,
              "#d8576b"
             ],
             [
              0.6666666666666666,
              "#ed7953"
             ],
             [
              0.7777777777777778,
              "#fb9f3a"
             ],
             [
              0.8888888888888888,
              "#fdca26"
             ],
             [
              1,
              "#f0f921"
             ]
            ],
            "type": "contour"
           }
          ],
          "contourcarpet": [
           {
            "colorbar": {
             "outlinewidth": 0,
             "ticks": ""
            },
            "type": "contourcarpet"
           }
          ],
          "heatmap": [
           {
            "colorbar": {
             "outlinewidth": 0,
             "ticks": ""
            },
            "colorscale": [
             [
              0,
              "#0d0887"
             ],
             [
              0.1111111111111111,
              "#46039f"
             ],
             [
              0.2222222222222222,
              "#7201a8"
             ],
             [
              0.3333333333333333,
              "#9c179e"
             ],
             [
              0.4444444444444444,
              "#bd3786"
             ],
             [
              0.5555555555555556,
              "#d8576b"
             ],
             [
              0.6666666666666666,
              "#ed7953"
             ],
             [
              0.7777777777777778,
              "#fb9f3a"
             ],
             [
              0.8888888888888888,
              "#fdca26"
             ],
             [
              1,
              "#f0f921"
             ]
            ],
            "type": "heatmap"
           }
          ],
          "heatmapgl": [
           {
            "colorbar": {
             "outlinewidth": 0,
             "ticks": ""
            },
            "colorscale": [
             [
              0,
              "#0d0887"
             ],
             [
              0.1111111111111111,
              "#46039f"
             ],
             [
              0.2222222222222222,
              "#7201a8"
             ],
             [
              0.3333333333333333,
              "#9c179e"
             ],
             [
              0.4444444444444444,
              "#bd3786"
             ],
             [
              0.5555555555555556,
              "#d8576b"
             ],
             [
              0.6666666666666666,
              "#ed7953"
             ],
             [
              0.7777777777777778,
              "#fb9f3a"
             ],
             [
              0.8888888888888888,
              "#fdca26"
             ],
             [
              1,
              "#f0f921"
             ]
            ],
            "type": "heatmapgl"
           }
          ],
          "histogram": [
           {
            "marker": {
             "pattern": {
              "fillmode": "overlay",
              "size": 10,
              "solidity": 0.2
             }
            },
            "type": "histogram"
           }
          ],
          "histogram2d": [
           {
            "colorbar": {
             "outlinewidth": 0,
             "ticks": ""
            },
            "colorscale": [
             [
              0,
              "#0d0887"
             ],
             [
              0.1111111111111111,
              "#46039f"
             ],
             [
              0.2222222222222222,
              "#7201a8"
             ],
             [
              0.3333333333333333,
              "#9c179e"
             ],
             [
              0.4444444444444444,
              "#bd3786"
             ],
             [
              0.5555555555555556,
              "#d8576b"
             ],
             [
              0.6666666666666666,
              "#ed7953"
             ],
             [
              0.7777777777777778,
              "#fb9f3a"
             ],
             [
              0.8888888888888888,
              "#fdca26"
             ],
             [
              1,
              "#f0f921"
             ]
            ],
            "type": "histogram2d"
           }
          ],
          "histogram2dcontour": [
           {
            "colorbar": {
             "outlinewidth": 0,
             "ticks": ""
            },
            "colorscale": [
             [
              0,
              "#0d0887"
             ],
             [
              0.1111111111111111,
              "#46039f"
             ],
             [
              0.2222222222222222,
              "#7201a8"
             ],
             [
              0.3333333333333333,
              "#9c179e"
             ],
             [
              0.4444444444444444,
              "#bd3786"
             ],
             [
              0.5555555555555556,
              "#d8576b"
             ],
             [
              0.6666666666666666,
              "#ed7953"
             ],
             [
              0.7777777777777778,
              "#fb9f3a"
             ],
             [
              0.8888888888888888,
              "#fdca26"
             ],
             [
              1,
              "#f0f921"
             ]
            ],
            "type": "histogram2dcontour"
           }
          ],
          "mesh3d": [
           {
            "colorbar": {
             "outlinewidth": 0,
             "ticks": ""
            },
            "type": "mesh3d"
           }
          ],
          "parcoords": [
           {
            "line": {
             "colorbar": {
              "outlinewidth": 0,
              "ticks": ""
             }
            },
            "type": "parcoords"
           }
          ],
          "pie": [
           {
            "automargin": true,
            "type": "pie"
           }
          ],
          "scatter": [
           {
            "fillpattern": {
             "fillmode": "overlay",
             "size": 10,
             "solidity": 0.2
            },
            "type": "scatter"
           }
          ],
          "scatter3d": [
           {
            "line": {
             "colorbar": {
              "outlinewidth": 0,
              "ticks": ""
             }
            },
            "marker": {
             "colorbar": {
              "outlinewidth": 0,
              "ticks": ""
             }
            },
            "type": "scatter3d"
           }
          ],
          "scattercarpet": [
           {
            "marker": {
             "colorbar": {
              "outlinewidth": 0,
              "ticks": ""
             }
            },
            "type": "scattercarpet"
           }
          ],
          "scattergeo": [
           {
            "marker": {
             "colorbar": {
              "outlinewidth": 0,
              "ticks": ""
             }
            },
            "type": "scattergeo"
           }
          ],
          "scattergl": [
           {
            "marker": {
             "colorbar": {
              "outlinewidth": 0,
              "ticks": ""
             }
            },
            "type": "scattergl"
           }
          ],
          "scattermapbox": [
           {
            "marker": {
             "colorbar": {
              "outlinewidth": 0,
              "ticks": ""
             }
            },
            "type": "scattermapbox"
           }
          ],
          "scatterpolar": [
           {
            "marker": {
             "colorbar": {
              "outlinewidth": 0,
              "ticks": ""
             }
            },
            "type": "scatterpolar"
           }
          ],
          "scatterpolargl": [
           {
            "marker": {
             "colorbar": {
              "outlinewidth": 0,
              "ticks": ""
             }
            },
            "type": "scatterpolargl"
           }
          ],
          "scatterternary": [
           {
            "marker": {
             "colorbar": {
              "outlinewidth": 0,
              "ticks": ""
             }
            },
            "type": "scatterternary"
           }
          ],
          "surface": [
           {
            "colorbar": {
             "outlinewidth": 0,
             "ticks": ""
            },
            "colorscale": [
             [
              0,
              "#0d0887"
             ],
             [
              0.1111111111111111,
              "#46039f"
             ],
             [
              0.2222222222222222,
              "#7201a8"
             ],
             [
              0.3333333333333333,
              "#9c179e"
             ],
             [
              0.4444444444444444,
              "#bd3786"
             ],
             [
              0.5555555555555556,
              "#d8576b"
             ],
             [
              0.6666666666666666,
              "#ed7953"
             ],
             [
              0.7777777777777778,
              "#fb9f3a"
             ],
             [
              0.8888888888888888,
              "#fdca26"
             ],
             [
              1,
              "#f0f921"
             ]
            ],
            "type": "surface"
           }
          ],
          "table": [
           {
            "cells": {
             "fill": {
              "color": "#EBF0F8"
             },
             "line": {
              "color": "white"
             }
            },
            "header": {
             "fill": {
              "color": "#C8D4E3"
             },
             "line": {
              "color": "white"
             }
            },
            "type": "table"
           }
          ]
         },
         "layout": {
          "annotationdefaults": {
           "arrowcolor": "#2a3f5f",
           "arrowhead": 0,
           "arrowwidth": 1
          },
          "autotypenumbers": "strict",
          "coloraxis": {
           "colorbar": {
            "outlinewidth": 0,
            "ticks": ""
           }
          },
          "colorscale": {
           "diverging": [
            [
             0,
             "#8e0152"
            ],
            [
             0.1,
             "#c51b7d"
            ],
            [
             0.2,
             "#de77ae"
            ],
            [
             0.3,
             "#f1b6da"
            ],
            [
             0.4,
             "#fde0ef"
            ],
            [
             0.5,
             "#f7f7f7"
            ],
            [
             0.6,
             "#e6f5d0"
            ],
            [
             0.7,
             "#b8e186"
            ],
            [
             0.8,
             "#7fbc41"
            ],
            [
             0.9,
             "#4d9221"
            ],
            [
             1,
             "#276419"
            ]
           ],
           "sequential": [
            [
             0,
             "#0d0887"
            ],
            [
             0.1111111111111111,
             "#46039f"
            ],
            [
             0.2222222222222222,
             "#7201a8"
            ],
            [
             0.3333333333333333,
             "#9c179e"
            ],
            [
             0.4444444444444444,
             "#bd3786"
            ],
            [
             0.5555555555555556,
             "#d8576b"
            ],
            [
             0.6666666666666666,
             "#ed7953"
            ],
            [
             0.7777777777777778,
             "#fb9f3a"
            ],
            [
             0.8888888888888888,
             "#fdca26"
            ],
            [
             1,
             "#f0f921"
            ]
           ],
           "sequentialminus": [
            [
             0,
             "#0d0887"
            ],
            [
             0.1111111111111111,
             "#46039f"
            ],
            [
             0.2222222222222222,
             "#7201a8"
            ],
            [
             0.3333333333333333,
             "#9c179e"
            ],
            [
             0.4444444444444444,
             "#bd3786"
            ],
            [
             0.5555555555555556,
             "#d8576b"
            ],
            [
             0.6666666666666666,
             "#ed7953"
            ],
            [
             0.7777777777777778,
             "#fb9f3a"
            ],
            [
             0.8888888888888888,
             "#fdca26"
            ],
            [
             1,
             "#f0f921"
            ]
           ]
          },
          "colorway": [
           "#636efa",
           "#EF553B",
           "#00cc96",
           "#ab63fa",
           "#FFA15A",
           "#19d3f3",
           "#FF6692",
           "#B6E880",
           "#FF97FF",
           "#FECB52"
          ],
          "font": {
           "color": "#2a3f5f"
          },
          "geo": {
           "bgcolor": "white",
           "lakecolor": "white",
           "landcolor": "#E5ECF6",
           "showlakes": true,
           "showland": true,
           "subunitcolor": "white"
          },
          "hoverlabel": {
           "align": "left"
          },
          "hovermode": "closest",
          "mapbox": {
           "style": "light"
          },
          "paper_bgcolor": "white",
          "plot_bgcolor": "#E5ECF6",
          "polar": {
           "angularaxis": {
            "gridcolor": "white",
            "linecolor": "white",
            "ticks": ""
           },
           "bgcolor": "#E5ECF6",
           "radialaxis": {
            "gridcolor": "white",
            "linecolor": "white",
            "ticks": ""
           }
          },
          "scene": {
           "xaxis": {
            "backgroundcolor": "#E5ECF6",
            "gridcolor": "white",
            "gridwidth": 2,
            "linecolor": "white",
            "showbackground": true,
            "ticks": "",
            "zerolinecolor": "white"
           },
           "yaxis": {
            "backgroundcolor": "#E5ECF6",
            "gridcolor": "white",
            "gridwidth": 2,
            "linecolor": "white",
            "showbackground": true,
            "ticks": "",
            "zerolinecolor": "white"
           },
           "zaxis": {
            "backgroundcolor": "#E5ECF6",
            "gridcolor": "white",
            "gridwidth": 2,
            "linecolor": "white",
            "showbackground": true,
            "ticks": "",
            "zerolinecolor": "white"
           }
          },
          "shapedefaults": {
           "line": {
            "color": "#2a3f5f"
           }
          },
          "ternary": {
           "aaxis": {
            "gridcolor": "white",
            "linecolor": "white",
            "ticks": ""
           },
           "baxis": {
            "gridcolor": "white",
            "linecolor": "white",
            "ticks": ""
           },
           "bgcolor": "#E5ECF6",
           "caxis": {
            "gridcolor": "white",
            "linecolor": "white",
            "ticks": ""
           }
          },
          "title": {
           "x": 0.05
          },
          "xaxis": {
           "automargin": true,
           "gridcolor": "white",
           "linecolor": "white",
           "ticks": "",
           "title": {
            "standoff": 15
           },
           "zerolinecolor": "white",
           "zerolinewidth": 2
          },
          "yaxis": {
           "automargin": true,
           "gridcolor": "white",
           "linecolor": "white",
           "ticks": "",
           "title": {
            "standoff": 15
           },
           "zerolinecolor": "white",
           "zerolinewidth": 2
          }
         }
        },
        "title": {
         "text": "Obesity Percentage Per Year Based On Race"
        },
        "xaxis": {
         "anchor": "y",
         "autorange": true,
         "domain": [
          0,
          1
         ],
         "range": [
          0,
          9
         ],
         "tickfont": {
          "size": 10
         },
         "title": {
          "text": "YEARS"
         },
         "type": "category"
        },
        "yaxis": {
         "anchor": "x",
         "autorange": true,
         "domain": [
          0,
          1
         ],
         "range": [
          7.583333333333333,
          27.916666666666664
         ],
         "title": {
          "text": "Obesity rate (%)"
         },
         "type": "linear"
        }
       }
      },
      "image/png": "[encoded data removed]",
      "text/html": [
       "<div>                            <div id=\"627a9669-8f26-4a32-8df0-5221e0de1e08\" class=\"plotly-graph-div\" style=\"height:525px; width:100%;\"></div>            <script type=\"text/javascript\">                require([\"plotly\"], function(Plotly) {                    window.PLOTLYENV=window.PLOTLYENV || {};                                    if (document.getElementById(\"627a9669-8f26-4a32-8df0-5221e0de1e08\")) {                    Plotly.newPlot(                        \"627a9669-8f26-4a32-8df0-5221e0de1e08\",                        [{\"hovertemplate\":\"RACE=Not Hispanic or Latino: White only<br>YEAR=%{x}<br>ESTIMATE=%{y}<extra></extra>\",\"legendgroup\":\"Not Hispanic or Latino: White only\",\"line\":{\"color\":\"#636efa\",\"dash\":\"solid\",\"width\":2.75},\"marker\":{\"symbol\":\"circle\"},\"mode\":\"lines\",\"name\":\"Not Hispanic or Latino: White only\",\"orientation\":\"v\",\"showlegend\":true,\"x\":[\"1988-1994\",\"1999-2002\",\"2001-2004\",\"2003-2006\",\"2005-2008\",\"2007-2010\",\"2009-2012\",\"2011-2014\",\"2013-2016\",\"2015-2018\"],\"xaxis\":\"x\",\"y\":[9.2,12.6,15.1,14.7,14.1,14.6,14.0,14.7,14.7,15.1],\"yaxis\":\"y\",\"type\":\"scatter\"},{\"hovertemplate\":\"RACE=Not Hispanic or Latino: Black or African American only<br>YEAR=%{x}<br>ESTIMATE=%{y}<extra></extra>\",\"legendgroup\":\"Not Hispanic or Latino: Black or African American only\",\"line\":{\"color\":\"#EF553B\",\"dash\":\"solid\",\"width\":2.75},\"marker\":{\"symbol\":\"circle\"},\"mode\":\"lines\",\"name\":\"Not Hispanic or Latino: Black or African American only\",\"orientation\":\"v\",\"showlegend\":true,\"x\":[\"1988-1994\",\"1999-2002\",\"2001-2004\",\"2003-2006\",\"2005-2008\",\"2007-2010\",\"2009-2012\",\"2011-2014\",\"2013-2016\",\"2015-2018\"],\"xaxis\":\"x\",\"y\":[12.5,18.2,18.8,20.7,20.7,22.1,22.1,19.5,20.4,23.1],\"yaxis\":\"y\",\"type\":\"scatter\"},{\"hovertemplate\":\"RACE=Not Hispanic or Latino: Asian only<br>YEAR=%{x}<br>ESTIMATE=%{y}<extra></extra>\",\"legendgroup\":\"Not Hispanic or Latino: Asian only\",\"line\":{\"color\":\"#00cc96\",\"dash\":\"solid\",\"width\":2.75},\"marker\":{\"symbol\":\"circle\"},\"mode\":\"lines\",\"name\":\"Not Hispanic or Latino: Asian only\",\"orientation\":\"v\",\"showlegend\":true,\"x\":[\"1988-1994\",\"1999-2002\",\"2001-2004\",\"2003-2006\",\"2005-2008\",\"2007-2010\",\"2009-2012\",\"2011-2014\",\"2013-2016\",\"2015-2018\"],\"xaxis\":\"x\",\"y\":[null,null,null,null,null,null,null,8.6,9.8,9.8],\"yaxis\":\"y\",\"type\":\"scatter\"},{\"hovertemplate\":\"RACE=Hispanic or Latino: All races<br>YEAR=%{x}<br>ESTIMATE=%{y}<extra></extra>\",\"legendgroup\":\"Hispanic or Latino: All races\",\"line\":{\"color\":\"#ab63fa\",\"dash\":\"solid\",\"width\":2.75},\"marker\":{\"symbol\":\"circle\"},\"mode\":\"lines\",\"name\":\"Hispanic or Latino: All races\",\"orientation\":\"v\",\"showlegend\":true,\"x\":[\"1988-1994\",\"1999-2002\",\"2001-2004\",\"2003-2006\",\"2005-2008\",\"2007-2010\",\"2009-2012\",\"2011-2014\",\"2013-2016\",\"2015-2018\"],\"xaxis\":\"x\",\"y\":[null,null,null,null,null,21.1,21.8,21.9,23.6,25.7],\"yaxis\":\"y\",\"type\":\"scatter\"},{\"hovertemplate\":\"RACE=Hispanic or Latino: Mexican: All races<br>YEAR=%{x}<br>ESTIMATE=%{y}<extra></extra>\",\"legendgroup\":\"Hispanic or Latino: Mexican: All races\",\"line\":{\"color\":\"#FFA15A\",\"dash\":\"solid\",\"width\":2.75},\"marker\":{\"symbol\":\"circle\"},\"mode\":\"lines\",\"name\":\"Hispanic or Latino: Mexican: All races\",\"orientation\":\"v\",\"showlegend\":true,\"x\":[\"1988-1994\",\"1999-2002\",\"2001-2004\",\"2003-2006\",\"2005-2008\",\"2007-2010\",\"2009-2012\",\"2011-2014\",\"2013-2016\",\"2015-2018\"],\"xaxis\":\"x\",\"y\":[14.3,20.0,19.4,20.9,21.7,21.0,21.9,22.2,24.2,26.9],\"yaxis\":\"y\",\"type\":\"scatter\"}],                        {\"template\":{\"data\":{\"histogram2dcontour\":[{\"type\":\"histogram2dcontour\",\"colorbar\":{\"outlinewidth\":0,\"ticks\":\"\"},\"colorscale\":[[0.0,\"#0d0887\"],[0.1111111111111111,\"#46039f\"],[0.2222222222222222,\"#7201a8\"],[0.3333333333333333,\"#9c179e\"],[0.4444444444444444,\"#bd3786\"],[0.5555555555555556,\"#d8576b\"],[0.6666666666666666,\"#ed7953\"],[0.7777777777777778,\"#fb9f3a\"],[0.8888888888888888,\"#fdca26\"],[1.0,\"#f0f921\"]]}],\"choropleth\":[{\"type\":\"choropleth\",\"colorbar\":{\"outlinewidth\":0,\"ticks\":\"\"}}],\"histogram2d\":[{\"type\":\"histogram2d\",\"colorbar\":{\"outlinewidth\":0,\"ticks\":\"\"},\"colorscale\":[[0.0,\"#0d0887\"],[0.1111111111111111,\"#46039f\"],[0.2222222222222222,\"#7201a8\"],[0.3333333333333333,\"#9c179e\"],[0.4444444444444444,\"#bd3786\"],[0.5555555555555556,\"#d8576b\"],[0.6666666666666666,\"#ed7953\"],[0.7777777777777778,\"#fb9f3a\"],[0.8888888888888888,\"#fdca26\"],[1.0,\"#f0f921\"]]}],\"heatmap\":[{\"type\":\"heatmap\",\"colorbar\":{\"outlinewidth\":0,\"ticks\":\"\"},\"colorscale\":[[0.0,\"#0d0887\"],[0.1111111111111111,\"#46039f\"],[0.2222222222222222,\"#7201a8\"],[0.3333333333333333,\"#9c179e\"],[0.4444444444444444,\"#bd3786\"],[0.5555555555555556,\"#d8576b\"],[0.6666666666666666,\"#ed7953\"],[0.7777777777777778,\"#fb9f3a\"],[0.8888888888888888,\"#fdca26\"],[1.0,\"#f0f921\"]]}],\"heatmapgl\":[{\"type\":\"heatmapgl\",\"colorbar\":{\"outlinewidth\":0,\"ticks\":\"\"},\"colorscale\":[[0.0,\"#0d0887\"],[0.1111111111111111,\"#46039f\"],[0.2222222222222222,\"#7201a8\"],[0.3333333333333333,\"#9c179e\"],[0.4444444444444444,\"#bd3786\"],[0.5555555555555556,\"#d8576b\"],[0.6666666666666666,\"#ed7953\"],[0.7777777777777778,\"#fb9f3a\"],[0.8888888888888888,\"#fdca26\"],[1.0,\"#f0f921\"]]}],\"contourcarpet\":[{\"type\":\"contourcarpet\",\"colorbar\":{\"outlinewidth\":0,\"ticks\":\"\"}}],\"contour\":[{\"type\":\"contour\",\"colorbar\":{\"outlinewidth\":0,\"ticks\":\"\"},\"colorscale\":[[0.0,\"#0d0887\"],[0.1111111111111111,\"#46039f\"],[0.2222222222222222,\"#7201a8\"],[0.3333333333333333,\"#9c179e\"],[0.4444444444444444,\"#bd3786\"],[0.5555555555555556,\"#d8576b\"],[0.6666666666666666,\"#ed7953\"],[0.7777777777777778,\"#fb9f3a\"],[0.8888888888888888,\"#fdca26\"],[1.0,\"#f0f921\"]]}],\"surface\":[{\"type\":\"surface\",\"colorbar\":{\"outlinewidth\":0,\"ticks\":\"\"},\"colorscale\":[[0.0,\"#0d0887\"],[0.1111111111111111,\"#46039f\"],[0.2222222222222222,\"#7201a8\"],[0.3333333333333333,\"#9c179e\"],[0.4444444444444444,\"#bd3786\"],[0.5555555555555556,\"#d8576b\"],[0.6666666666666666,\"#ed7953\"],[0.7777777777777778,\"#fb9f3a\"],[0.8888888888888888,\"#fdca26\"],[1.0,\"#f0f921\"]]}],\"mesh3d\":[{\"type\":\"mesh3d\",\"colorbar\":{\"outlinewidth\":0,\"ticks\":\"\"}}],\"scatter\":[{\"fillpattern\":{\"fillmode\":\"overlay\",\"size\":10,\"solidity\":0.2},\"type\":\"scatter\"}],\"parcoords\":[{\"type\":\"parcoords\",\"line\":{\"colorbar\":{\"outlinewidth\":0,\"ticks\":\"\"}}}],\"scatterpolargl\":[{\"type\":\"scatterpolargl\",\"marker\":{\"colorbar\":{\"outlinewidth\":0,\"ticks\":\"\"}}}],\"bar\":[{\"error_x\":{\"color\":\"#2a3f5f\"},\"error_y\":{\"color\":\"#2a3f5f\"},\"marker\":{\"line\":{\"color\":\"#E5ECF6\",\"width\":0.5},\"pattern\":{\"fillmode\":\"overlay\",\"size\":10,\"solidity\":0.2}},\"type\":\"bar\"}],\"scattergeo\":[{\"type\":\"scattergeo\",\"marker\":{\"colorbar\":{\"outlinewidth\":0,\"ticks\":\"\"}}}],\"scatterpolar\":[{\"type\":\"scatterpolar\",\"marker\":{\"colorbar\":{\"outlinewidth\":0,\"ticks\":\"\"}}}],\"histogram\":[{\"marker\":{\"pattern\":{\"fillmode\":\"overlay\",\"size\":10,\"solidity\":0.2}},\"type\":\"histogram\"}],\"scattergl\":[{\"type\":\"scattergl\",\"marker\":{\"colorbar\":{\"outlinewidth\":0,\"ticks\":\"\"}}}],\"scatter3d\":[{\"type\":\"scatter3d\",\"line\":{\"colorbar\":{\"outlinewidth\":0,\"ticks\":\"\"}},\"marker\":{\"colorbar\":{\"outlinewidth\":0,\"ticks\":\"\"}}}],\"scattermapbox\":[{\"type\":\"scattermapbox\",\"marker\":{\"colorbar\":{\"outlinewidth\":0,\"ticks\":\"\"}}}],\"scatterternary\":[{\"type\":\"scatterternary\",\"marker\":{\"colorbar\":{\"outlinewidth\":0,\"ticks\":\"\"}}}],\"scattercarpet\":[{\"type\":\"scattercarpet\",\"marker\":{\"colorbar\":{\"outlinewidth\":0,\"ticks\":\"\"}}}],\"carpet\":[{\"aaxis\":{\"endlinecolor\":\"#2a3f5f\",\"gridcolor\":\"white\",\"linecolor\":\"white\",\"minorgridcolor\":\"white\",\"startlinecolor\":\"#2a3f5f\"},\"baxis\":{\"endlinecolor\":\"#2a3f5f\",\"gridcolor\":\"white\",\"linecolor\":\"white\",\"minorgridcolor\":\"white\",\"startlinecolor\":\"#2a3f5f\"},\"type\":\"carpet\"}],\"table\":[{\"cells\":{\"fill\":{\"color\":\"#EBF0F8\"},\"line\":{\"color\":\"white\"}},\"header\":{\"fill\":{\"color\":\"#C8D4E3\"},\"line\":{\"color\":\"white\"}},\"type\":\"table\"}],\"barpolar\":[{\"marker\":{\"line\":{\"color\":\"#E5ECF6\",\"width\":0.5},\"pattern\":{\"fillmode\":\"overlay\",\"size\":10,\"solidity\":0.2}},\"type\":\"barpolar\"}],\"pie\":[{\"automargin\":true,\"type\":\"pie\"}]},\"layout\":{\"autotypenumbers\":\"strict\",\"colorway\":[\"#636efa\",\"#EF553B\",\"#00cc96\",\"#ab63fa\",\"#FFA15A\",\"#19d3f3\",\"#FF6692\",\"#B6E880\",\"#FF97FF\",\"#FECB52\"],\"font\":{\"color\":\"#2a3f5f\"},\"hovermode\":\"closest\",\"hoverlabel\":{\"align\":\"left\"},\"paper_bgcolor\":\"white\",\"plot_bgcolor\":\"#E5ECF6\",\"polar\":{\"bgcolor\":\"#E5ECF6\",\"angularaxis\":{\"gridcolor\":\"white\",\"linecolor\":\"white\",\"ticks\":\"\"},\"radialaxis\":{\"gridcolor\":\"white\",\"linecolor\":\"white\",\"ticks\":\"\"}},\"ternary\":{\"bgcolor\":\"#E5ECF6\",\"aaxis\":{\"gridcolor\":\"white\",\"linecolor\":\"white\",\"ticks\":\"\"},\"baxis\":{\"gridcolor\":\"white\",\"linecolor\":\"white\",\"ticks\":\"\"},\"caxis\":{\"gridcolor\":\"white\",\"linecolor\":\"white\",\"ticks\":\"\"}},\"coloraxis\":{\"colorbar\":{\"outlinewidth\":0,\"ticks\":\"\"}},\"colorscale\":{\"sequential\":[[0.0,\"#0d0887\"],[0.1111111111111111,\"#46039f\"],[0.2222222222222222,\"#7201a8\"],[0.3333333333333333,\"#9c179e\"],[0.4444444444444444,\"#bd3786\"],[0.5555555555555556,\"#d8576b\"],[0.6666666666666666,\"#ed7953\"],[0.7777777777777778,\"#fb9f3a\"],[0.8888888888888888,\"#fdca26\"],[1.0,\"#f0f921\"]],\"sequentialminus\":[[0.0,\"#0d0887\"],[0.1111111111111111,\"#46039f\"],[0.2222222222222222,\"#7201a8\"],[0.3333333333333333,\"#9c179e\"],[0.4444444444444444,\"#bd3786\"],[0.5555555555555556,\"#d8576b\"],[0.6666666666666666,\"#ed7953\"],[0.7777777777777778,\"#fb9f3a\"],[0.8888888888888888,\"#fdca26\"],[1.0,\"#f0f921\"]],\"diverging\":[[0,\"#8e0152\"],[0.1,\"#c51b7d\"],[0.2,\"#de77ae\"],[0.3,\"#f1b6da\"],[0.4,\"#fde0ef\"],[0.5,\"#f7f7f7\"],[0.6,\"#e6f5d0\"],[0.7,\"#b8e186\"],[0.8,\"#7fbc41\"],[0.9,\"#4d9221\"],[1,\"#276419\"]]},\"xaxis\":{\"gridcolor\":\"white\",\"linecolor\":\"white\",\"ticks\":\"\",\"title\":{\"standoff\":15},\"zerolinecolor\":\"white\",\"automargin\":true,\"zerolinewidth\":2},\"yaxis\":{\"gridcolor\":\"white\",\"linecolor\":\"white\",\"ticks\":\"\",\"title\":{\"standoff\":15},\"zerolinecolor\":\"white\",\"automargin\":true,\"zerolinewidth\":2},\"scene\":{\"xaxis\":{\"backgroundcolor\":\"#E5ECF6\",\"gridcolor\":\"white\",\"linecolor\":\"white\",\"showbackground\":true,\"ticks\":\"\",\"zerolinecolor\":\"white\",\"gridwidth\":2},\"yaxis\":{\"backgroundcolor\":\"#E5ECF6\",\"gridcolor\":\"white\",\"linecolor\":\"white\",\"showbackground\":true,\"ticks\":\"\",\"zerolinecolor\":\"white\",\"gridwidth\":2},\"zaxis\":{\"backgroundcolor\":\"#E5ECF6\",\"gridcolor\":\"white\",\"linecolor\":\"white\",\"showbackground\":true,\"ticks\":\"\",\"zerolinecolor\":\"white\",\"gridwidth\":2}},\"shapedefaults\":{\"line\":{\"color\":\"#2a3f5f\"}},\"annotationdefaults\":{\"arrowcolor\":\"#2a3f5f\",\"arrowhead\":0,\"arrowwidth\":1},\"geo\":{\"bgcolor\":\"white\",\"landcolor\":\"#E5ECF6\",\"subunitcolor\":\"white\",\"showland\":true,\"showlakes\":true,\"lakecolor\":\"white\"},\"title\":{\"x\":0.05},\"mapbox\":{\"style\":\"light\"}}},\"xaxis\":{\"anchor\":\"y\",\"domain\":[0.0,1.0],\"title\":{\"text\":\"YEARS\"},\"tickfont\":{\"size\":10}},\"yaxis\":{\"anchor\":\"x\",\"domain\":[0.0,1.0],\"title\":{\"text\":\"Obesity rate (%)\"}},\"legend\":{\"title\":{\"text\":\"RACE\"},\"tracegroupgap\":0},\"title\":{\"text\":\"Obesity Percentage Per Year Based On Race\"}},                        {\"responsive\": true}                    ).then(function(){\n",
       "                            \n",
       "var gd = document.getElementById('627a9669-8f26-4a32-8df0-5221e0de1e08');\n",
       "var x = new MutationObserver(function (mutations, observer) {{\n",
       "        var display = window.getComputedStyle(gd).display;\n",
       "        if (!display || display === 'none') {{\n",
       "            console.log([gd, 'removed!']);\n",
       "            Plotly.purge(gd);\n",
       "            observer.disconnect();\n",
       "        }}\n",
       "}});\n",
       "\n",
       "// Listen for the removal of the full notebook cells\n",
       "var notebookContainer = gd.closest('#notebook-container');\n",
       "if (notebookContainer) {{\n",
       "    x.observe(notebookContainer, {childList: true});\n",
       "}}\n",
       "\n",
       "// Listen for the clearing of the current output cell\n",
       "var outputEl = gd.closest('.output');\n",
       "if (outputEl) {{\n",
       "    x.observe(outputEl, {childList: true});\n",
       "}}\n",
       "\n",
       "                        })                };                });            </script>        </div>"
      ]
     },
     "metadata": {},
     "output_type": "display_data"
    }
   ],
   "source": [
    "def obesity_Visual2(df):\n",
    "    df = df.loc[df['AGE'] == '2-19 years']\n",
    "    df.rename(columns = {\"STUB_LABEL\": \"RACE\"}, inplace = True)\n",
    "    fig = px.line(df, x=\"YEAR\", y=\"ESTIMATE\", color=\"RACE\", title=\"Obesity Percentage Per Year Based On Race\")\n",
    "    \n",
    "    fig.update_xaxes(title_text=\"YEARS\", tickfont=dict(size=10))\n",
    "    fig.update_yaxes(title_text=\"Obesity rate (%)\")\n",
    "    \n",
    "    fig.update_traces(line=dict(width=2.75))\n",
    "    fig.show()\n",
    "\n",
    "obesity_Visual2(race_his_obesity)"
   ]
  },
  {
   "cell_type": "code",
   "execution_count": 257,
   "metadata": {},
   "outputs": [
    {
     "data": {
      "text/html": [
       "<div>\n",
       "<style scoped>\n",
       "    .dataframe tbody tr th:only-of-type {\n",
       "        vertical-align: middle;\n",
       "    }\n",
       "\n",
       "    .dataframe tbody tr th {\n",
       "        vertical-align: top;\n",
       "    }\n",
       "\n",
       "    .dataframe thead th {\n",
       "        text-align: right;\n",
       "    }\n",
       "</style>\n",
       "<table border=\"1\" class=\"dataframe\">\n",
       "  <thead>\n",
       "    <tr style=\"text-align: right;\">\n",
       "      <th></th>\n",
       "      <th>PANEL</th>\n",
       "      <th>STUB_NAME</th>\n",
       "      <th>STUB_LABEL</th>\n",
       "      <th>YEAR</th>\n",
       "      <th>AGE</th>\n",
       "      <th>ESTIMATE</th>\n",
       "      <th>SE</th>\n",
       "    </tr>\n",
       "  </thead>\n",
       "  <tbody>\n",
       "    <tr>\n",
       "      <th>50</th>\n",
       "      <td>2-19 years</td>\n",
       "      <td>Race and Hispanic origin</td>\n",
       "      <td>Not Hispanic or Latino: Asian only</td>\n",
       "      <td>1988-1994</td>\n",
       "      <td>2-19 years</td>\n",
       "      <td>NaN</td>\n",
       "      <td>NaN</td>\n",
       "    </tr>\n",
       "    <tr>\n",
       "      <th>51</th>\n",
       "      <td>2-19 years</td>\n",
       "      <td>Race and Hispanic origin</td>\n",
       "      <td>Not Hispanic or Latino: Asian only</td>\n",
       "      <td>1999-2002</td>\n",
       "      <td>2-19 years</td>\n",
       "      <td>NaN</td>\n",
       "      <td>NaN</td>\n",
       "    </tr>\n",
       "    <tr>\n",
       "      <th>52</th>\n",
       "      <td>2-19 years</td>\n",
       "      <td>Race and Hispanic origin</td>\n",
       "      <td>Not Hispanic or Latino: Asian only</td>\n",
       "      <td>2001-2004</td>\n",
       "      <td>2-19 years</td>\n",
       "      <td>NaN</td>\n",
       "      <td>NaN</td>\n",
       "    </tr>\n",
       "    <tr>\n",
       "      <th>53</th>\n",
       "      <td>2-19 years</td>\n",
       "      <td>Race and Hispanic origin</td>\n",
       "      <td>Not Hispanic or Latino: Asian only</td>\n",
       "      <td>2003-2006</td>\n",
       "      <td>2-19 years</td>\n",
       "      <td>NaN</td>\n",
       "      <td>NaN</td>\n",
       "    </tr>\n",
       "    <tr>\n",
       "      <th>54</th>\n",
       "      <td>2-19 years</td>\n",
       "      <td>Race and Hispanic origin</td>\n",
       "      <td>Not Hispanic or Latino: Asian only</td>\n",
       "      <td>2005-2008</td>\n",
       "      <td>2-19 years</td>\n",
       "      <td>NaN</td>\n",
       "      <td>NaN</td>\n",
       "    </tr>\n",
       "    <tr>\n",
       "      <th>55</th>\n",
       "      <td>2-19 years</td>\n",
       "      <td>Race and Hispanic origin</td>\n",
       "      <td>Not Hispanic or Latino: Asian only</td>\n",
       "      <td>2007-2010</td>\n",
       "      <td>2-19 years</td>\n",
       "      <td>NaN</td>\n",
       "      <td>NaN</td>\n",
       "    </tr>\n",
       "    <tr>\n",
       "      <th>56</th>\n",
       "      <td>2-19 years</td>\n",
       "      <td>Race and Hispanic origin</td>\n",
       "      <td>Not Hispanic or Latino: Asian only</td>\n",
       "      <td>2009-2012</td>\n",
       "      <td>2-19 years</td>\n",
       "      <td>NaN</td>\n",
       "      <td>NaN</td>\n",
       "    </tr>\n",
       "    <tr>\n",
       "      <th>57</th>\n",
       "      <td>2-19 years</td>\n",
       "      <td>Race and Hispanic origin</td>\n",
       "      <td>Not Hispanic or Latino: Asian only</td>\n",
       "      <td>2011-2014</td>\n",
       "      <td>2-19 years</td>\n",
       "      <td>8.6</td>\n",
       "      <td>1.1</td>\n",
       "    </tr>\n",
       "    <tr>\n",
       "      <th>58</th>\n",
       "      <td>2-19 years</td>\n",
       "      <td>Race and Hispanic origin</td>\n",
       "      <td>Not Hispanic or Latino: Asian only</td>\n",
       "      <td>2013-2016</td>\n",
       "      <td>2-19 years</td>\n",
       "      <td>9.8</td>\n",
       "      <td>1.2</td>\n",
       "    </tr>\n",
       "    <tr>\n",
       "      <th>59</th>\n",
       "      <td>2-19 years</td>\n",
       "      <td>Race and Hispanic origin</td>\n",
       "      <td>Not Hispanic or Latino: Asian only</td>\n",
       "      <td>2015-2018</td>\n",
       "      <td>2-19 years</td>\n",
       "      <td>9.8</td>\n",
       "      <td>1.1</td>\n",
       "    </tr>\n",
       "    <tr>\n",
       "      <th>260</th>\n",
       "      <td>2-5 years</td>\n",
       "      <td>Race and Hispanic origin</td>\n",
       "      <td>Not Hispanic or Latino: Asian only</td>\n",
       "      <td>1988-1994</td>\n",
       "      <td>2-5 years</td>\n",
       "      <td>NaN</td>\n",
       "      <td>NaN</td>\n",
       "    </tr>\n",
       "    <tr>\n",
       "      <th>261</th>\n",
       "      <td>2-5 years</td>\n",
       "      <td>Race and Hispanic origin</td>\n",
       "      <td>Not Hispanic or Latino: Asian only</td>\n",
       "      <td>1999-2002</td>\n",
       "      <td>2-5 years</td>\n",
       "      <td>NaN</td>\n",
       "      <td>NaN</td>\n",
       "    </tr>\n",
       "    <tr>\n",
       "      <th>262</th>\n",
       "      <td>2-5 years</td>\n",
       "      <td>Race and Hispanic origin</td>\n",
       "      <td>Not Hispanic or Latino: Asian only</td>\n",
       "      <td>2001-2004</td>\n",
       "      <td>2-5 years</td>\n",
       "      <td>NaN</td>\n",
       "      <td>NaN</td>\n",
       "    </tr>\n",
       "    <tr>\n",
       "      <th>263</th>\n",
       "      <td>2-5 years</td>\n",
       "      <td>Race and Hispanic origin</td>\n",
       "      <td>Not Hispanic or Latino: Asian only</td>\n",
       "      <td>2003-2006</td>\n",
       "      <td>2-5 years</td>\n",
       "      <td>NaN</td>\n",
       "      <td>NaN</td>\n",
       "    </tr>\n",
       "    <tr>\n",
       "      <th>264</th>\n",
       "      <td>2-5 years</td>\n",
       "      <td>Race and Hispanic origin</td>\n",
       "      <td>Not Hispanic or Latino: Asian only</td>\n",
       "      <td>2005-2008</td>\n",
       "      <td>2-5 years</td>\n",
       "      <td>NaN</td>\n",
       "      <td>NaN</td>\n",
       "    </tr>\n",
       "    <tr>\n",
       "      <th>265</th>\n",
       "      <td>2-5 years</td>\n",
       "      <td>Race and Hispanic origin</td>\n",
       "      <td>Not Hispanic or Latino: Asian only</td>\n",
       "      <td>2007-2010</td>\n",
       "      <td>2-5 years</td>\n",
       "      <td>NaN</td>\n",
       "      <td>NaN</td>\n",
       "    </tr>\n",
       "    <tr>\n",
       "      <th>266</th>\n",
       "      <td>2-5 years</td>\n",
       "      <td>Race and Hispanic origin</td>\n",
       "      <td>Not Hispanic or Latino: Asian only</td>\n",
       "      <td>2009-2012</td>\n",
       "      <td>2-5 years</td>\n",
       "      <td>NaN</td>\n",
       "      <td>NaN</td>\n",
       "    </tr>\n",
       "    <tr>\n",
       "      <th>267</th>\n",
       "      <td>2-5 years</td>\n",
       "      <td>Race and Hispanic origin</td>\n",
       "      <td>Not Hispanic or Latino: Asian only</td>\n",
       "      <td>2011-2014</td>\n",
       "      <td>2-5 years</td>\n",
       "      <td>NaN</td>\n",
       "      <td>NaN</td>\n",
       "    </tr>\n",
       "    <tr>\n",
       "      <th>268</th>\n",
       "      <td>2-5 years</td>\n",
       "      <td>Race and Hispanic origin</td>\n",
       "      <td>Not Hispanic or Latino: Asian only</td>\n",
       "      <td>2013-2016</td>\n",
       "      <td>2-5 years</td>\n",
       "      <td>NaN</td>\n",
       "      <td>NaN</td>\n",
       "    </tr>\n",
       "    <tr>\n",
       "      <th>269</th>\n",
       "      <td>2-5 years</td>\n",
       "      <td>Race and Hispanic origin</td>\n",
       "      <td>Not Hispanic or Latino: Asian only</td>\n",
       "      <td>2015-2018</td>\n",
       "      <td>2-5 years</td>\n",
       "      <td>NaN</td>\n",
       "      <td>NaN</td>\n",
       "    </tr>\n",
       "    <tr>\n",
       "      <th>470</th>\n",
       "      <td>6-11 years</td>\n",
       "      <td>Race and Hispanic origin</td>\n",
       "      <td>Not Hispanic or Latino: Asian only</td>\n",
       "      <td>1988-1994</td>\n",
       "      <td>6-11 years</td>\n",
       "      <td>NaN</td>\n",
       "      <td>NaN</td>\n",
       "    </tr>\n",
       "    <tr>\n",
       "      <th>471</th>\n",
       "      <td>6-11 years</td>\n",
       "      <td>Race and Hispanic origin</td>\n",
       "      <td>Not Hispanic or Latino: Asian only</td>\n",
       "      <td>1999-2002</td>\n",
       "      <td>6-11 years</td>\n",
       "      <td>NaN</td>\n",
       "      <td>NaN</td>\n",
       "    </tr>\n",
       "    <tr>\n",
       "      <th>472</th>\n",
       "      <td>6-11 years</td>\n",
       "      <td>Race and Hispanic origin</td>\n",
       "      <td>Not Hispanic or Latino: Asian only</td>\n",
       "      <td>2001-2004</td>\n",
       "      <td>6-11 years</td>\n",
       "      <td>NaN</td>\n",
       "      <td>NaN</td>\n",
       "    </tr>\n",
       "    <tr>\n",
       "      <th>473</th>\n",
       "      <td>6-11 years</td>\n",
       "      <td>Race and Hispanic origin</td>\n",
       "      <td>Not Hispanic or Latino: Asian only</td>\n",
       "      <td>2003-2006</td>\n",
       "      <td>6-11 years</td>\n",
       "      <td>NaN</td>\n",
       "      <td>NaN</td>\n",
       "    </tr>\n",
       "    <tr>\n",
       "      <th>474</th>\n",
       "      <td>6-11 years</td>\n",
       "      <td>Race and Hispanic origin</td>\n",
       "      <td>Not Hispanic or Latino: Asian only</td>\n",
       "      <td>2005-2008</td>\n",
       "      <td>6-11 years</td>\n",
       "      <td>NaN</td>\n",
       "      <td>NaN</td>\n",
       "    </tr>\n",
       "    <tr>\n",
       "      <th>475</th>\n",
       "      <td>6-11 years</td>\n",
       "      <td>Race and Hispanic origin</td>\n",
       "      <td>Not Hispanic or Latino: Asian only</td>\n",
       "      <td>2007-2010</td>\n",
       "      <td>6-11 years</td>\n",
       "      <td>NaN</td>\n",
       "      <td>NaN</td>\n",
       "    </tr>\n",
       "    <tr>\n",
       "      <th>476</th>\n",
       "      <td>6-11 years</td>\n",
       "      <td>Race and Hispanic origin</td>\n",
       "      <td>Not Hispanic or Latino: Asian only</td>\n",
       "      <td>2009-2012</td>\n",
       "      <td>6-11 years</td>\n",
       "      <td>NaN</td>\n",
       "      <td>NaN</td>\n",
       "    </tr>\n",
       "    <tr>\n",
       "      <th>477</th>\n",
       "      <td>6-11 years</td>\n",
       "      <td>Race and Hispanic origin</td>\n",
       "      <td>Not Hispanic or Latino: Asian only</td>\n",
       "      <td>2011-2014</td>\n",
       "      <td>6-11 years</td>\n",
       "      <td>9.8</td>\n",
       "      <td>2.0</td>\n",
       "    </tr>\n",
       "    <tr>\n",
       "      <th>478</th>\n",
       "      <td>6-11 years</td>\n",
       "      <td>Race and Hispanic origin</td>\n",
       "      <td>Not Hispanic or Latino: Asian only</td>\n",
       "      <td>2013-2016</td>\n",
       "      <td>6-11 years</td>\n",
       "      <td>12.9</td>\n",
       "      <td>2.9</td>\n",
       "    </tr>\n",
       "    <tr>\n",
       "      <th>479</th>\n",
       "      <td>6-11 years</td>\n",
       "      <td>Race and Hispanic origin</td>\n",
       "      <td>Not Hispanic or Latino: Asian only</td>\n",
       "      <td>2015-2018</td>\n",
       "      <td>6-11 years</td>\n",
       "      <td>10.3</td>\n",
       "      <td>2.8</td>\n",
       "    </tr>\n",
       "    <tr>\n",
       "      <th>680</th>\n",
       "      <td>12-19 years</td>\n",
       "      <td>Race and Hispanic origin</td>\n",
       "      <td>Not Hispanic or Latino: Asian only</td>\n",
       "      <td>1988-1994</td>\n",
       "      <td>12-19 years</td>\n",
       "      <td>NaN</td>\n",
       "      <td>NaN</td>\n",
       "    </tr>\n",
       "    <tr>\n",
       "      <th>681</th>\n",
       "      <td>12-19 years</td>\n",
       "      <td>Race and Hispanic origin</td>\n",
       "      <td>Not Hispanic or Latino: Asian only</td>\n",
       "      <td>1999-2002</td>\n",
       "      <td>12-19 years</td>\n",
       "      <td>NaN</td>\n",
       "      <td>NaN</td>\n",
       "    </tr>\n",
       "    <tr>\n",
       "      <th>682</th>\n",
       "      <td>12-19 years</td>\n",
       "      <td>Race and Hispanic origin</td>\n",
       "      <td>Not Hispanic or Latino: Asian only</td>\n",
       "      <td>2001-2004</td>\n",
       "      <td>12-19 years</td>\n",
       "      <td>NaN</td>\n",
       "      <td>NaN</td>\n",
       "    </tr>\n",
       "    <tr>\n",
       "      <th>683</th>\n",
       "      <td>12-19 years</td>\n",
       "      <td>Race and Hispanic origin</td>\n",
       "      <td>Not Hispanic or Latino: Asian only</td>\n",
       "      <td>2003-2006</td>\n",
       "      <td>12-19 years</td>\n",
       "      <td>NaN</td>\n",
       "      <td>NaN</td>\n",
       "    </tr>\n",
       "    <tr>\n",
       "      <th>684</th>\n",
       "      <td>12-19 years</td>\n",
       "      <td>Race and Hispanic origin</td>\n",
       "      <td>Not Hispanic or Latino: Asian only</td>\n",
       "      <td>2005-2008</td>\n",
       "      <td>12-19 years</td>\n",
       "      <td>NaN</td>\n",
       "      <td>NaN</td>\n",
       "    </tr>\n",
       "    <tr>\n",
       "      <th>685</th>\n",
       "      <td>12-19 years</td>\n",
       "      <td>Race and Hispanic origin</td>\n",
       "      <td>Not Hispanic or Latino: Asian only</td>\n",
       "      <td>2007-2010</td>\n",
       "      <td>12-19 years</td>\n",
       "      <td>NaN</td>\n",
       "      <td>NaN</td>\n",
       "    </tr>\n",
       "    <tr>\n",
       "      <th>686</th>\n",
       "      <td>12-19 years</td>\n",
       "      <td>Race and Hispanic origin</td>\n",
       "      <td>Not Hispanic or Latino: Asian only</td>\n",
       "      <td>2009-2012</td>\n",
       "      <td>12-19 years</td>\n",
       "      <td>NaN</td>\n",
       "      <td>NaN</td>\n",
       "    </tr>\n",
       "    <tr>\n",
       "      <th>687</th>\n",
       "      <td>12-19 years</td>\n",
       "      <td>Race and Hispanic origin</td>\n",
       "      <td>Not Hispanic or Latino: Asian only</td>\n",
       "      <td>2011-2014</td>\n",
       "      <td>12-19 years</td>\n",
       "      <td>9.4</td>\n",
       "      <td>1.6</td>\n",
       "    </tr>\n",
       "    <tr>\n",
       "      <th>688</th>\n",
       "      <td>12-19 years</td>\n",
       "      <td>Race and Hispanic origin</td>\n",
       "      <td>Not Hispanic or Latino: Asian only</td>\n",
       "      <td>2013-2016</td>\n",
       "      <td>12-19 years</td>\n",
       "      <td>8.8</td>\n",
       "      <td>1.5</td>\n",
       "    </tr>\n",
       "    <tr>\n",
       "      <th>689</th>\n",
       "      <td>12-19 years</td>\n",
       "      <td>Race and Hispanic origin</td>\n",
       "      <td>Not Hispanic or Latino: Asian only</td>\n",
       "      <td>2015-2018</td>\n",
       "      <td>12-19 years</td>\n",
       "      <td>11.5</td>\n",
       "      <td>1.8</td>\n",
       "    </tr>\n",
       "  </tbody>\n",
       "</table>\n",
       "</div>"
      ],
      "text/plain": [
       "           PANEL                 STUB_NAME  \\\n",
       "50    2-19 years  Race and Hispanic origin   \n",
       "51    2-19 years  Race and Hispanic origin   \n",
       "52    2-19 years  Race and Hispanic origin   \n",
       "53    2-19 years  Race and Hispanic origin   \n",
       "54    2-19 years  Race and Hispanic origin   \n",
       "55    2-19 years  Race and Hispanic origin   \n",
       "56    2-19 years  Race and Hispanic origin   \n",
       "57    2-19 years  Race and Hispanic origin   \n",
       "58    2-19 years  Race and Hispanic origin   \n",
       "59    2-19 years  Race and Hispanic origin   \n",
       "260    2-5 years  Race and Hispanic origin   \n",
       "261    2-5 years  Race and Hispanic origin   \n",
       "262    2-5 years  Race and Hispanic origin   \n",
       "263    2-5 years  Race and Hispanic origin   \n",
       "264    2-5 years  Race and Hispanic origin   \n",
       "265    2-5 years  Race and Hispanic origin   \n",
       "266    2-5 years  Race and Hispanic origin   \n",
       "267    2-5 years  Race and Hispanic origin   \n",
       "268    2-5 years  Race and Hispanic origin   \n",
       "269    2-5 years  Race and Hispanic origin   \n",
       "470   6-11 years  Race and Hispanic origin   \n",
       "471   6-11 years  Race and Hispanic origin   \n",
       "472   6-11 years  Race and Hispanic origin   \n",
       "473   6-11 years  Race and Hispanic origin   \n",
       "474   6-11 years  Race and Hispanic origin   \n",
       "475   6-11 years  Race and Hispanic origin   \n",
       "476   6-11 years  Race and Hispanic origin   \n",
       "477   6-11 years  Race and Hispanic origin   \n",
       "478   6-11 years  Race and Hispanic origin   \n",
       "479   6-11 years  Race and Hispanic origin   \n",
       "680  12-19 years  Race and Hispanic origin   \n",
       "681  12-19 years  Race and Hispanic origin   \n",
       "682  12-19 years  Race and Hispanic origin   \n",
       "683  12-19 years  Race and Hispanic origin   \n",
       "684  12-19 years  Race and Hispanic origin   \n",
       "685  12-19 years  Race and Hispanic origin   \n",
       "686  12-19 years  Race and Hispanic origin   \n",
       "687  12-19 years  Race and Hispanic origin   \n",
       "688  12-19 years  Race and Hispanic origin   \n",
       "689  12-19 years  Race and Hispanic origin   \n",
       "\n",
       "                             STUB_LABEL       YEAR          AGE  ESTIMATE   SE  \n",
       "50   Not Hispanic or Latino: Asian only  1988-1994   2-19 years       NaN  NaN  \n",
       "51   Not Hispanic or Latino: Asian only  1999-2002   2-19 years       NaN  NaN  \n",
       "52   Not Hispanic or Latino: Asian only  2001-2004   2-19 years       NaN  NaN  \n",
       "53   Not Hispanic or Latino: Asian only  2003-2006   2-19 years       NaN  NaN  \n",
       "54   Not Hispanic or Latino: Asian only  2005-2008   2-19 years       NaN  NaN  \n",
       "55   Not Hispanic or Latino: Asian only  2007-2010   2-19 years       NaN  NaN  \n",
       "56   Not Hispanic or Latino: Asian only  2009-2012   2-19 years       NaN  NaN  \n",
       "57   Not Hispanic or Latino: Asian only  2011-2014   2-19 years       8.6  1.1  \n",
       "58   Not Hispanic or Latino: Asian only  2013-2016   2-19 years       9.8  1.2  \n",
       "59   Not Hispanic or Latino: Asian only  2015-2018   2-19 years       9.8  1.1  \n",
       "260  Not Hispanic or Latino: Asian only  1988-1994    2-5 years       NaN  NaN  \n",
       "261  Not Hispanic or Latino: Asian only  1999-2002    2-5 years       NaN  NaN  \n",
       "262  Not Hispanic or Latino: Asian only  2001-2004    2-5 years       NaN  NaN  \n",
       "263  Not Hispanic or Latino: Asian only  2003-2006    2-5 years       NaN  NaN  \n",
       "264  Not Hispanic or Latino: Asian only  2005-2008    2-5 years       NaN  NaN  \n",
       "265  Not Hispanic or Latino: Asian only  2007-2010    2-5 years       NaN  NaN  \n",
       "266  Not Hispanic or Latino: Asian only  2009-2012    2-5 years       NaN  NaN  \n",
       "267  Not Hispanic or Latino: Asian only  2011-2014    2-5 years       NaN  NaN  \n",
       "268  Not Hispanic or Latino: Asian only  2013-2016    2-5 years       NaN  NaN  \n",
       "269  Not Hispanic or Latino: Asian only  2015-2018    2-5 years       NaN  NaN  \n",
       "470  Not Hispanic or Latino: Asian only  1988-1994   6-11 years       NaN  NaN  \n",
       "471  Not Hispanic or Latino: Asian only  1999-2002   6-11 years       NaN  NaN  \n",
       "472  Not Hispanic or Latino: Asian only  2001-2004   6-11 years       NaN  NaN  \n",
       "473  Not Hispanic or Latino: Asian only  2003-2006   6-11 years       NaN  NaN  \n",
       "474  Not Hispanic or Latino: Asian only  2005-2008   6-11 years       NaN  NaN  \n",
       "475  Not Hispanic or Latino: Asian only  2007-2010   6-11 years       NaN  NaN  \n",
       "476  Not Hispanic or Latino: Asian only  2009-2012   6-11 years       NaN  NaN  \n",
       "477  Not Hispanic or Latino: Asian only  2011-2014   6-11 years       9.8  2.0  \n",
       "478  Not Hispanic or Latino: Asian only  2013-2016   6-11 years      12.9  2.9  \n",
       "479  Not Hispanic or Latino: Asian only  2015-2018   6-11 years      10.3  2.8  \n",
       "680  Not Hispanic or Latino: Asian only  1988-1994  12-19 years       NaN  NaN  \n",
       "681  Not Hispanic or Latino: Asian only  1999-2002  12-19 years       NaN  NaN  \n",
       "682  Not Hispanic or Latino: Asian only  2001-2004  12-19 years       NaN  NaN  \n",
       "683  Not Hispanic or Latino: Asian only  2003-2006  12-19 years       NaN  NaN  \n",
       "684  Not Hispanic or Latino: Asian only  2005-2008  12-19 years       NaN  NaN  \n",
       "685  Not Hispanic or Latino: Asian only  2007-2010  12-19 years       NaN  NaN  \n",
       "686  Not Hispanic or Latino: Asian only  2009-2012  12-19 years       NaN  NaN  \n",
       "687  Not Hispanic or Latino: Asian only  2011-2014  12-19 years       9.4  1.6  \n",
       "688  Not Hispanic or Latino: Asian only  2013-2016  12-19 years       8.8  1.5  \n",
       "689  Not Hispanic or Latino: Asian only  2015-2018  12-19 years      11.5  1.8  "
      ]
     },
     "execution_count": 257,
     "metadata": {},
     "output_type": "execute_result"
    }
   ],
   "source": [
    "race_his_obesity[race_his_obesity[\"STUB_LABEL\"] == \"Not Hispanic or Latino: Asian only\"]"
   ]
  },
  {
   "cell_type": "markdown",
   "metadata": {},
   "source": [
    "### Visual 3"
   ]
  },
  {
   "cell_type": "code",
   "execution_count": null,
   "metadata": {},
   "outputs": [],
   "source": []
  },
  {
   "cell_type": "markdown",
   "metadata": {},
   "source": [
    "## Reflections \n",
    "**What has been the hardest part of the project encountered so far?** \n",
    "+ The hardest part was understanding the raw data and propertly cleaning the data. Many of the column names were differently then expected and knowing how each column correlated with the other columns took a while to understand. Not only that but knowing the different values that can occur in every column and if it was neccesary for the analysis. Only after understanding this can we propertly clean the data and subset the data.\n",
    "  \n",
    "**What are your intial insights?**\n",
    "+ Obesity analysis from individuals 2-19 are\n",
    "  +\n",
    "+ Obesity analysis from individuals 22+ are\n",
    "  +\n",
    "+ Physical Activity and nutrion\n",
    "  +\n",
    "\n",
    "**Are there any concrete results you can show at this point? If not, why not?**\n",
    "+ .\n",
    "**Going forward, what are the current biggest problems you’re facing?**\n",
    "+\n",
    "**Do you think you are on track with your project? If not, what parts do you need to dedicate more time to?**\n",
    "+\n",
    "**Given your initial exploration of the data, is it worth proceeding with your project, why? If not, how are you going to change your project and why do you think it’s better than your current results?**\n",
    "+ \n",
    "## Next Steps\n",
    "**What you plan to accomplish in the next month and how you plan to evaluate whether your project achieved the goals you set for it.**\n",
    "+\n",
    "\n",
    "\n",
    "\n",
    "\n"
   ]
  }
 ],
 "metadata": {
  "kernelspec": {
   "display_name": "Python 3 (ipykernel)",
   "language": "python",
   "name": "python3"
  },
  "language_info": {
   "codemirror_mode": {
    "name": "ipython",
    "version": 3
   },
   "file_extension": ".py",
   "mimetype": "text/x-python",
   "name": "python",
   "nbconvert_exporter": "python",
   "pygments_lexer": "ipython3",
   "version": "3.9.6"
  },
  "vscode": {
   "interpreter": {
    "hash": "31f2aee4e71d21fbe5cf8b01ff0e069b9275f58929596ceb00d14d90e3e16cd6"
   }
  }
 },
 "nbformat": 4,
 "nbformat_minor": 4
}
