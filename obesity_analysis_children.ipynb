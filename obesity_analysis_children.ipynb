{
 "cells": [
  {
   "cell_type": "markdown",
   "metadata": {},
   "source": [
    "# Obesity Among Children and Adolescents 2-19 Analysis\n",
    "This notebook contains analysis on obesity amongst children using age, sex, year, race, and other factors to determine what factors make individuals aged 2-19 more likely to be obese.\n",
    "## Project Introduction\n",
    "With obesity at all time rates in the United States it is important to understand the individuals most at risk. Obesity is a pressing public health concern with far-reaching implications for everyone. This analysis is focused on the critical issue of obesity among children and adolescents aged 2-19 years, exploring data from selected population characteristics. This information was made available by the Centers of Disease Control and Prevention (CDC) and contains data from 1988-2018. The data gives us access to information regarding percent poverty level, race, hispanic origin, age, and sex of a age range in a given year. Few interesting questions we are investigating are if income is the leading factor in obesity. Though, children and many adolscents do not have income, we can use the poverty level to ask the question if the leading factor of obesity in individuals 2-19 is poverty. Other questions that can be answered are is the trend in obesity the same in all races, or if younger age range are more affected by obesity. \n",
    "## Any Changes\n",
    "As of now, no changes have been made to the scope of the project since the check in. The current scope of the project is \n",
    "## Data Cleaning - Obesity Among Children and Adolescents 2-19 Analysis\n"
   ]
  },
  {
   "cell_type": "code",
   "execution_count": 130,
   "metadata": {},
   "outputs": [],
   "source": [
    "import pandas as pd\n",
    "import numpy as np\n",
    "import seaborn as sns\n",
    "import plotly.express as px\n",
    "%matplotlib inline\n",
    "import matplotlib.pyplot as plt\n",
    "import obesity_children "
   ]
  },
  {
   "cell_type": "markdown",
   "metadata": {},
   "source": [
    "### Before Cleaning Data Set\n",
    "Printed below is the original dataset"
   ]
  },
  {
   "cell_type": "code",
   "execution_count": 131,
   "metadata": {},
   "outputs": [
    {
     "data": {
      "text/html": [
       "<div>\n",
       "<style scoped>\n",
       "    .dataframe tbody tr th:only-of-type {\n",
       "        vertical-align: middle;\n",
       "    }\n",
       "\n",
       "    .dataframe tbody tr th {\n",
       "        vertical-align: top;\n",
       "    }\n",
       "\n",
       "    .dataframe thead th {\n",
       "        text-align: right;\n",
       "    }\n",
       "</style>\n",
       "<table border=\"1\" class=\"dataframe\">\n",
       "  <thead>\n",
       "    <tr style=\"text-align: right;\">\n",
       "      <th></th>\n",
       "      <th>INDICATOR</th>\n",
       "      <th>PANEL</th>\n",
       "      <th>PANEL_NUM</th>\n",
       "      <th>UNIT</th>\n",
       "      <th>UNIT_NUM</th>\n",
       "      <th>STUB_NAME</th>\n",
       "      <th>STUB_NAME_NUM</th>\n",
       "      <th>STUB_LABEL_NUM</th>\n",
       "      <th>STUB_LABEL</th>\n",
       "      <th>YEAR</th>\n",
       "      <th>YEAR_NUM</th>\n",
       "      <th>AGE</th>\n",
       "      <th>AGE_NUM</th>\n",
       "      <th>ESTIMATE</th>\n",
       "      <th>SE</th>\n",
       "      <th>FLAG</th>\n",
       "    </tr>\n",
       "  </thead>\n",
       "  <tbody>\n",
       "    <tr>\n",
       "      <th>0</th>\n",
       "      <td>Obesity among children and adolescents aged 2-...</td>\n",
       "      <td>2-19 years</td>\n",
       "      <td>1</td>\n",
       "      <td>Percent of population, crude</td>\n",
       "      <td>1</td>\n",
       "      <td>Total</td>\n",
       "      <td>0</td>\n",
       "      <td>0.0</td>\n",
       "      <td>2-19 years</td>\n",
       "      <td>1988-1994</td>\n",
       "      <td>1</td>\n",
       "      <td>2-19 years</td>\n",
       "      <td>0.0</td>\n",
       "      <td>10.0</td>\n",
       "      <td>0.5</td>\n",
       "      <td>NaN</td>\n",
       "    </tr>\n",
       "    <tr>\n",
       "      <th>1</th>\n",
       "      <td>Obesity among children and adolescents aged 2-...</td>\n",
       "      <td>2-19 years</td>\n",
       "      <td>1</td>\n",
       "      <td>Percent of population, crude</td>\n",
       "      <td>1</td>\n",
       "      <td>Total</td>\n",
       "      <td>0</td>\n",
       "      <td>0.0</td>\n",
       "      <td>2-19 years</td>\n",
       "      <td>1999-2002</td>\n",
       "      <td>2</td>\n",
       "      <td>2-19 years</td>\n",
       "      <td>0.0</td>\n",
       "      <td>14.8</td>\n",
       "      <td>0.7</td>\n",
       "      <td>NaN</td>\n",
       "    </tr>\n",
       "    <tr>\n",
       "      <th>2</th>\n",
       "      <td>Obesity among children and adolescents aged 2-...</td>\n",
       "      <td>2-19 years</td>\n",
       "      <td>1</td>\n",
       "      <td>Percent of population, crude</td>\n",
       "      <td>1</td>\n",
       "      <td>Total</td>\n",
       "      <td>0</td>\n",
       "      <td>0.0</td>\n",
       "      <td>2-19 years</td>\n",
       "      <td>2001-2004</td>\n",
       "      <td>3</td>\n",
       "      <td>2-19 years</td>\n",
       "      <td>0.0</td>\n",
       "      <td>16.3</td>\n",
       "      <td>0.8</td>\n",
       "      <td>NaN</td>\n",
       "    </tr>\n",
       "    <tr>\n",
       "      <th>3</th>\n",
       "      <td>Obesity among children and adolescents aged 2-...</td>\n",
       "      <td>2-19 years</td>\n",
       "      <td>1</td>\n",
       "      <td>Percent of population, crude</td>\n",
       "      <td>1</td>\n",
       "      <td>Total</td>\n",
       "      <td>0</td>\n",
       "      <td>0.0</td>\n",
       "      <td>2-19 years</td>\n",
       "      <td>2003-2006</td>\n",
       "      <td>4</td>\n",
       "      <td>2-19 years</td>\n",
       "      <td>0.0</td>\n",
       "      <td>16.3</td>\n",
       "      <td>0.9</td>\n",
       "      <td>NaN</td>\n",
       "    </tr>\n",
       "    <tr>\n",
       "      <th>4</th>\n",
       "      <td>Obesity among children and adolescents aged 2-...</td>\n",
       "      <td>2-19 years</td>\n",
       "      <td>1</td>\n",
       "      <td>Percent of population, crude</td>\n",
       "      <td>1</td>\n",
       "      <td>Total</td>\n",
       "      <td>0</td>\n",
       "      <td>0.0</td>\n",
       "      <td>2-19 years</td>\n",
       "      <td>2005-2008</td>\n",
       "      <td>5</td>\n",
       "      <td>2-19 years</td>\n",
       "      <td>0.0</td>\n",
       "      <td>16.2</td>\n",
       "      <td>0.9</td>\n",
       "      <td>NaN</td>\n",
       "    </tr>\n",
       "  </tbody>\n",
       "</table>\n",
       "</div>"
      ],
      "text/plain": [
       "                                           INDICATOR       PANEL  PANEL_NUM  \\\n",
       "0  Obesity among children and adolescents aged 2-...  2-19 years          1   \n",
       "1  Obesity among children and adolescents aged 2-...  2-19 years          1   \n",
       "2  Obesity among children and adolescents aged 2-...  2-19 years          1   \n",
       "3  Obesity among children and adolescents aged 2-...  2-19 years          1   \n",
       "4  Obesity among children and adolescents aged 2-...  2-19 years          1   \n",
       "\n",
       "                           UNIT  UNIT_NUM STUB_NAME  STUB_NAME_NUM  \\\n",
       "0  Percent of population, crude         1     Total              0   \n",
       "1  Percent of population, crude         1     Total              0   \n",
       "2  Percent of population, crude         1     Total              0   \n",
       "3  Percent of population, crude         1     Total              0   \n",
       "4  Percent of population, crude         1     Total              0   \n",
       "\n",
       "   STUB_LABEL_NUM  STUB_LABEL       YEAR  YEAR_NUM         AGE  AGE_NUM  \\\n",
       "0             0.0  2-19 years  1988-1994         1  2-19 years      0.0   \n",
       "1             0.0  2-19 years  1999-2002         2  2-19 years      0.0   \n",
       "2             0.0  2-19 years  2001-2004         3  2-19 years      0.0   \n",
       "3             0.0  2-19 years  2003-2006         4  2-19 years      0.0   \n",
       "4             0.0  2-19 years  2005-2008         5  2-19 years      0.0   \n",
       "\n",
       "   ESTIMATE   SE FLAG  \n",
       "0      10.0  0.5  NaN  \n",
       "1      14.8  0.7  NaN  \n",
       "2      16.3  0.8  NaN  \n",
       "3      16.3  0.9  NaN  \n",
       "4      16.2  0.9  NaN  "
      ]
     },
     "execution_count": 131,
     "metadata": {},
     "output_type": "execute_result"
    }
   ],
   "source": [
    "obesity_children = pd.read_csv(\"Obesity_among_children_and_adolescents_aged_2_19_years__by_selected_characteristics__United_States.csv\")\n",
    "obesity_children.head()\n"
   ]
  },
  {
   "cell_type": "code",
   "execution_count": 237,
   "metadata": {
    "scrolled": true
   },
   "outputs": [],
   "source": [
    "obesity_single_unique = remove_single_unique(obesity_children)\n",
    "obesity_clean = remove_num_columns(obesity_single_unique)\n",
    "sex_race_his_obesity, race_his_obesity, total_obesity, poverty_obesity, sex_obesity, age_obesity = final_clean(obesity_clean)"
   ]
  },
  {
   "cell_type": "markdown",
   "metadata": {},
   "source": [
    "### After Cleaning Data Set\n",
    "The functions above were called to clean the data. Below are the cleaned datasets split into categories based on population characteristics."
   ]
  },
  {
   "cell_type": "code",
   "execution_count": 238,
   "metadata": {},
   "outputs": [
    {
     "data": {
      "text/html": [
       "<div>\n",
       "<style scoped>\n",
       "    .dataframe tbody tr th:only-of-type {\n",
       "        vertical-align: middle;\n",
       "    }\n",
       "\n",
       "    .dataframe tbody tr th {\n",
       "        vertical-align: top;\n",
       "    }\n",
       "\n",
       "    .dataframe thead th {\n",
       "        text-align: right;\n",
       "    }\n",
       "</style>\n",
       "<table border=\"1\" class=\"dataframe\">\n",
       "  <thead>\n",
       "    <tr style=\"text-align: right;\">\n",
       "      <th></th>\n",
       "      <th>PANEL</th>\n",
       "      <th>STUB_NAME</th>\n",
       "      <th>STUB_LABEL</th>\n",
       "      <th>YEAR</th>\n",
       "      <th>AGE</th>\n",
       "      <th>ESTIMATE</th>\n",
       "      <th>SE</th>\n",
       "    </tr>\n",
       "  </thead>\n",
       "  <tbody>\n",
       "    <tr>\n",
       "      <th>0</th>\n",
       "      <td>2-19 years</td>\n",
       "      <td>Total</td>\n",
       "      <td>2-19 years</td>\n",
       "      <td>1988-1994</td>\n",
       "      <td>2-19 years</td>\n",
       "      <td>10.0</td>\n",
       "      <td>0.5</td>\n",
       "    </tr>\n",
       "    <tr>\n",
       "      <th>1</th>\n",
       "      <td>2-19 years</td>\n",
       "      <td>Total</td>\n",
       "      <td>2-19 years</td>\n",
       "      <td>1999-2002</td>\n",
       "      <td>2-19 years</td>\n",
       "      <td>14.8</td>\n",
       "      <td>0.7</td>\n",
       "    </tr>\n",
       "    <tr>\n",
       "      <th>2</th>\n",
       "      <td>2-19 years</td>\n",
       "      <td>Total</td>\n",
       "      <td>2-19 years</td>\n",
       "      <td>2001-2004</td>\n",
       "      <td>2-19 years</td>\n",
       "      <td>16.3</td>\n",
       "      <td>0.8</td>\n",
       "    </tr>\n",
       "    <tr>\n",
       "      <th>3</th>\n",
       "      <td>2-19 years</td>\n",
       "      <td>Total</td>\n",
       "      <td>2-19 years</td>\n",
       "      <td>2003-2006</td>\n",
       "      <td>2-19 years</td>\n",
       "      <td>16.3</td>\n",
       "      <td>0.9</td>\n",
       "    </tr>\n",
       "    <tr>\n",
       "      <th>4</th>\n",
       "      <td>2-19 years</td>\n",
       "      <td>Total</td>\n",
       "      <td>2-19 years</td>\n",
       "      <td>2005-2008</td>\n",
       "      <td>2-19 years</td>\n",
       "      <td>16.2</td>\n",
       "      <td>0.9</td>\n",
       "    </tr>\n",
       "  </tbody>\n",
       "</table>\n",
       "</div>"
      ],
      "text/plain": [
       "        PANEL STUB_NAME  STUB_LABEL       YEAR         AGE  ESTIMATE   SE\n",
       "0  2-19 years     Total  2-19 years  1988-1994  2-19 years      10.0  0.5\n",
       "1  2-19 years     Total  2-19 years  1999-2002  2-19 years      14.8  0.7\n",
       "2  2-19 years     Total  2-19 years  2001-2004  2-19 years      16.3  0.8\n",
       "3  2-19 years     Total  2-19 years  2003-2006  2-19 years      16.3  0.9\n",
       "4  2-19 years     Total  2-19 years  2005-2008  2-19 years      16.2  0.9"
      ]
     },
     "execution_count": 238,
     "metadata": {},
     "output_type": "execute_result"
    }
   ],
   "source": [
    "total_obesity.head()"
   ]
  },
  {
   "cell_type": "code",
   "execution_count": 116,
   "metadata": {},
   "outputs": [
    {
     "data": {
      "text/html": [
       "<div>\n",
       "<style scoped>\n",
       "    .dataframe tbody tr th:only-of-type {\n",
       "        vertical-align: middle;\n",
       "    }\n",
       "\n",
       "    .dataframe tbody tr th {\n",
       "        vertical-align: top;\n",
       "    }\n",
       "\n",
       "    .dataframe thead th {\n",
       "        text-align: right;\n",
       "    }\n",
       "</style>\n",
       "<table border=\"1\" class=\"dataframe\">\n",
       "  <thead>\n",
       "    <tr style=\"text-align: right;\">\n",
       "      <th></th>\n",
       "      <th>PANEL</th>\n",
       "      <th>STUB_NAME</th>\n",
       "      <th>STUB_LABEL</th>\n",
       "      <th>YEAR</th>\n",
       "      <th>AGE</th>\n",
       "      <th>ESTIMATE</th>\n",
       "      <th>SE</th>\n",
       "    </tr>\n",
       "  </thead>\n",
       "  <tbody>\n",
       "    <tr>\n",
       "      <th>171</th>\n",
       "      <td>2-19 years</td>\n",
       "      <td>Percent of poverty level</td>\n",
       "      <td>Below 100%</td>\n",
       "      <td>1988-1994</td>\n",
       "      <td>2-19 years</td>\n",
       "      <td>12.6</td>\n",
       "      <td>1.2</td>\n",
       "    </tr>\n",
       "    <tr>\n",
       "      <th>172</th>\n",
       "      <td>2-19 years</td>\n",
       "      <td>Percent of poverty level</td>\n",
       "      <td>Below 100%</td>\n",
       "      <td>1999-2002</td>\n",
       "      <td>2-19 years</td>\n",
       "      <td>17.6</td>\n",
       "      <td>1.1</td>\n",
       "    </tr>\n",
       "    <tr>\n",
       "      <th>173</th>\n",
       "      <td>2-19 years</td>\n",
       "      <td>Percent of poverty level</td>\n",
       "      <td>Below 100%</td>\n",
       "      <td>2001-2004</td>\n",
       "      <td>2-19 years</td>\n",
       "      <td>17.9</td>\n",
       "      <td>1.3</td>\n",
       "    </tr>\n",
       "    <tr>\n",
       "      <th>174</th>\n",
       "      <td>2-19 years</td>\n",
       "      <td>Percent of poverty level</td>\n",
       "      <td>Below 100%</td>\n",
       "      <td>2003-2006</td>\n",
       "      <td>2-19 years</td>\n",
       "      <td>18.9</td>\n",
       "      <td>1.4</td>\n",
       "    </tr>\n",
       "    <tr>\n",
       "      <th>175</th>\n",
       "      <td>2-19 years</td>\n",
       "      <td>Percent of poverty level</td>\n",
       "      <td>Below 100%</td>\n",
       "      <td>2005-2008</td>\n",
       "      <td>2-19 years</td>\n",
       "      <td>19.9</td>\n",
       "      <td>1.4</td>\n",
       "    </tr>\n",
       "  </tbody>\n",
       "</table>\n",
       "</div>"
      ],
      "text/plain": [
       "          PANEL                 STUB_NAME  STUB_LABEL       YEAR         AGE  \\\n",
       "171  2-19 years  Percent of poverty level  Below 100%  1988-1994  2-19 years   \n",
       "172  2-19 years  Percent of poverty level  Below 100%  1999-2002  2-19 years   \n",
       "173  2-19 years  Percent of poverty level  Below 100%  2001-2004  2-19 years   \n",
       "174  2-19 years  Percent of poverty level  Below 100%  2003-2006  2-19 years   \n",
       "175  2-19 years  Percent of poverty level  Below 100%  2005-2008  2-19 years   \n",
       "\n",
       "     ESTIMATE   SE  \n",
       "171      12.6  1.2  \n",
       "172      17.6  1.1  \n",
       "173      17.9  1.3  \n",
       "174      18.9  1.4  \n",
       "175      19.9  1.4  "
      ]
     },
     "execution_count": 116,
     "metadata": {},
     "output_type": "execute_result"
    }
   ],
   "source": [
    "poverty_obesity.head()"
   ]
  },
  {
   "cell_type": "code",
   "execution_count": 119,
   "metadata": {},
   "outputs": [
    {
     "data": {
      "text/html": [
       "<div>\n",
       "<style scoped>\n",
       "    .dataframe tbody tr th:only-of-type {\n",
       "        vertical-align: middle;\n",
       "    }\n",
       "\n",
       "    .dataframe tbody tr th {\n",
       "        vertical-align: top;\n",
       "    }\n",
       "\n",
       "    .dataframe thead th {\n",
       "        text-align: right;\n",
       "    }\n",
       "</style>\n",
       "<table border=\"1\" class=\"dataframe\">\n",
       "  <thead>\n",
       "    <tr style=\"text-align: right;\">\n",
       "      <th></th>\n",
       "      <th>PANEL</th>\n",
       "      <th>STUB_NAME</th>\n",
       "      <th>STUB_LABEL</th>\n",
       "      <th>YEAR</th>\n",
       "      <th>AGE</th>\n",
       "      <th>ESTIMATE</th>\n",
       "      <th>SE</th>\n",
       "    </tr>\n",
       "  </thead>\n",
       "  <tbody>\n",
       "    <tr>\n",
       "      <th>80</th>\n",
       "      <td>2-19 years</td>\n",
       "      <td>Sex and race and Hispanic origin</td>\n",
       "      <td>Male: Not Hispanic or Latino: Black or African...</td>\n",
       "      <td>1988-1994</td>\n",
       "      <td>2-19 years</td>\n",
       "      <td>10.6</td>\n",
       "      <td>0.8</td>\n",
       "    </tr>\n",
       "    <tr>\n",
       "      <th>81</th>\n",
       "      <td>2-19 years</td>\n",
       "      <td>Sex and race and Hispanic origin</td>\n",
       "      <td>Male: Not Hispanic or Latino: Black or African...</td>\n",
       "      <td>1999-2002</td>\n",
       "      <td>2-19 years</td>\n",
       "      <td>16.0</td>\n",
       "      <td>0.9</td>\n",
       "    </tr>\n",
       "    <tr>\n",
       "      <th>82</th>\n",
       "      <td>2-19 years</td>\n",
       "      <td>Sex and race and Hispanic origin</td>\n",
       "      <td>Male: Not Hispanic or Latino: Black or African...</td>\n",
       "      <td>2001-2004</td>\n",
       "      <td>2-19 years</td>\n",
       "      <td>16.0</td>\n",
       "      <td>1.0</td>\n",
       "    </tr>\n",
       "    <tr>\n",
       "      <th>83</th>\n",
       "      <td>2-19 years</td>\n",
       "      <td>Sex and race and Hispanic origin</td>\n",
       "      <td>Male: Not Hispanic or Latino: Black or African...</td>\n",
       "      <td>2003-2006</td>\n",
       "      <td>2-19 years</td>\n",
       "      <td>17.4</td>\n",
       "      <td>1.0</td>\n",
       "    </tr>\n",
       "    <tr>\n",
       "      <th>84</th>\n",
       "      <td>2-19 years</td>\n",
       "      <td>Sex and race and Hispanic origin</td>\n",
       "      <td>Male: Not Hispanic or Latino: Black or African...</td>\n",
       "      <td>2005-2008</td>\n",
       "      <td>2-19 years</td>\n",
       "      <td>17.8</td>\n",
       "      <td>1.3</td>\n",
       "    </tr>\n",
       "  </tbody>\n",
       "</table>\n",
       "</div>"
      ],
      "text/plain": [
       "         PANEL                         STUB_NAME  \\\n",
       "80  2-19 years  Sex and race and Hispanic origin   \n",
       "81  2-19 years  Sex and race and Hispanic origin   \n",
       "82  2-19 years  Sex and race and Hispanic origin   \n",
       "83  2-19 years  Sex and race and Hispanic origin   \n",
       "84  2-19 years  Sex and race and Hispanic origin   \n",
       "\n",
       "                                           STUB_LABEL       YEAR         AGE  \\\n",
       "80  Male: Not Hispanic or Latino: Black or African...  1988-1994  2-19 years   \n",
       "81  Male: Not Hispanic or Latino: Black or African...  1999-2002  2-19 years   \n",
       "82  Male: Not Hispanic or Latino: Black or African...  2001-2004  2-19 years   \n",
       "83  Male: Not Hispanic or Latino: Black or African...  2003-2006  2-19 years   \n",
       "84  Male: Not Hispanic or Latino: Black or African...  2005-2008  2-19 years   \n",
       "\n",
       "    ESTIMATE   SE  \n",
       "80      10.6  0.8  \n",
       "81      16.0  0.9  \n",
       "82      16.0  1.0  \n",
       "83      17.4  1.0  \n",
       "84      17.8  1.3  "
      ]
     },
     "execution_count": 119,
     "metadata": {},
     "output_type": "execute_result"
    }
   ],
   "source": [
    "sex_race_his_obesity.head()"
   ]
  },
  {
   "cell_type": "markdown",
   "metadata": {},
   "source": [
    "## Exploratory Data Analysis (EDA) \n",
    "The graph below depicts the trend of obesity rates over time in individuals aged 2 to 19. The data of obesity percentage estimates span from 1988 to 2018, however, we use the starting dates to better understand the data. The blue graph represents the obesity rate and the orange line represents the standard error for each of the estimates. As seen below, the obesity rate increases dramatically from it being aroung 10% to almost 19% near 2016. Also, the data does not seem to have as much frequent data about obesity in individuals aged 2-19 from 1988-1999. When focused on the data we can see that the majority of data seems to be from 1999-2016. There has been steady increases in obesity with a higher rate of increase from the years 2015 and beyond. The estimates seem consistant and did not increase when the obesity rate increased."
   ]
  },
  {
   "cell_type": "code",
   "execution_count": 183,
   "metadata": {},
   "outputs": [
    {
     "data": {
      "image/png": "[encoded data removed]",
      "text/plain": [
       "<Figure size 640x480 with 1 Axes>"
      ]
     },
     "metadata": {},
     "output_type": "display_data"
    }
   ],
   "source": [
    "obesity_EDA_visual(total_obesity)"
   ]
  },
  {
   "cell_type": "markdown",
   "metadata": {},
   "source": [
    "## Visualizations"
   ]
  },
  {
   "cell_type": "markdown",
   "metadata": {},
   "source": [
    "### Visual 1: Obesity Estimate based on Poverty Level and Age in individuals aged 2-19"
   ]
  },
  {
   "cell_type": "code",
   "execution_count": 236,
   "metadata": {},
   "outputs": [
    {
     "data": {
      "application/vnd.plotly.v1+json": {
       "config": {
        "plotlyServerURL": "https://plot.ly"
       },
       "data": [
        {
         "alignmentgroup": "True",
         "hovertemplate": "AGE=2-5 years<br>Poverty Levels (Highest to Least)=%{x}<br>Obesity Rate (%)=%{y}<extra></extra>",
         "legendgroup": "2-5 years",
         "marker": {
          "color": "#636efa",
          "pattern": {
           "shape": ""
          }
         },
         "name": "2-5 years",
         "offsetgroup": "2-5 years",
         "orientation": "v",
         "showlegend": true,
         "textposition": "auto",
         "type": "bar",
         "x": [
          "Below 100%",
          "100%-199%",
          "200%-399%",
          "400% or more"
         ],
         "xaxis": "x",
         "y": [
          12.77,
          12.01,
          10.6,
          7.12
         ],
         "yaxis": "y"
        },
        {
         "alignmentgroup": "True",
         "hovertemplate": "AGE=6-11 years<br>Poverty Levels (Highest to Least)=%{x}<br>Obesity Rate (%)=%{y}<extra></extra>",
         "legendgroup": "6-11 years",
         "marker": {
          "color": "#EF553B",
          "pattern": {
           "shape": ""
          }
         },
         "name": "6-11 years",
         "offsetgroup": "6-11 years",
         "orientation": "v",
         "showlegend": true,
         "textposition": "auto",
         "type": "bar",
         "x": [
          "Below 100%",
          "100%-199%",
          "200%-399%",
          "400% or more"
         ],
         "xaxis": "x",
         "y": [
          20.740000000000002,
          19.05,
          16.330000000000002,
          11.577777777777778
         ],
         "yaxis": "y"
        },
        {
         "alignmentgroup": "True",
         "hovertemplate": "AGE=12-19 years<br>Poverty Levels (Highest to Least)=%{x}<br>Obesity Rate (%)=%{y}<extra></extra>",
         "legendgroup": "12-19 years",
         "marker": {
          "color": "#00cc96",
          "pattern": {
           "shape": ""
          }
         },
         "name": "12-19 years",
         "offsetgroup": "12-19 years",
         "orientation": "v",
         "showlegend": true,
         "textposition": "auto",
         "type": "bar",
         "x": [
          "Below 100%",
          "100%-199%",
          "200%-399%",
          "400% or more"
         ],
         "xaxis": "x",
         "y": [
          22.05,
          19.72,
          17.55,
          13.322222222222223
         ],
         "yaxis": "y"
        }
       ],
       "layout": {
        "autosize": true,
        "barmode": "group",
        "legend": {
         "title": {
          "text": "AGE"
         },
         "tracegroupgap": 0
        },
        "template": {
         "data": {
          "bar": [
           {
            "error_x": {
             "color": "#2a3f5f"
            },
            "error_y": {
             "color": "#2a3f5f"
            },
            "marker": {
             "line": {
              "color": "#E5ECF6",
              "width": 0.5
             },
             "pattern": {
              "fillmode": "overlay",
              "size": 10,
              "solidity": 0.2
             }
            },
            "type": "bar"
           }
          ],
          "barpolar": [
           {
            "marker": {
             "line": {
              "color": "#E5ECF6",
              "width": 0.5
             },
             "pattern": {
              "fillmode": "overlay",
              "size": 10,
              "solidity": 0.2
             }
            },
            "type": "barpolar"
           }
          ],
          "carpet": [
           {
            "aaxis": {
             "endlinecolor": "#2a3f5f",
             "gridcolor": "white",
             "linecolor": "white",
             "minorgridcolor": "white",
             "startlinecolor": "#2a3f5f"
            },
            "baxis": {
             "endlinecolor": "#2a3f5f",
             "gridcolor": "white",
             "linecolor": "white",
             "minorgridcolor": "white",
             "startlinecolor": "#2a3f5f"
            },
            "type": "carpet"
           }
          ],
          "choropleth": [
           {
            "colorbar": {
             "outlinewidth": 0,
             "ticks": ""
            },
            "type": "choropleth"
           }
          ],
          "contour": [
           {
            "colorbar": {
             "outlinewidth": 0,
             "ticks": ""
            },
            "colorscale": [
             [
              0,
              "#0d0887"
             ],
             [
              0.1111111111111111,
              "#46039f"
             ],
             [
              0.2222222222222222,
              "#7201a8"
             ],
             [
              0.3333333333333333,
              "#9c179e"
             ],
             [
              0.4444444444444444,
              "#bd3786"
             ],
             [
              0.5555555555555556,
              "#d8576b"
             ],
             [
              0.6666666666666666,
              "#ed7953"
             ],
             [
              0.7777777777777778,
              "#fb9f3a"
             ],
             [
              0.8888888888888888,
              "#fdca26"
             ],
             [
              1,
              "#f0f921"
             ]
            ],
            "type": "contour"
           }
          ],
          "contourcarpet": [
           {
            "colorbar": {
             "outlinewidth": 0,
             "ticks": ""
            },
            "type": "contourcarpet"
           }
          ],
          "heatmap": [
           {
            "colorbar": {
             "outlinewidth": 0,
             "ticks": ""
            },
            "colorscale": [
             [
              0,
              "#0d0887"
             ],
             [
              0.1111111111111111,
              "#46039f"
             ],
             [
              0.2222222222222222,
              "#7201a8"
             ],
             [
              0.3333333333333333,
              "#9c179e"
             ],
             [
              0.4444444444444444,
              "#bd3786"
             ],
             [
              0.5555555555555556,
              "#d8576b"
             ],
             [
              0.6666666666666666,
              "#ed7953"
             ],
             [
              0.7777777777777778,
              "#fb9f3a"
             ],
             [
              0.8888888888888888,
              "#fdca26"
             ],
             [
              1,
              "#f0f921"
             ]
            ],
            "type": "heatmap"
           }
          ],
          "heatmapgl": [
           {
            "colorbar": {
             "outlinewidth": 0,
             "ticks": ""
            },
            "colorscale": [
             [
              0,
              "#0d0887"
             ],
             [
              0.1111111111111111,
              "#46039f"
             ],
             [
              0.2222222222222222,
              "#7201a8"
             ],
             [
              0.3333333333333333,
              "#9c179e"
             ],
             [
              0.4444444444444444,
              "#bd3786"
             ],
             [
              0.5555555555555556,
              "#d8576b"
             ],
             [
              0.6666666666666666,
              "#ed7953"
             ],
             [
              0.7777777777777778,
              "#fb9f3a"
             ],
             [
              0.8888888888888888,
              "#fdca26"
             ],
             [
              1,
              "#f0f921"
             ]
            ],
            "type": "heatmapgl"
           }
          ],
          "histogram": [
           {
            "marker": {
             "pattern": {
              "fillmode": "overlay",
              "size": 10,
              "solidity": 0.2
             }
            },
            "type": "histogram"
           }
          ],
          "histogram2d": [
           {
            "colorbar": {
             "outlinewidth": 0,
             "ticks": ""
            },
            "colorscale": [
             [
              0,
              "#0d0887"
             ],
             [
              0.1111111111111111,
              "#46039f"
             ],
             [
              0.2222222222222222,
              "#7201a8"
             ],
             [
              0.3333333333333333,
              "#9c179e"
             ],
             [
              0.4444444444444444,
              "#bd3786"
             ],
             [
              0.5555555555555556,
              "#d8576b"
             ],
             [
              0.6666666666666666,
              "#ed7953"
             ],
             [
              0.7777777777777778,
              "#fb9f3a"
             ],
             [
              0.8888888888888888,
              "#fdca26"
             ],
             [
              1,
              "#f0f921"
             ]
            ],
            "type": "histogram2d"
           }
          ],
          "histogram2dcontour": [
           {
            "colorbar": {
             "outlinewidth": 0,
             "ticks": ""
            },
            "colorscale": [
             [
              0,
              "#0d0887"
             ],
             [
              0.1111111111111111,
              "#46039f"
             ],
             [
              0.2222222222222222,
              "#7201a8"
             ],
             [
              0.3333333333333333,
              "#9c179e"
             ],
             [
              0.4444444444444444,
              "#bd3786"
             ],
             [
              0.5555555555555556,
              "#d8576b"
             ],
             [
              0.6666666666666666,
              "#ed7953"
             ],
             [
              0.7777777777777778,
              "#fb9f3a"
             ],
             [
              0.8888888888888888,
              "#fdca26"
             ],
             [
              1,
              "#f0f921"
             ]
            ],
            "type": "histogram2dcontour"
           }
          ],
          "mesh3d": [
           {
            "colorbar": {
             "outlinewidth": 0,
             "ticks": ""
            },
            "type": "mesh3d"
           }
          ],
          "parcoords": [
           {
            "line": {
             "colorbar": {
              "outlinewidth": 0,
              "ticks": ""
             }
            },
            "type": "parcoords"
           }
          ],
          "pie": [
           {
            "automargin": true,
            "type": "pie"
           }
          ],
          "scatter": [
           {
            "fillpattern": {
             "fillmode": "overlay",
             "size": 10,
             "solidity": 0.2
            },
            "type": "scatter"
           }
          ],
          "scatter3d": [
           {
            "line": {
             "colorbar": {
              "outlinewidth": 0,
              "ticks": ""
             }
            },
            "marker": {
             "colorbar": {
              "outlinewidth": 0,
              "ticks": ""
             }
            },
            "type": "scatter3d"
           }
          ],
          "scattercarpet": [
           {
            "marker": {
             "colorbar": {
              "outlinewidth": 0,
              "ticks": ""
             }
            },
            "type": "scattercarpet"
           }
          ],
          "scattergeo": [
           {
            "marker": {
             "colorbar": {
              "outlinewidth": 0,
              "ticks": ""
             }
            },
            "type": "scattergeo"
           }
          ],
          "scattergl": [
           {
            "marker": {
             "colorbar": {
              "outlinewidth": 0,
              "ticks": ""
             }
            },
            "type": "scattergl"
           }
          ],
          "scattermapbox": [
           {
            "marker": {
             "colorbar": {
              "outlinewidth": 0,
              "ticks": ""
             }
            },
            "type": "scattermapbox"
           }
          ],
          "scatterpolar": [
           {
            "marker": {
             "colorbar": {
              "outlinewidth": 0,
              "ticks": ""
             }
            },
            "type": "scatterpolar"
           }
          ],
          "scatterpolargl": [
           {
            "marker": {
             "colorbar": {
              "outlinewidth": 0,
              "ticks": ""
             }
            },
            "type": "scatterpolargl"
           }
          ],
          "scatterternary": [
           {
            "marker": {
             "colorbar": {
              "outlinewidth": 0,
              "ticks": ""
             }
            },
            "type": "scatterternary"
           }
          ],
          "surface": [
           {
            "colorbar": {
             "outlinewidth": 0,
             "ticks": ""
            },
            "colorscale": [
             [
              0,
              "#0d0887"
             ],
             [
              0.1111111111111111,
              "#46039f"
             ],
             [
              0.2222222222222222,
              "#7201a8"
             ],
             [
              0.3333333333333333,
              "#9c179e"
             ],
             [
              0.4444444444444444,
              "#bd3786"
             ],
             [
              0.5555555555555556,
              "#d8576b"
             ],
             [
              0.6666666666666666,
              "#ed7953"
             ],
             [
              0.7777777777777778,
              "#fb9f3a"
             ],
             [
              0.8888888888888888,
              "#fdca26"
             ],
             [
              1,
              "#f0f921"
             ]
            ],
            "type": "surface"
           }
          ],
          "table": [
           {
            "cells": {
             "fill": {
              "color": "#EBF0F8"
             },
             "line": {
              "color": "white"
             }
            },
            "header": {
             "fill": {
              "color": "#C8D4E3"
             },
             "line": {
              "color": "white"
             }
            },
            "type": "table"
           }
          ]
         },
         "layout": {
          "annotationdefaults": {
           "arrowcolor": "#2a3f5f",
           "arrowhead": 0,
           "arrowwidth": 1
          },
          "autotypenumbers": "strict",
          "coloraxis": {
           "colorbar": {
            "outlinewidth": 0,
            "ticks": ""
           }
          },
          "colorscale": {
           "diverging": [
            [
             0,
             "#8e0152"
            ],
            [
             0.1,
             "#c51b7d"
            ],
            [
             0.2,
             "#de77ae"
            ],
            [
             0.3,
             "#f1b6da"
            ],
            [
             0.4,
             "#fde0ef"
            ],
            [
             0.5,
             "#f7f7f7"
            ],
            [
             0.6,
             "#e6f5d0"
            ],
            [
             0.7,
             "#b8e186"
            ],
            [
             0.8,
             "#7fbc41"
            ],
            [
             0.9,
             "#4d9221"
            ],
            [
             1,
             "#276419"
            ]
           ],
           "sequential": [
            [
             0,
             "#0d0887"
            ],
            [
             0.1111111111111111,
             "#46039f"
            ],
            [
             0.2222222222222222,
             "#7201a8"
            ],
            [
             0.3333333333333333,
             "#9c179e"
            ],
            [
             0.4444444444444444,
             "#bd3786"
            ],
            [
             0.5555555555555556,
             "#d8576b"
            ],
            [
             0.6666666666666666,
             "#ed7953"
            ],
            [
             0.7777777777777778,
             "#fb9f3a"
            ],
            [
             0.8888888888888888,
             "#fdca26"
            ],
            [
             1,
             "#f0f921"
            ]
           ],
           "sequentialminus": [
            [
             0,
             "#0d0887"
            ],
            [
             0.1111111111111111,
             "#46039f"
            ],
            [
             0.2222222222222222,
             "#7201a8"
            ],
            [
             0.3333333333333333,
             "#9c179e"
            ],
            [
             0.4444444444444444,
             "#bd3786"
            ],
            [
             0.5555555555555556,
             "#d8576b"
            ],
            [
             0.6666666666666666,
             "#ed7953"
            ],
            [
             0.7777777777777778,
             "#fb9f3a"
            ],
            [
             0.8888888888888888,
             "#fdca26"
            ],
            [
             1,
             "#f0f921"
            ]
           ]
          },
          "colorway": [
           "#636efa",
           "#EF553B",
           "#00cc96",
           "#ab63fa",
           "#FFA15A",
           "#19d3f3",
           "#FF6692",
           "#B6E880",
           "#FF97FF",
           "#FECB52"
          ],
          "font": {
           "color": "#2a3f5f"
          },
          "geo": {
           "bgcolor": "white",
           "lakecolor": "white",
           "landcolor": "#E5ECF6",
           "showlakes": true,
           "showland": true,
           "subunitcolor": "white"
          },
          "hoverlabel": {
           "align": "left"
          },
          "hovermode": "closest",
          "mapbox": {
           "style": "light"
          },
          "paper_bgcolor": "white",
          "plot_bgcolor": "#E5ECF6",
          "polar": {
           "angularaxis": {
            "gridcolor": "white",
            "linecolor": "white",
            "ticks": ""
           },
           "bgcolor": "#E5ECF6",
           "radialaxis": {
            "gridcolor": "white",
            "linecolor": "white",
            "ticks": ""
           }
          },
          "scene": {
           "xaxis": {
            "backgroundcolor": "#E5ECF6",
            "gridcolor": "white",
            "gridwidth": 2,
            "linecolor": "white",
            "showbackground": true,
            "ticks": "",
            "zerolinecolor": "white"
           },
           "yaxis": {
            "backgroundcolor": "#E5ECF6",
            "gridcolor": "white",
            "gridwidth": 2,
            "linecolor": "white",
            "showbackground": true,
            "ticks": "",
            "zerolinecolor": "white"
           },
           "zaxis": {
            "backgroundcolor": "#E5ECF6",
            "gridcolor": "white",
            "gridwidth": 2,
            "linecolor": "white",
            "showbackground": true,
            "ticks": "",
            "zerolinecolor": "white"
           }
          },
          "shapedefaults": {
           "line": {
            "color": "#2a3f5f"
           }
          },
          "ternary": {
           "aaxis": {
            "gridcolor": "white",
            "linecolor": "white",
            "ticks": ""
           },
           "baxis": {
            "gridcolor": "white",
            "linecolor": "white",
            "ticks": ""
           },
           "bgcolor": "#E5ECF6",
           "caxis": {
            "gridcolor": "white",
            "linecolor": "white",
            "ticks": ""
           }
          },
          "title": {
           "x": 0.05
          },
          "xaxis": {
           "automargin": true,
           "gridcolor": "white",
           "linecolor": "white",
           "ticks": "",
           "title": {
            "standoff": 15
           },
           "zerolinecolor": "white",
           "zerolinewidth": 2
          },
          "yaxis": {
           "automargin": true,
           "gridcolor": "white",
           "linecolor": "white",
           "ticks": "",
           "title": {
            "standoff": 15
           },
           "zerolinecolor": "white",
           "zerolinewidth": 2
          }
         }
        },
        "title": {
         "text": "Obesity Estimate based on Poverty Level and Age in individuals aged 2-19"
        },
        "xaxis": {
         "anchor": "y",
         "autorange": true,
         "domain": [
          0,
          1
         ],
         "range": [
          -0.5,
          3.5
         ],
         "title": {
          "text": "Poverty Levels (Highest to Least)"
         },
         "type": "category"
        },
        "yaxis": {
         "anchor": "x",
         "autorange": true,
         "domain": [
          0,
          1
         ],
         "range": [
          0,
          23.210526315789476
         ],
         "title": {
          "text": "Obesity Rate (%)"
         },
         "type": "linear"
        }
       }
      },
      "image/png": "[encoded data removed]",
      "text/html": [
       "<div>                            <div id=\"07a5cbea-05dd-46c5-b557-4607a0a37eca\" class=\"plotly-graph-div\" style=\"height:525px; width:100%;\"></div>            <script type=\"text/javascript\">                require([\"plotly\"], function(Plotly) {                    window.PLOTLYENV=window.PLOTLYENV || {};                                    if (document.getElementById(\"07a5cbea-05dd-46c5-b557-4607a0a37eca\")) {                    Plotly.newPlot(                        \"07a5cbea-05dd-46c5-b557-4607a0a37eca\",                        [{\"alignmentgroup\":\"True\",\"hovertemplate\":\"AGE=2-5 years<br>Poverty Levels (Highest to Least)=%{x}<br>Obesity Rate (%)=%{y}<extra></extra>\",\"legendgroup\":\"2-5 years\",\"marker\":{\"color\":\"#636efa\",\"pattern\":{\"shape\":\"\"}},\"name\":\"2-5 years\",\"offsetgroup\":\"2-5 years\",\"orientation\":\"v\",\"showlegend\":true,\"textposition\":\"auto\",\"x\":[\"Below 100%\",\"100%-199%\",\"200%-399%\",\"400% or more\"],\"xaxis\":\"x\",\"y\":[12.77,12.01,10.6,7.12],\"yaxis\":\"y\",\"type\":\"bar\"},{\"alignmentgroup\":\"True\",\"hovertemplate\":\"AGE=6-11 years<br>Poverty Levels (Highest to Least)=%{x}<br>Obesity Rate (%)=%{y}<extra></extra>\",\"legendgroup\":\"6-11 years\",\"marker\":{\"color\":\"#EF553B\",\"pattern\":{\"shape\":\"\"}},\"name\":\"6-11 years\",\"offsetgroup\":\"6-11 years\",\"orientation\":\"v\",\"showlegend\":true,\"textposition\":\"auto\",\"x\":[\"Below 100%\",\"100%-199%\",\"200%-399%\",\"400% or more\"],\"xaxis\":\"x\",\"y\":[20.740000000000002,19.05,16.330000000000002,11.577777777777778],\"yaxis\":\"y\",\"type\":\"bar\"},{\"alignmentgroup\":\"True\",\"hovertemplate\":\"AGE=12-19 years<br>Poverty Levels (Highest to Least)=%{x}<br>Obesity Rate (%)=%{y}<extra></extra>\",\"legendgroup\":\"12-19 years\",\"marker\":{\"color\":\"#00cc96\",\"pattern\":{\"shape\":\"\"}},\"name\":\"12-19 years\",\"offsetgroup\":\"12-19 years\",\"orientation\":\"v\",\"showlegend\":true,\"textposition\":\"auto\",\"x\":[\"Below 100%\",\"100%-199%\",\"200%-399%\",\"400% or more\"],\"xaxis\":\"x\",\"y\":[22.05,19.72,17.55,13.322222222222223],\"yaxis\":\"y\",\"type\":\"bar\"}],                        {\"template\":{\"data\":{\"histogram2dcontour\":[{\"type\":\"histogram2dcontour\",\"colorbar\":{\"outlinewidth\":0,\"ticks\":\"\"},\"colorscale\":[[0.0,\"#0d0887\"],[0.1111111111111111,\"#46039f\"],[0.2222222222222222,\"#7201a8\"],[0.3333333333333333,\"#9c179e\"],[0.4444444444444444,\"#bd3786\"],[0.5555555555555556,\"#d8576b\"],[0.6666666666666666,\"#ed7953\"],[0.7777777777777778,\"#fb9f3a\"],[0.8888888888888888,\"#fdca26\"],[1.0,\"#f0f921\"]]}],\"choropleth\":[{\"type\":\"choropleth\",\"colorbar\":{\"outlinewidth\":0,\"ticks\":\"\"}}],\"histogram2d\":[{\"type\":\"histogram2d\",\"colorbar\":{\"outlinewidth\":0,\"ticks\":\"\"},\"colorscale\":[[0.0,\"#0d0887\"],[0.1111111111111111,\"#46039f\"],[0.2222222222222222,\"#7201a8\"],[0.3333333333333333,\"#9c179e\"],[0.4444444444444444,\"#bd3786\"],[0.5555555555555556,\"#d8576b\"],[0.6666666666666666,\"#ed7953\"],[0.7777777777777778,\"#fb9f3a\"],[0.8888888888888888,\"#fdca26\"],[1.0,\"#f0f921\"]]}],\"heatmap\":[{\"type\":\"heatmap\",\"colorbar\":{\"outlinewidth\":0,\"ticks\":\"\"},\"colorscale\":[[0.0,\"#0d0887\"],[0.1111111111111111,\"#46039f\"],[0.2222222222222222,\"#7201a8\"],[0.3333333333333333,\"#9c179e\"],[0.4444444444444444,\"#bd3786\"],[0.5555555555555556,\"#d8576b\"],[0.6666666666666666,\"#ed7953\"],[0.7777777777777778,\"#fb9f3a\"],[0.8888888888888888,\"#fdca26\"],[1.0,\"#f0f921\"]]}],\"heatmapgl\":[{\"type\":\"heatmapgl\",\"colorbar\":{\"outlinewidth\":0,\"ticks\":\"\"},\"colorscale\":[[0.0,\"#0d0887\"],[0.1111111111111111,\"#46039f\"],[0.2222222222222222,\"#7201a8\"],[0.3333333333333333,\"#9c179e\"],[0.4444444444444444,\"#bd3786\"],[0.5555555555555556,\"#d8576b\"],[0.6666666666666666,\"#ed7953\"],[0.7777777777777778,\"#fb9f3a\"],[0.8888888888888888,\"#fdca26\"],[1.0,\"#f0f921\"]]}],\"contourcarpet\":[{\"type\":\"contourcarpet\",\"colorbar\":{\"outlinewidth\":0,\"ticks\":\"\"}}],\"contour\":[{\"type\":\"contour\",\"colorbar\":{\"outlinewidth\":0,\"ticks\":\"\"},\"colorscale\":[[0.0,\"#0d0887\"],[0.1111111111111111,\"#46039f\"],[0.2222222222222222,\"#7201a8\"],[0.3333333333333333,\"#9c179e\"],[0.4444444444444444,\"#bd3786\"],[0.5555555555555556,\"#d8576b\"],[0.6666666666666666,\"#ed7953\"],[0.7777777777777778,\"#fb9f3a\"],[0.8888888888888888,\"#fdca26\"],[1.0,\"#f0f921\"]]}],\"surface\":[{\"type\":\"surface\",\"colorbar\":{\"outlinewidth\":0,\"ticks\":\"\"},\"colorscale\":[[0.0,\"#0d0887\"],[0.1111111111111111,\"#46039f\"],[0.2222222222222222,\"#7201a8\"],[0.3333333333333333,\"#9c179e\"],[0.4444444444444444,\"#bd3786\"],[0.5555555555555556,\"#d8576b\"],[0.6666666666666666,\"#ed7953\"],[0.7777777777777778,\"#fb9f3a\"],[0.8888888888888888,\"#fdca26\"],[1.0,\"#f0f921\"]]}],\"mesh3d\":[{\"type\":\"mesh3d\",\"colorbar\":{\"outlinewidth\":0,\"ticks\":\"\"}}],\"scatter\":[{\"fillpattern\":{\"fillmode\":\"overlay\",\"size\":10,\"solidity\":0.2},\"type\":\"scatter\"}],\"parcoords\":[{\"type\":\"parcoords\",\"line\":{\"colorbar\":{\"outlinewidth\":0,\"ticks\":\"\"}}}],\"scatterpolargl\":[{\"type\":\"scatterpolargl\",\"marker\":{\"colorbar\":{\"outlinewidth\":0,\"ticks\":\"\"}}}],\"bar\":[{\"error_x\":{\"color\":\"#2a3f5f\"},\"error_y\":{\"color\":\"#2a3f5f\"},\"marker\":{\"line\":{\"color\":\"#E5ECF6\",\"width\":0.5},\"pattern\":{\"fillmode\":\"overlay\",\"size\":10,\"solidity\":0.2}},\"type\":\"bar\"}],\"scattergeo\":[{\"type\":\"scattergeo\",\"marker\":{\"colorbar\":{\"outlinewidth\":0,\"ticks\":\"\"}}}],\"scatterpolar\":[{\"type\":\"scatterpolar\",\"marker\":{\"colorbar\":{\"outlinewidth\":0,\"ticks\":\"\"}}}],\"histogram\":[{\"marker\":{\"pattern\":{\"fillmode\":\"overlay\",\"size\":10,\"solidity\":0.2}},\"type\":\"histogram\"}],\"scattergl\":[{\"type\":\"scattergl\",\"marker\":{\"colorbar\":{\"outlinewidth\":0,\"ticks\":\"\"}}}],\"scatter3d\":[{\"type\":\"scatter3d\",\"line\":{\"colorbar\":{\"outlinewidth\":0,\"ticks\":\"\"}},\"marker\":{\"colorbar\":{\"outlinewidth\":0,\"ticks\":\"\"}}}],\"scattermapbox\":[{\"type\":\"scattermapbox\",\"marker\":{\"colorbar\":{\"outlinewidth\":0,\"ticks\":\"\"}}}],\"scatterternary\":[{\"type\":\"scatterternary\",\"marker\":{\"colorbar\":{\"outlinewidth\":0,\"ticks\":\"\"}}}],\"scattercarpet\":[{\"type\":\"scattercarpet\",\"marker\":{\"colorbar\":{\"outlinewidth\":0,\"ticks\":\"\"}}}],\"carpet\":[{\"aaxis\":{\"endlinecolor\":\"#2a3f5f\",\"gridcolor\":\"white\",\"linecolor\":\"white\",\"minorgridcolor\":\"white\",\"startlinecolor\":\"#2a3f5f\"},\"baxis\":{\"endlinecolor\":\"#2a3f5f\",\"gridcolor\":\"white\",\"linecolor\":\"white\",\"minorgridcolor\":\"white\",\"startlinecolor\":\"#2a3f5f\"},\"type\":\"carpet\"}],\"table\":[{\"cells\":{\"fill\":{\"color\":\"#EBF0F8\"},\"line\":{\"color\":\"white\"}},\"header\":{\"fill\":{\"color\":\"#C8D4E3\"},\"line\":{\"color\":\"white\"}},\"type\":\"table\"}],\"barpolar\":[{\"marker\":{\"line\":{\"color\":\"#E5ECF6\",\"width\":0.5},\"pattern\":{\"fillmode\":\"overlay\",\"size\":10,\"solidity\":0.2}},\"type\":\"barpolar\"}],\"pie\":[{\"automargin\":true,\"type\":\"pie\"}]},\"layout\":{\"autotypenumbers\":\"strict\",\"colorway\":[\"#636efa\",\"#EF553B\",\"#00cc96\",\"#ab63fa\",\"#FFA15A\",\"#19d3f3\",\"#FF6692\",\"#B6E880\",\"#FF97FF\",\"#FECB52\"],\"font\":{\"color\":\"#2a3f5f\"},\"hovermode\":\"closest\",\"hoverlabel\":{\"align\":\"left\"},\"paper_bgcolor\":\"white\",\"plot_bgcolor\":\"#E5ECF6\",\"polar\":{\"bgcolor\":\"#E5ECF6\",\"angularaxis\":{\"gridcolor\":\"white\",\"linecolor\":\"white\",\"ticks\":\"\"},\"radialaxis\":{\"gridcolor\":\"white\",\"linecolor\":\"white\",\"ticks\":\"\"}},\"ternary\":{\"bgcolor\":\"#E5ECF6\",\"aaxis\":{\"gridcolor\":\"white\",\"linecolor\":\"white\",\"ticks\":\"\"},\"baxis\":{\"gridcolor\":\"white\",\"linecolor\":\"white\",\"ticks\":\"\"},\"caxis\":{\"gridcolor\":\"white\",\"linecolor\":\"white\",\"ticks\":\"\"}},\"coloraxis\":{\"colorbar\":{\"outlinewidth\":0,\"ticks\":\"\"}},\"colorscale\":{\"sequential\":[[0.0,\"#0d0887\"],[0.1111111111111111,\"#46039f\"],[0.2222222222222222,\"#7201a8\"],[0.3333333333333333,\"#9c179e\"],[0.4444444444444444,\"#bd3786\"],[0.5555555555555556,\"#d8576b\"],[0.6666666666666666,\"#ed7953\"],[0.7777777777777778,\"#fb9f3a\"],[0.8888888888888888,\"#fdca26\"],[1.0,\"#f0f921\"]],\"sequentialminus\":[[0.0,\"#0d0887\"],[0.1111111111111111,\"#46039f\"],[0.2222222222222222,\"#7201a8\"],[0.3333333333333333,\"#9c179e\"],[0.4444444444444444,\"#bd3786\"],[0.5555555555555556,\"#d8576b\"],[0.6666666666666666,\"#ed7953\"],[0.7777777777777778,\"#fb9f3a\"],[0.8888888888888888,\"#fdca26\"],[1.0,\"#f0f921\"]],\"diverging\":[[0,\"#8e0152\"],[0.1,\"#c51b7d\"],[0.2,\"#de77ae\"],[0.3,\"#f1b6da\"],[0.4,\"#fde0ef\"],[0.5,\"#f7f7f7\"],[0.6,\"#e6f5d0\"],[0.7,\"#b8e186\"],[0.8,\"#7fbc41\"],[0.9,\"#4d9221\"],[1,\"#276419\"]]},\"xaxis\":{\"gridcolor\":\"white\",\"linecolor\":\"white\",\"ticks\":\"\",\"title\":{\"standoff\":15},\"zerolinecolor\":\"white\",\"automargin\":true,\"zerolinewidth\":2},\"yaxis\":{\"gridcolor\":\"white\",\"linecolor\":\"white\",\"ticks\":\"\",\"title\":{\"standoff\":15},\"zerolinecolor\":\"white\",\"automargin\":true,\"zerolinewidth\":2},\"scene\":{\"xaxis\":{\"backgroundcolor\":\"#E5ECF6\",\"gridcolor\":\"white\",\"linecolor\":\"white\",\"showbackground\":true,\"ticks\":\"\",\"zerolinecolor\":\"white\",\"gridwidth\":2},\"yaxis\":{\"backgroundcolor\":\"#E5ECF6\",\"gridcolor\":\"white\",\"linecolor\":\"white\",\"showbackground\":true,\"ticks\":\"\",\"zerolinecolor\":\"white\",\"gridwidth\":2},\"zaxis\":{\"backgroundcolor\":\"#E5ECF6\",\"gridcolor\":\"white\",\"linecolor\":\"white\",\"showbackground\":true,\"ticks\":\"\",\"zerolinecolor\":\"white\",\"gridwidth\":2}},\"shapedefaults\":{\"line\":{\"color\":\"#2a3f5f\"}},\"annotationdefaults\":{\"arrowcolor\":\"#2a3f5f\",\"arrowhead\":0,\"arrowwidth\":1},\"geo\":{\"bgcolor\":\"white\",\"landcolor\":\"#E5ECF6\",\"subunitcolor\":\"white\",\"showland\":true,\"showlakes\":true,\"lakecolor\":\"white\"},\"title\":{\"x\":0.05},\"mapbox\":{\"style\":\"light\"}}},\"xaxis\":{\"anchor\":\"y\",\"domain\":[0.0,1.0],\"title\":{\"text\":\"Poverty Levels (Highest to Least)\"}},\"yaxis\":{\"anchor\":\"x\",\"domain\":[0.0,1.0],\"title\":{\"text\":\"Obesity Rate (%)\"}},\"legend\":{\"title\":{\"text\":\"AGE\"},\"tracegroupgap\":0},\"title\":{\"text\":\"Obesity Estimate based on Poverty Level and Age in individuals aged 2-19\"},\"barmode\":\"group\"},                        {\"responsive\": true}                    ).then(function(){\n",
       "                            \n",
       "var gd = document.getElementById('07a5cbea-05dd-46c5-b557-4607a0a37eca');\n",
       "var x = new MutationObserver(function (mutations, observer) {{\n",
       "        var display = window.getComputedStyle(gd).display;\n",
       "        if (!display || display === 'none') {{\n",
       "            console.log([gd, 'removed!']);\n",
       "            Plotly.purge(gd);\n",
       "            observer.disconnect();\n",
       "        }}\n",
       "}});\n",
       "\n",
       "// Listen for the removal of the full notebook cells\n",
       "var notebookContainer = gd.closest('#notebook-container');\n",
       "if (notebookContainer) {{\n",
       "    x.observe(notebookContainer, {childList: true});\n",
       "}}\n",
       "\n",
       "// Listen for the clearing of the current output cell\n",
       "var outputEl = gd.closest('.output');\n",
       "if (outputEl) {{\n",
       "    x.observe(outputEl, {childList: true});\n",
       "}}\n",
       "\n",
       "                        })                };                });            </script>        </div>"
      ]
     },
     "metadata": {},
     "output_type": "display_data"
    }
   ],
   "source": [
    "def obesity_Visual1(df):\n",
    "    df = df.loc[df['AGE'] != '2-19 years']\n",
    "    df['AGE'] = pd.Categorical(df['AGE'], categories=['2-5 years', '6-11 years', '12-19 years'], ordered = False)\n",
    "    df['STUB_LABEL'] = pd.Categorical(df['STUB_LABEL'], categories=['Below 100%', '100%-199%', '200%-399%', '400% or more'], ordered = False)\n",
    "    estimatePerYear = (df.groupby(['STUB_LABEL', 'AGE'])['ESTIMATE'].sum() / df.groupby(['STUB_LABEL', 'AGE'])['ESTIMATE'].count()).reset_index()\n",
    "    fig = px.bar(estimatePerYear, x=\"STUB_LABEL\", y=\"ESTIMATE\", color=\"AGE\",\n",
    "                 title=\"Obesity Estimate based on Poverty Level and Age in individuals aged 2-19\",\n",
    "                 labels={'STUB_LABEL': 'Poverty Levels (Highest to Least)', 'ESTIMATE': 'Obesity Rate (%)'},\n",
    "                 barmode='group')\n",
    "\n",
    "    fig.show()\n",
    "obesity_Visual1(poverty_obesity)"
   ]
  },
  {
   "cell_type": "markdown",
   "metadata": {},
   "source": [
    "### Visual 2:"
   ]
  },
  {
   "cell_type": "code",
   "execution_count": null,
   "metadata": {},
   "outputs": [],
   "source": []
  },
  {
   "cell_type": "markdown",
   "metadata": {},
   "source": [
    "## Reflections \n",
    "**What has been the hardest part of the project encountered so far?** \n",
    "+ The hardest part was understanding the raw data and propertly cleaning the data. Many of the column names were differently then expected and knowing how each column correlated with the other columns took a while to understand. Not only that but knowing the different values that can occur in every column and if it was neccesary for the analysis. Only after understanding this can we propertly clean the data and subset the data.\n",
    "  \n",
    "**What are your intial insights?**\n",
    "+ Obesity analysis from individuals 2-19 are\n",
    "  +\n",
    "+ Obesity analysis from individuals 22+ are\n",
    "  +\n",
    "+ Physical Activity and nutrion\n",
    "  +\n",
    "\n",
    "**Are there any concrete results you can show at this point? If not, why not?**\n",
    "+ .\n",
    "**Going forward, what are the current biggest problems you’re facing?**\n",
    "+\n",
    "**Do you think you are on track with your project? If not, what parts do you need to dedicate more time to?**\n",
    "+\n",
    "**Given your initial exploration of the data, is it worth proceeding with your project, why? If not, how are you going to change your project and why do you think it’s better than your current results?**\n",
    "+ \n",
    "## Next Steps\n",
    "**What you plan to accomplish in the next month and how you plan to evaluate whether your project achieved the goals you set for it.**\n",
    "+\n",
    "\n",
    "\n",
    "\n",
    "\n"
   ]
  }
 ],
 "metadata": {
  "kernelspec": {
   "display_name": "Python 3 (ipykernel)",
   "language": "python",
   "name": "python3"
  },
  "language_info": {
   "codemirror_mode": {
    "name": "ipython",
    "version": 3
   },
   "file_extension": ".py",
   "mimetype": "text/x-python",
   "name": "python",
   "nbconvert_exporter": "python",
   "pygments_lexer": "ipython3",
   "version": "3.11.5"
  },
  "vscode": {
   "interpreter": {
    "hash": "31f2aee4e71d21fbe5cf8b01ff0e069b9275f58929596ceb00d14d90e3e16cd6"
   }
  }
 },
 "nbformat": 4,
 "nbformat_minor": 4
}
