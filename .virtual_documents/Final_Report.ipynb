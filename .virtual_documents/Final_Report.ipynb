


import pandas as pd
import numpy as np
import seaborn as sns
import plotly.express as px
%matplotlib inline
import matplotlib.pyplot as plt
from obesity_children import * #cleaning python file
import data1_helper # for analyzing data 1

from obesity_visualization import update_plot, load_and_prepare_data # Asian / Races graph
from ipywidgets import interact, Dropdown, fixed
from sklearn.ensemble import RandomForestClassifier, RandomForestRegressor
from sklearn.feature_selection import SelectKBest, f_classif
from sklearn.model_selection import train_test_split
from sklearn.preprocessing import StandardScaler
from sklearn.linear_model import LogisticRegression
from sklearn.metrics import accuracy_score, precision_score, recall_score, f1_score, mean_squared_error, r2_score, confusion_matrix
from inactivity_model import train_model, evaluate_model, predict_inactivity, baseline_model






obesity_children = pd.read_csv("Datasets/Obesity_among_children_and_adolescents_aged_2_19_years__by_selected_characteristics__United_States.csv")
obesity_single_unique = remove_single_unique(obesity_children)
obesity_clean = remove_num_columns(obesity_single_unique)
sex_race_his_obesity, race_his_obesity, total_obesity, poverty_obesity, sex_obesity, age_obesity = final_clean(obesity_clean)
poverty_obesity.head()





obesity_adult = pd.read_csv("Datasets/Normal_weight__overweight__and_obesity_among_adults_aged_20_and_over__by_selected_characteristics__United_States.csv")
panelDict, unitDict, stubNameDict, stubLabelDict, yearDict, ageDict = data1_helper.getMapping(obesity_adult)
raceGender_df = data1_helper.cleanGenderRace(obesity_adult)
age_df = data1_helper.cleanAge(obesity_adult)
raceGender_df.head()





dataset_path = 'Datasets/Nutrition__Physical_Activity__and_Obesity_-_Behavioral_Risk_Factor_Surveillance_System.csv'
activity_df = pd.read_csv("Datasets/Nutrition__Physical_Activity__and_Obesity_-_Behavioral_Risk_Factor_Surveillance_System.csv")
cleaned_df = clean_data(dataset_path)
cleaned_df.head()





from scipy import stats
import sklearn.metrics as sm

# prepare data for ML
middleYearDict = data1_helper.getMiddleYear(yearDict)  
generalObesity = data1_helper.getFilteredData(obesity_adult, 1, 3, 1, 1.1, middleYearDict)
x = generalObesity["MiddleYear"]
y = generalObesity["ESTIMATE"]


# baseline ML model: mean
baselineML = data1_helper.MeanModel()
data1_helper.fitAndEvaluate(baselineML, x, y)


# linear regression model
linRegressML = data1_helper.LinearRegressionModel()
data1_helper.fitAndEvaluate(linRegressML, x, y)


data1_helper.plotML(generalObesity, linRegressML, x) # plot data and best fit line








# Train the model
lr_model, X_test, y_test = train_model(df)
# Evaluate the model
evaluate_model(lr_model, X_test, y_test)
# Create sample inputs for different types of individuals
sample_inputs = [
    {"Age(years)": "25 - 34", "Gender": "Male", "Race/Ethnicity": "Non-Hispanic White"},
    {"Age(years)": "45 - 54", "Gender": "Female", "Race/Ethnicity": "Non-Hispanic Black"},
    {"Age(years)": "65 or older", "Gender": "Male", "Race/Ethnicity": "Hispanic"},
]
# Predict inactivity for sample inputs
predict_inactivity(lr_model, sample_inputs)
# Evaluate the baseline model
y_pred = lr_model.predict(X_test)
baseline_model(y_test, y_pred)





poverty_visual(obesity_adult)





obesity_Visual2(race_his_obesity)
import plotly.offline as pyo
pyo.init_notebook_mode(connected=True)





data1_helper.obesityRaceVsObesity(raceGender_df)





#pio.renderers.default = "jupyterlab"
concatenated_df = load_and_prepare_data()
races_with_total = concatenated_df['Race/Ethnicity'].dropna().unique()
race_dropdown = Dropdown(options=races_with_total, description="Select Race:")
interact(update_plot, race=race_dropdown, concatenated_df=fixed(concatenated_df))












