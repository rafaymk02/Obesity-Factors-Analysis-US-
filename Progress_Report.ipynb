{
 "cells": [
  {
   "cell_type": "markdown",
   "id": "000e0308-a89e-42a2-b608-93e1253fad0e",
   "metadata": {},
   "source": [
    "# Progress Report: Analysis On Factors Leading to Obesity in America\n",
    "## Project Introduction/Changes\n",
    "With obesity at all time rates in the United States it is important to understand the individuals most at risk. This analysis is focused on the critical issue of obesity among individuals in America, exploring data from selected population characteristics. This information was made available by the Centers of Disease Control and Prevention (CDC). Our goals are to investigate if race plays a role in being at risk of obesity, if income is the leading factor in obesity, and to explore other interesting relationships found within the data. We have not made any changes to our scope since the project proposal.\n",
    "\n",
    "**Github Repository**: https://github.com/uic-cs418/group-project-mind-masters"
   ]
  },
  {
   "cell_type": "code",
   "execution_count": 1,
   "id": "ef88367d-95e3-4b6f-be1f-0c0b5a014c10",
   "metadata": {},
   "outputs": [],
   "source": [
    "import pandas as pd\n",
    "import numpy as np\n",
    "import seaborn as sns\n",
    "import plotly.express as px\n",
    "%matplotlib inline\n",
    "import matplotlib.pyplot as plt\n",
    "from obesity_children import * #cleaning python file\n",
    "import data1_helper # for analyzing data 1"
   ]
  },
  {
   "cell_type": "markdown",
   "id": "3f917cb3-774c-4eb0-9b75-b6c38fa50ea0",
   "metadata": {},
   "source": [
    "## Reading Data / Cleaning Data\n",
    "**Data - Obesity Among Children and Adolescents 2-19**"
   ]
  },
  {
   "cell_type": "code",
   "execution_count": 2,
   "id": "17ccb43d-caec-45cd-a61a-b7e2ccb360aa",
   "metadata": {},
   "outputs": [
    {
     "data": {
      "text/html": [
       "<div>\n",
       "<style scoped>\n",
       "    .dataframe tbody tr th:only-of-type {\n",
       "        vertical-align: middle;\n",
       "    }\n",
       "\n",
       "    .dataframe tbody tr th {\n",
       "        vertical-align: top;\n",
       "    }\n",
       "\n",
       "    .dataframe thead th {\n",
       "        text-align: right;\n",
       "    }\n",
       "</style>\n",
       "<table border=\"1\" class=\"dataframe\">\n",
       "  <thead>\n",
       "    <tr style=\"text-align: right;\">\n",
       "      <th></th>\n",
       "      <th>PANEL</th>\n",
       "      <th>STUB_NAME</th>\n",
       "      <th>STUB_LABEL</th>\n",
       "      <th>YEAR</th>\n",
       "      <th>AGE</th>\n",
       "      <th>ESTIMATE</th>\n",
       "      <th>SE</th>\n",
       "      <th>FLAG</th>\n",
       "    </tr>\n",
       "  </thead>\n",
       "  <tbody>\n",
       "    <tr>\n",
       "      <th>171</th>\n",
       "      <td>2-19 years</td>\n",
       "      <td>Percent of poverty level</td>\n",
       "      <td>Below 100%</td>\n",
       "      <td>1988-1994</td>\n",
       "      <td>2-19 years</td>\n",
       "      <td>12.6</td>\n",
       "      <td>1.2</td>\n",
       "      <td>NaN</td>\n",
       "    </tr>\n",
       "    <tr>\n",
       "      <th>172</th>\n",
       "      <td>2-19 years</td>\n",
       "      <td>Percent of poverty level</td>\n",
       "      <td>Below 100%</td>\n",
       "      <td>1999-2002</td>\n",
       "      <td>2-19 years</td>\n",
       "      <td>17.6</td>\n",
       "      <td>1.1</td>\n",
       "      <td>NaN</td>\n",
       "    </tr>\n",
       "  </tbody>\n",
       "</table>\n",
       "</div>"
      ],
      "text/plain": [
       "          PANEL                 STUB_NAME  STUB_LABEL       YEAR         AGE  \\\n",
       "171  2-19 years  Percent of poverty level  Below 100%  1988-1994  2-19 years   \n",
       "172  2-19 years  Percent of poverty level  Below 100%  1999-2002  2-19 years   \n",
       "\n",
       "     ESTIMATE   SE FLAG  \n",
       "171      12.6  1.2  NaN  \n",
       "172      17.6  1.1  NaN  "
      ]
     },
     "execution_count": 2,
     "metadata": {},
     "output_type": "execute_result"
    }
   ],
   "source": [
    "obesity_children = pd.read_csv(\"Obesity_among_children_and_adolescents_aged_2_19_years__by_selected_characteristics__United_States.csv\")\n",
    "obesity_single_unique = remove_single_unique(obesity_children)\n",
    "obesity_clean = remove_num_columns(obesity_single_unique)\n",
    "sex_race_his_obesity, race_his_obesity, total_obesity, poverty_obesity, sex_obesity, age_obesity = final_clean(obesity_clean)\n",
    "poverty_obesity.head(n = 2)"
   ]
  },
  {
   "cell_type": "markdown",
   "id": "7c894238-18ee-407a-a428-b643caec2504",
   "metadata": {},
   "source": [
    "**Data - Obesity Among Adults 20+**"
   ]
  },
  {
   "cell_type": "code",
   "execution_count": 3,
   "id": "7174b88e-0776-4ccc-af30-519288f85575",
   "metadata": {},
   "outputs": [
    {
     "data": {
      "text/html": [
       "<div>\n",
       "<style scoped>\n",
       "    .dataframe tbody tr th:only-of-type {\n",
       "        vertical-align: middle;\n",
       "    }\n",
       "\n",
       "    .dataframe tbody tr th {\n",
       "        vertical-align: top;\n",
       "    }\n",
       "\n",
       "    .dataframe thead th {\n",
       "        text-align: right;\n",
       "    }\n",
       "</style>\n",
       "<table border=\"1\" class=\"dataframe\">\n",
       "  <thead>\n",
       "    <tr style=\"text-align: right;\">\n",
       "      <th></th>\n",
       "      <th>INDICATOR</th>\n",
       "      <th>PANEL</th>\n",
       "      <th>PANEL_NUM</th>\n",
       "      <th>UNIT</th>\n",
       "      <th>UNIT_NUM</th>\n",
       "      <th>STUB_NAME</th>\n",
       "      <th>STUB_NAME_NUM</th>\n",
       "      <th>STUB_LABEL</th>\n",
       "      <th>STUB_LABEL_NUM</th>\n",
       "      <th>YEAR</th>\n",
       "      <th>YEAR_NUM</th>\n",
       "      <th>AGE</th>\n",
       "      <th>AGE_NUM</th>\n",
       "      <th>ESTIMATE</th>\n",
       "      <th>SE</th>\n",
       "      <th>FLAG</th>\n",
       "      <th>Gender</th>\n",
       "      <th>Race</th>\n",
       "    </tr>\n",
       "  </thead>\n",
       "  <tbody>\n",
       "    <tr>\n",
       "      <th>49</th>\n",
       "      <td>Normal weight, overweight, and obesity among a...</td>\n",
       "      <td>Normal weight (BMI from 18.5 to 24.9)</td>\n",
       "      <td>1</td>\n",
       "      <td>Percent of population, age-adjusted</td>\n",
       "      <td>1</td>\n",
       "      <td>Sex and race and Hispanic origin</td>\n",
       "      <td>4</td>\n",
       "      <td>Male: Not Hispanic or Latino: White only</td>\n",
       "      <td>3.111</td>\n",
       "      <td>2015-2018</td>\n",
       "      <td>10</td>\n",
       "      <td>20 years and over</td>\n",
       "      <td>1.0</td>\n",
       "      <td>23.4</td>\n",
       "      <td>1.4</td>\n",
       "      <td>.</td>\n",
       "      <td>Male</td>\n",
       "      <td>White</td>\n",
       "    </tr>\n",
       "    <tr>\n",
       "      <th>59</th>\n",
       "      <td>Normal weight, overweight, and obesity among a...</td>\n",
       "      <td>Normal weight (BMI from 18.5 to 24.9)</td>\n",
       "      <td>1</td>\n",
       "      <td>Percent of population, age-adjusted</td>\n",
       "      <td>1</td>\n",
       "      <td>Sex and race and Hispanic origin</td>\n",
       "      <td>4</td>\n",
       "      <td>Female: Not Hispanic or Latino: White only</td>\n",
       "      <td>3.112</td>\n",
       "      <td>2015-2018</td>\n",
       "      <td>10</td>\n",
       "      <td>20 years and over</td>\n",
       "      <td>1.0</td>\n",
       "      <td>31.9</td>\n",
       "      <td>1.7</td>\n",
       "      <td>.</td>\n",
       "      <td>Female</td>\n",
       "      <td>White</td>\n",
       "    </tr>\n",
       "  </tbody>\n",
       "</table>\n",
       "</div>"
      ],
      "text/plain": [
       "                                            INDICATOR  \\\n",
       "49  Normal weight, overweight, and obesity among a...   \n",
       "59  Normal weight, overweight, and obesity among a...   \n",
       "\n",
       "                                    PANEL  PANEL_NUM  \\\n",
       "49  Normal weight (BMI from 18.5 to 24.9)          1   \n",
       "59  Normal weight (BMI from 18.5 to 24.9)          1   \n",
       "\n",
       "                                   UNIT  UNIT_NUM  \\\n",
       "49  Percent of population, age-adjusted         1   \n",
       "59  Percent of population, age-adjusted         1   \n",
       "\n",
       "                           STUB_NAME  STUB_NAME_NUM  \\\n",
       "49  Sex and race and Hispanic origin              4   \n",
       "59  Sex and race and Hispanic origin              4   \n",
       "\n",
       "                                    STUB_LABEL  STUB_LABEL_NUM       YEAR  \\\n",
       "49    Male: Not Hispanic or Latino: White only           3.111  2015-2018   \n",
       "59  Female: Not Hispanic or Latino: White only           3.112  2015-2018   \n",
       "\n",
       "    YEAR_NUM                AGE  AGE_NUM  ESTIMATE   SE FLAG  Gender   Race  \n",
       "49        10  20 years and over      1.0      23.4  1.4    .    Male  White  \n",
       "59        10  20 years and over      1.0      31.9  1.7    .  Female  White  "
      ]
     },
     "execution_count": 3,
     "metadata": {},
     "output_type": "execute_result"
    }
   ],
   "source": [
    "obesity_adult = pd.read_csv(\"Normal_weight__overweight__and_obesity_among_adults_aged_20_and_over__by_selected_characteristics__United_States.csv\")\n",
    "panelDict, unitDict, stubNameDict, stubLabelDict, yearDict, ageDict = data1_helper.getMapping(obesity_adult)\n",
    "raceGender_df = data1_helper.cleanGenderRace(obesity_adult)\n",
    "age_df = data1_helper.cleanAge(obesity_adult)\n",
    "raceGender_df.head(2)"
   ]
  },
  {
   "cell_type": "markdown",
   "id": "4bfed1af-0633-4f45-9ab7-1918b2902852",
   "metadata": {},
   "source": [
    "## Exploratory Data Analysis (EDA)"
   ]
  },
  {
   "cell_type": "markdown",
   "id": "5cff4441-969d-4c7b-a375-c147aba941c5",
   "metadata": {},
   "source": [
    "**Data - Obesity Among Children and Adolescents 2-19, Obesity Among Adults 20+**\n",
    "+ Structure: The columns consists of objects such as age range, poverty level, year range, flag and quantitative data such as estimate, standard error. The flag tells us if the data is normal, unrelaible(standard error over 20%), and no data.\n",
    "+ Granularity: Each row provides an obesity percentage estimation given the parameters from a sample.\n",
    "+ Scope: Obesity percentage of individuals 2-19 in America from 1988-2018.\n",
    "+ Temporality: The data spans from 1988 to 2018. However there is more data of recent years.\n",
    "+ Faithfulness (All dataset): The data is trustworthy as it comes from the CDC which is a reputable source and collects data from healthcare areas."
   ]
  },
  {
   "cell_type": "markdown",
   "id": "0303aefc-4b4c-49e0-a9ab-a1a46fdf2791",
   "metadata": {},
   "source": [
    "## Visualizations"
   ]
  },
  {
   "cell_type": "markdown",
   "id": "f53fe727-f925-4c1b-a375-c69ea8d9eaf1",
   "metadata": {},
   "source": [
    "**Visual 1 - Data - Obesity Among Children and Adolescents 2-19**"
   ]
  },
  {
   "cell_type": "code",
   "execution_count": 76,
   "id": "8a94ba0a-bf1b-460d-9897-e855c9925ee4",
   "metadata": {},
   "outputs": [
    {
     "data": {
      "application/vnd.plotly.v1+json": {
       "config": {
        "plotlyServerURL": "https://plot.ly"
       },
       "data": [
        {
         "alignmentgroup": "True",
         "hovertemplate": "AGE=2-5 years<br>Poverty Levels (Highest to Least)=%{x}<br>Obesity Rate (%)=%{y}<extra></extra>",
         "legendgroup": "2-5 years",
         "marker": {
          "color": "#636efa",
          "pattern": {
           "shape": ""
          }
         },
         "name": "2-5 years",
         "offsetgroup": "2-5 years",
         "orientation": "v",
         "showlegend": true,
         "textposition": "auto",
         "type": "bar",
         "x": [
          "Below 100%",
          "100%-199%",
          "200%-399%",
          "400% or more"
         ],
         "xaxis": "x",
         "y": [
          12.77,
          12.01,
          10.6,
          7.12
         ],
         "yaxis": "y"
        },
        {
         "alignmentgroup": "True",
         "hovertemplate": "AGE=6-11 years<br>Poverty Levels (Highest to Least)=%{x}<br>Obesity Rate (%)=%{y}<extra></extra>",
         "legendgroup": "6-11 years",
         "marker": {
          "color": "#EF553B",
          "pattern": {
           "shape": ""
          }
         },
         "name": "6-11 years",
         "offsetgroup": "6-11 years",
         "orientation": "v",
         "showlegend": true,
         "textposition": "auto",
         "type": "bar",
         "x": [
          "Below 100%",
          "100%-199%",
          "200%-399%",
          "400% or more"
         ],
         "xaxis": "x",
         "y": [
          20.740000000000002,
          19.05,
          16.330000000000002,
          11.577777777777778
         ],
         "yaxis": "y"
        },
        {
         "alignmentgroup": "True",
         "hovertemplate": "AGE=12-19 years<br>Poverty Levels (Highest to Least)=%{x}<br>Obesity Rate (%)=%{y}<extra></extra>",
         "legendgroup": "12-19 years",
         "marker": {
          "color": "#00cc96",
          "pattern": {
           "shape": ""
          }
         },
         "name": "12-19 years",
         "offsetgroup": "12-19 years",
         "orientation": "v",
         "showlegend": true,
         "textposition": "auto",
         "type": "bar",
         "x": [
          "Below 100%",
          "100%-199%",
          "200%-399%",
          "400% or more"
         ],
         "xaxis": "x",
         "y": [
          22.05,
          19.72,
          17.55,
          13.322222222222223
         ],
         "yaxis": "y"
        }
       ],
       "layout": {
        "autosize": true,
        "barmode": "group",
        "legend": {
         "title": {
          "text": "AGE"
         },
         "tracegroupgap": 0
        },
        "template": {
         "data": {
          "bar": [
           {
            "error_x": {
             "color": "#2a3f5f"
            },
            "error_y": {
             "color": "#2a3f5f"
            },
            "marker": {
             "line": {
              "color": "#E5ECF6",
              "width": 0.5
             },
             "pattern": {
              "fillmode": "overlay",
              "size": 10,
              "solidity": 0.2
             }
            },
            "type": "bar"
           }
          ],
          "barpolar": [
           {
            "marker": {
             "line": {
              "color": "#E5ECF6",
              "width": 0.5
             },
             "pattern": {
              "fillmode": "overlay",
              "size": 10,
              "solidity": 0.2
             }
            },
            "type": "barpolar"
           }
          ],
          "carpet": [
           {
            "aaxis": {
             "endlinecolor": "#2a3f5f",
             "gridcolor": "white",
             "linecolor": "white",
             "minorgridcolor": "white",
             "startlinecolor": "#2a3f5f"
            },
            "baxis": {
             "endlinecolor": "#2a3f5f",
             "gridcolor": "white",
             "linecolor": "white",
             "minorgridcolor": "white",
             "startlinecolor": "#2a3f5f"
            },
            "type": "carpet"
           }
          ],
          "choropleth": [
           {
            "colorbar": {
             "outlinewidth": 0,
             "ticks": ""
            },
            "type": "choropleth"
           }
          ],
          "contour": [
           {
            "colorbar": {
             "outlinewidth": 0,
             "ticks": ""
            },
            "colorscale": [
             [
              0,
              "#0d0887"
             ],
             [
              0.1111111111111111,
              "#46039f"
             ],
             [
              0.2222222222222222,
              "#7201a8"
             ],
             [
              0.3333333333333333,
              "#9c179e"
             ],
             [
              0.4444444444444444,
              "#bd3786"
             ],
             [
              0.5555555555555556,
              "#d8576b"
             ],
             [
              0.6666666666666666,
              "#ed7953"
             ],
             [
              0.7777777777777778,
              "#fb9f3a"
             ],
             [
              0.8888888888888888,
              "#fdca26"
             ],
             [
              1,
              "#f0f921"
             ]
            ],
            "type": "contour"
           }
          ],
          "contourcarpet": [
           {
            "colorbar": {
             "outlinewidth": 0,
             "ticks": ""
            },
            "type": "contourcarpet"
           }
          ],
          "heatmap": [
           {
            "colorbar": {
             "outlinewidth": 0,
             "ticks": ""
            },
            "colorscale": [
             [
              0,
              "#0d0887"
             ],
             [
              0.1111111111111111,
              "#46039f"
             ],
             [
              0.2222222222222222,
              "#7201a8"
             ],
             [
              0.3333333333333333,
              "#9c179e"
             ],
             [
              0.4444444444444444,
              "#bd3786"
             ],
             [
              0.5555555555555556,
              "#d8576b"
             ],
             [
              0.6666666666666666,
              "#ed7953"
             ],
             [
              0.7777777777777778,
              "#fb9f3a"
             ],
             [
              0.8888888888888888,
              "#fdca26"
             ],
             [
              1,
              "#f0f921"
             ]
            ],
            "type": "heatmap"
           }
          ],
          "heatmapgl": [
           {
            "colorbar": {
             "outlinewidth": 0,
             "ticks": ""
            },
            "colorscale": [
             [
              0,
              "#0d0887"
             ],
             [
              0.1111111111111111,
              "#46039f"
             ],
             [
              0.2222222222222222,
              "#7201a8"
             ],
             [
              0.3333333333333333,
              "#9c179e"
             ],
             [
              0.4444444444444444,
              "#bd3786"
             ],
             [
              0.5555555555555556,
              "#d8576b"
             ],
             [
              0.6666666666666666,
              "#ed7953"
             ],
             [
              0.7777777777777778,
              "#fb9f3a"
             ],
             [
              0.8888888888888888,
              "#fdca26"
             ],
             [
              1,
              "#f0f921"
             ]
            ],
            "type": "heatmapgl"
           }
          ],
          "histogram": [
           {
            "marker": {
             "pattern": {
              "fillmode": "overlay",
              "size": 10,
              "solidity": 0.2
             }
            },
            "type": "histogram"
           }
          ],
          "histogram2d": [
           {
            "colorbar": {
             "outlinewidth": 0,
             "ticks": ""
            },
            "colorscale": [
             [
              0,
              "#0d0887"
             ],
             [
              0.1111111111111111,
              "#46039f"
             ],
             [
              0.2222222222222222,
              "#7201a8"
             ],
             [
              0.3333333333333333,
              "#9c179e"
             ],
             [
              0.4444444444444444,
              "#bd3786"
             ],
             [
              0.5555555555555556,
              "#d8576b"
             ],
             [
              0.6666666666666666,
              "#ed7953"
             ],
             [
              0.7777777777777778,
              "#fb9f3a"
             ],
             [
              0.8888888888888888,
              "#fdca26"
             ],
             [
              1,
              "#f0f921"
             ]
            ],
            "type": "histogram2d"
           }
          ],
          "histogram2dcontour": [
           {
            "colorbar": {
             "outlinewidth": 0,
             "ticks": ""
            },
            "colorscale": [
             [
              0,
              "#0d0887"
             ],
             [
              0.1111111111111111,
              "#46039f"
             ],
             [
              0.2222222222222222,
              "#7201a8"
             ],
             [
              0.3333333333333333,
              "#9c179e"
             ],
             [
              0.4444444444444444,
              "#bd3786"
             ],
             [
              0.5555555555555556,
              "#d8576b"
             ],
             [
              0.6666666666666666,
              "#ed7953"
             ],
             [
              0.7777777777777778,
              "#fb9f3a"
             ],
             [
              0.8888888888888888,
              "#fdca26"
             ],
             [
              1,
              "#f0f921"
             ]
            ],
            "type": "histogram2dcontour"
           }
          ],
          "mesh3d": [
           {
            "colorbar": {
             "outlinewidth": 0,
             "ticks": ""
            },
            "type": "mesh3d"
           }
          ],
          "parcoords": [
           {
            "line": {
             "colorbar": {
              "outlinewidth": 0,
              "ticks": ""
             }
            },
            "type": "parcoords"
           }
          ],
          "pie": [
           {
            "automargin": true,
            "type": "pie"
           }
          ],
          "scatter": [
           {
            "fillpattern": {
             "fillmode": "overlay",
             "size": 10,
             "solidity": 0.2
            },
            "type": "scatter"
           }
          ],
          "scatter3d": [
           {
            "line": {
             "colorbar": {
              "outlinewidth": 0,
              "ticks": ""
             }
            },
            "marker": {
             "colorbar": {
              "outlinewidth": 0,
              "ticks": ""
             }
            },
            "type": "scatter3d"
           }
          ],
          "scattercarpet": [
           {
            "marker": {
             "colorbar": {
              "outlinewidth": 0,
              "ticks": ""
             }
            },
            "type": "scattercarpet"
           }
          ],
          "scattergeo": [
           {
            "marker": {
             "colorbar": {
              "outlinewidth": 0,
              "ticks": ""
             }
            },
            "type": "scattergeo"
           }
          ],
          "scattergl": [
           {
            "marker": {
             "colorbar": {
              "outlinewidth": 0,
              "ticks": ""
             }
            },
            "type": "scattergl"
           }
          ],
          "scattermapbox": [
           {
            "marker": {
             "colorbar": {
              "outlinewidth": 0,
              "ticks": ""
             }
            },
            "type": "scattermapbox"
           }
          ],
          "scatterpolar": [
           {
            "marker": {
             "colorbar": {
              "outlinewidth": 0,
              "ticks": ""
             }
            },
            "type": "scatterpolar"
           }
          ],
          "scatterpolargl": [
           {
            "marker": {
             "colorbar": {
              "outlinewidth": 0,
              "ticks": ""
             }
            },
            "type": "scatterpolargl"
           }
          ],
          "scatterternary": [
           {
            "marker": {
             "colorbar": {
              "outlinewidth": 0,
              "ticks": ""
             }
            },
            "type": "scatterternary"
           }
          ],
          "surface": [
           {
            "colorbar": {
             "outlinewidth": 0,
             "ticks": ""
            },
            "colorscale": [
             [
              0,
              "#0d0887"
             ],
             [
              0.1111111111111111,
              "#46039f"
             ],
             [
              0.2222222222222222,
              "#7201a8"
             ],
             [
              0.3333333333333333,
              "#9c179e"
             ],
             [
              0.4444444444444444,
              "#bd3786"
             ],
             [
              0.5555555555555556,
              "#d8576b"
             ],
             [
              0.6666666666666666,
              "#ed7953"
             ],
             [
              0.7777777777777778,
              "#fb9f3a"
             ],
             [
              0.8888888888888888,
              "#fdca26"
             ],
             [
              1,
              "#f0f921"
             ]
            ],
            "type": "surface"
           }
          ],
          "table": [
           {
            "cells": {
             "fill": {
              "color": "#EBF0F8"
             },
             "line": {
              "color": "white"
             }
            },
            "header": {
             "fill": {
              "color": "#C8D4E3"
             },
             "line": {
              "color": "white"
             }
            },
            "type": "table"
           }
          ]
         },
         "layout": {
          "annotationdefaults": {
           "arrowcolor": "#2a3f5f",
           "arrowhead": 0,
           "arrowwidth": 1
          },
          "autotypenumbers": "strict",
          "coloraxis": {
           "colorbar": {
            "outlinewidth": 0,
            "ticks": ""
           }
          },
          "colorscale": {
           "diverging": [
            [
             0,
             "#8e0152"
            ],
            [
             0.1,
             "#c51b7d"
            ],
            [
             0.2,
             "#de77ae"
            ],
            [
             0.3,
             "#f1b6da"
            ],
            [
             0.4,
             "#fde0ef"
            ],
            [
             0.5,
             "#f7f7f7"
            ],
            [
             0.6,
             "#e6f5d0"
            ],
            [
             0.7,
             "#b8e186"
            ],
            [
             0.8,
             "#7fbc41"
            ],
            [
             0.9,
             "#4d9221"
            ],
            [
             1,
             "#276419"
            ]
           ],
           "sequential": [
            [
             0,
             "#0d0887"
            ],
            [
             0.1111111111111111,
             "#46039f"
            ],
            [
             0.2222222222222222,
             "#7201a8"
            ],
            [
             0.3333333333333333,
             "#9c179e"
            ],
            [
             0.4444444444444444,
             "#bd3786"
            ],
            [
             0.5555555555555556,
             "#d8576b"
            ],
            [
             0.6666666666666666,
             "#ed7953"
            ],
            [
             0.7777777777777778,
             "#fb9f3a"
            ],
            [
             0.8888888888888888,
             "#fdca26"
            ],
            [
             1,
             "#f0f921"
            ]
           ],
           "sequentialminus": [
            [
             0,
             "#0d0887"
            ],
            [
             0.1111111111111111,
             "#46039f"
            ],
            [
             0.2222222222222222,
             "#7201a8"
            ],
            [
             0.3333333333333333,
             "#9c179e"
            ],
            [
             0.4444444444444444,
             "#bd3786"
            ],
            [
             0.5555555555555556,
             "#d8576b"
            ],
            [
             0.6666666666666666,
             "#ed7953"
            ],
            [
             0.7777777777777778,
             "#fb9f3a"
            ],
            [
             0.8888888888888888,
             "#fdca26"
            ],
            [
             1,
             "#f0f921"
            ]
           ]
          },
          "colorway": [
           "#636efa",
           "#EF553B",
           "#00cc96",
           "#ab63fa",
           "#FFA15A",
           "#19d3f3",
           "#FF6692",
           "#B6E880",
           "#FF97FF",
           "#FECB52"
          ],
          "font": {
           "color": "#2a3f5f"
          },
          "geo": {
           "bgcolor": "white",
           "lakecolor": "white",
           "landcolor": "#E5ECF6",
           "showlakes": true,
           "showland": true,
           "subunitcolor": "white"
          },
          "hoverlabel": {
           "align": "left"
          },
          "hovermode": "closest",
          "mapbox": {
           "style": "light"
          },
          "paper_bgcolor": "white",
          "plot_bgcolor": "#E5ECF6",
          "polar": {
           "angularaxis": {
            "gridcolor": "white",
            "linecolor": "white",
            "ticks": ""
           },
           "bgcolor": "#E5ECF6",
           "radialaxis": {
            "gridcolor": "white",
            "linecolor": "white",
            "ticks": ""
           }
          },
          "scene": {
           "xaxis": {
            "backgroundcolor": "#E5ECF6",
            "gridcolor": "white",
            "gridwidth": 2,
            "linecolor": "white",
            "showbackground": true,
            "ticks": "",
            "zerolinecolor": "white"
           },
           "yaxis": {
            "backgroundcolor": "#E5ECF6",
            "gridcolor": "white",
            "gridwidth": 2,
            "linecolor": "white",
            "showbackground": true,
            "ticks": "",
            "zerolinecolor": "white"
           },
           "zaxis": {
            "backgroundcolor": "#E5ECF6",
            "gridcolor": "white",
            "gridwidth": 2,
            "linecolor": "white",
            "showbackground": true,
            "ticks": "",
            "zerolinecolor": "white"
           }
          },
          "shapedefaults": {
           "line": {
            "color": "#2a3f5f"
           }
          },
          "ternary": {
           "aaxis": {
            "gridcolor": "white",
            "linecolor": "white",
            "ticks": ""
           },
           "baxis": {
            "gridcolor": "white",
            "linecolor": "white",
            "ticks": ""
           },
           "bgcolor": "#E5ECF6",
           "caxis": {
            "gridcolor": "white",
            "linecolor": "white",
            "ticks": ""
           }
          },
          "title": {
           "x": 0.05
          },
          "xaxis": {
           "automargin": true,
           "gridcolor": "white",
           "linecolor": "white",
           "ticks": "",
           "title": {
            "standoff": 15
           },
           "zerolinecolor": "white",
           "zerolinewidth": 2
          },
          "yaxis": {
           "automargin": true,
           "gridcolor": "white",
           "linecolor": "white",
           "ticks": "",
           "title": {
            "standoff": 15
           },
           "zerolinecolor": "white",
           "zerolinewidth": 2
          }
         }
        },
        "title": {
         "text": "Obesity Estimate based on Poverty Level and Age in individuals aged 2-19"
        },
        "xaxis": {
         "anchor": "y",
         "autorange": true,
         "domain": [
          0,
          1
         ],
         "range": [
          -0.5,
          3.5
         ],
         "title": {
          "text": "Poverty Levels (Highest to Least)"
         },
         "type": "category"
        },
        "yaxis": {
         "anchor": "x",
         "autorange": true,
         "domain": [
          0,
          1
         ],
         "range": [
          0,
          23.210526315789476
         ],
         "title": {
          "text": "Obesity Rate (%)"
         },
         "type": "linear"
        }
       }
      },
      "image/png": "[encoded data removed]"
     },
     "metadata": {},
     "output_type": "display_data"
    }
   ],
   "source": [
    "obesity_Visual1(poverty_obesity)"
   ]
  },
  {
   "cell_type": "markdown",
   "id": "e7261a3c-dac3-41de-b845-46f83784b879",
   "metadata": {},
   "source": [
    "One of our hypothesis before analyzing the data was that income was the leading contributing factor of obesity. "
   ]
  },
  {
   "cell_type": "markdown",
   "id": "8489a442-7516-45c3-b743-7b779f43334a",
   "metadata": {},
   "source": [
    "**Visual 2 - Data - Obesity Among Adults 20+**"
   ]
  },
  {
   "cell_type": "code",
   "execution_count": 5,
   "id": "aadd5acd-937f-45cb-8d7b-76e05aec60b6",
   "metadata": {},
   "outputs": [
    {
     "data": {
      "image/png": "[encoded data removed]",
      "text/plain": [
       "<Figure size 1300x400 with 3 Axes>"
      ]
     },
     "metadata": {},
     "output_type": "display_data"
    }
   ],
   "source": [
    "data1_helper.obesityRaceVsObesity(raceGender_df)"
   ]
  },
  {
   "cell_type": "markdown",
   "id": "d5709453-b180-4327-bb2c-fb95b96e9af4",
   "metadata": {},
   "source": [
    "Explanation:"
   ]
  },
  {
   "cell_type": "markdown",
   "id": "02d1b298-a469-4a60-9662-f2c47e34c7d3",
   "metadata": {},
   "source": [
    "## Machine Learning Analysis\n",
    "\n",
    "**Question**: What will be the rate of obesity in the US in 2024?"
   ]
  },
  {
   "cell_type": "code",
   "execution_count": 6,
   "id": "62eea9fc-e1a1-4f61-91d2-4493735ce789",
   "metadata": {},
   "outputs": [],
   "source": [
    "from scipy import stats\n",
    "import sklearn.metrics as sm\n",
    "\n",
    "# prepare data for ML\n",
    "middleYearDict = data1_helper.getMiddleYear(yearDict)\n",
    "generalObesity = data1_helper.getFilteredData(obesity_adult, 1, 3, 1, 1.1, middleYearDict)\n",
    "x = generalObesity[\"MiddleYear\"]\n",
    "y = generalObesity[\"ESTIMATE\"]"
   ]
  },
  {
   "cell_type": "code",
   "execution_count": 7,
   "id": "3443cbce-ca51-4e9e-8ff5-92b4231e4d08",
   "metadata": {},
   "outputs": [
    {
     "data": {
      "text/plain": [
       "22.442400000000003"
      ]
     },
     "execution_count": 7,
     "metadata": {},
     "output_type": "execute_result"
    }
   ],
   "source": [
    "# baseline ML model: mean\n",
    "baselineML = data1_helper.MeanModel()\n",
    "baselineML.fit(x, y)\n",
    "baseline_error = data1_helper.evaluateModel(baselineML, x, y)\n",
    "baseline_error"
   ]
  },
  {
   "cell_type": "code",
   "execution_count": 8,
   "id": "191dbe0c-61c4-4d36-85bd-156e2186cdcf",
   "metadata": {},
   "outputs": [
    {
     "data": {
      "text/plain": [
       "0.5901431713657087"
      ]
     },
     "execution_count": 8,
     "metadata": {},
     "output_type": "execute_result"
    }
   ],
   "source": [
    "# linear regression model\n",
    "linRegressML = data1_helper.LinearRegressionModel()\n",
    "linRegressML.fit(x, y)\n",
    "linRegress_error = data1_helper.evaluateModel(linRegressML, x, y)\n",
    "linRegress_error"
   ]
  },
  {
   "cell_type": "code",
   "execution_count": 9,
   "id": "d8efc6af-81c4-45c6-a779-6167af221917",
   "metadata": {},
   "outputs": [
    {
     "data": {
      "text/plain": [
       "[<matplotlib.lines.Line2D at 0x12a0f3d10>]"
      ]
     },
     "execution_count": 9,
     "metadata": {},
     "output_type": "execute_result"
    },
    {
     "data": {
      "image/png": "[encoded data removed]",
      "text/plain": [
       "<Figure size 640x480 with 1 Axes>"
      ]
     },
     "metadata": {},
     "output_type": "display_data"
    }
   ],
   "source": [
    "# graphing machine learning model\n",
    "plt.figure()\n",
    "\n",
    "# plot the data\n",
    "ax = sns.scatterplot(generalObesity, x=\"MiddleYear\", y=\"ESTIMATE\")\n",
    "ax.set_xlabel(None)\n",
    "ax.set_ylabel(\"Pecentage of Population\")\n",
    "\n",
    "# plot the linear regression\n",
    "predictedY = linRegressML.predict(x)\n",
    "predicted2024 = round(linRegressML.predict([2024])[0], 2)\n",
    "title = \"Consistent Increased rate of obesity in the US.\\nThe rate of obesity in the US in 2024 is predicted to be \" + str(predicted2024) + \"%\"\n",
    "plt.title(title)\n",
    "plt.plot(x, predictedY, 'r')"
   ]
  },
  {
   "cell_type": "markdown",
   "id": "7fa6b813-396a-4fc0-83df-c34891ee52bc",
   "metadata": {},
   "source": [
    "## Reflections \n",
    "**What has been the hardest part of the project encountered so far?** \n",
    "+ During the cleaning and pre-processing of our three data sets, we realized that many of the column names were structured differently than expected. We did a deep analysis of the unique values of each column and how each column correlated with the other columns such as poverty level/income. Additionally, we took steps to validate our data by separating data frames for the factors of interest (e.g. poverty level, education, race) before conducting extensive EDA such as cross-validation for our ML approach of predicting future obesity levels. Overall, it was difficult but necessary for us to take these preliminary steps during EDA so that we could avoid bias/errors in our statistical analysis.\n",
    "  \n",
    "**What are your intial insights?**\n",
    "\n",
    "Some things that we realized while cleaning and looking over the data especially when we started our analysis:\n",
    "+ The state of residence affects the obesity rate. \n",
    "+ Trend of lower obesity rates the higher income level\n",
    "+ Obesity rates tend to rise as we age, peaking at the 45-54 range.\n",
    "+ Non-Hispanic Black, Hispanic/Latino, and Hawaiian/Pacific Islanders have the highest obesity rates\n",
    "+ Obesity rates are marginally highest in those with less than a high school education\n",
    "+ Asians have lower obesity levels than other races\n",
    " \n",
    "\n",
    "**Are there any concrete results you can show at this point? If not, why not?**\n",
    "+ We can make some assumptions but can’t say something is concrete 100% because we only have data from around 10000 people, so saying that our insights and results are concrete is unrealistic. So far we have found great insights about which factors affect obesity, however, with more analysis we will be able to show concrete information regarding our hypothesis.\n",
    "  \n",
    "**Going forward, what are the current biggest problems you’re facing?**\n",
    "+ We have chosen three datasets to analyze for this project and we have successfully managed to analyze the first two completely. The third has been more cumbersome due to its extensive size compared to the first two data sets. Additionally, the data set itself is unstructured based on how we want to conduct our analysis, so we’re also brainstorming what data must be excluded and justifying our reasons to give an accurate analysis.\n",
    "\n",
    "  \n",
    "**Do you think you are on track with your project? If not, what parts do you need to dedicate more time to?**\n",
    "+ To date, we are up to track on the project and have cleaned most of the data, performed EDA, created multiple visualizations, and performed two ML analyses. After we finish up our analysis with the third data set, we’ll work on perfecting machine learning and coming up with more unique visualizations that can help convey the results.\n",
    "  \n",
    "**Given your initial exploration of the data, is it worth proceeding with your project, why? If not, how are you going to change your project and why do you think it’s better than your current results?**\n",
    "+ Proceeding with this project is worth it as our project can understand those at most risk and the factors that lead them to be at risk. Our projects analysis can be relevant to clients such as the city, state, country, healthcare professionals, and more.\n",
    "## Next Steps\n",
    "**What do you plan to accomplish in the next month and how you plan to evaluate whether your project achieved the goals you set for it.**\n",
    "+ We plan to accomplish finishing our interactive map visualization, correlation analysis, and analyze the third dataset to a greater extent. To evaluate whether our project achieved the goals we set out in the beginning.\n"
   ]
  }
 ],
 "metadata": {
  "kernelspec": {
   "display_name": "Python 3 (ipykernel)",
   "language": "python",
   "name": "python3"
  },
  "language_info": {
   "codemirror_mode": {
    "name": "ipython",
    "version": 3
   },
   "file_extension": ".py",
   "mimetype": "text/x-python",
   "name": "python",
   "nbconvert_exporter": "python",
   "pygments_lexer": "ipython3",
   "version": "3.10.13"
  }
 },
 "nbformat": 4,
 "nbformat_minor": 5
}
