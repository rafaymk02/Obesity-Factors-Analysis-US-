{
 "cells": [
  {
   "cell_type": "markdown",
   "id": "0f0a6c9f-932a-4c12-93a1-1d3a54ec37fe",
   "metadata": {},
   "source": [
    "# Obesity in the United States Analysis\n",
    "With obesity at all time rates in the United States it is important to understand the individuals most at risk. Obesity is a pressing public health concern with far-reaching implications for everyone. This analysis is focused on the critical issue of obesity among individuals in America, exploring data from selected population characteristics. This information was made available by the Centers of Disease Control and Prevention (CDC) and contains data from 1988-2018. The data gives us access to information regarding percent poverty level, race, hispanic origin, age, income, sex and etc. of a age range in a given year. Few interesting questions we are investigating are if income is the leading factor in obesity. Though, children and many adolscents do not have income, we can use the poverty level to ask the question if the leading factor of obesity in individuals 2-19 is poverty. Other questions that can be answered are is the trend in obesity the same in all races, or if younger age range are more affected by obesity. "
   ]
  }
 ],
 "metadata": {
  "kernelspec": {
   "display_name": "Python 3 (ipykernel)",
   "language": "python",
   "name": "python3"
  },
  "language_info": {
   "codemirror_mode": {
    "name": "ipython",
    "version": 3
   },
   "file_extension": ".py",
   "mimetype": "text/x-python",
   "name": "python",
   "nbconvert_exporter": "python",
   "pygments_lexer": "ipython3",
   "version": "3.11.5"
  }
 },
 "nbformat": 4,
 "nbformat_minor": 5
}
