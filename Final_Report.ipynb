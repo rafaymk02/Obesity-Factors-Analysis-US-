{
 "cells": [
  {
   "cell_type": "markdown",
   "id": "29650d5e-3a84-4f75-9963-9a8d3f9a7554",
   "metadata": {},
   "source": [
    "# Final Report: Analysis On Factors Leading to Obesity in America\n",
    "## Project Introduction\n",
    "With obesity at all time rates in the United States it is important to understand the individuals most at risk. This analysis is focused on the critical issue of obesity among individuals in America, exploring data from selected population characteristics. This information was made available by the Centers of Disease Control and Prevention (CDC). Our goals are to investigate if race plays a role in being at risk of obesity, if income is the leading factor in obesity, and to explore other interesting relationships found within the data. \n",
    "\n",
    "**Github Repository**: https://github.com/uic-cs418/group-project-mind-masters"
   ]
  },
  {
   "cell_type": "code",
   "execution_count": null,
   "id": "adc02311-4440-41c1-8074-4d52437ac7e4",
   "metadata": {},
   "outputs": [],
   "source": [
    "import pandas as pd\n",
    "import numpy as np\n",
    "import seaborn as sns\n",
    "import plotly.express as px\n",
    "%matplotlib inline\n",
    "import matplotlib.pyplot as plt\n",
    "from obesity_children import * #cleaning python file\n",
    "import data1_helper # for analyzing data 1\n",
    "\n",
    "from sklearn.ensemble import RandomForestClassifier\n",
    "from sklearn.feature_selection import SelectKBest, f_classif\n",
    "from sklearn.model_selection import train_test_split\n",
    "from sklearn.preprocessing import StandardScaler\n",
    "from sklearn.linear_model import LogisticRegression\n",
    "from sklearn.metrics import accuracy_score, precision_score, recall_score, f1_score\n",
    "from sklearn.ensemble import RandomForestRegressor\n",
    "from sklearn.metrics import mean_squared_error, r2_score\n",
    "from sklearn.metrics import confusion_matrix\n",
    "import seaborn as sns\n",
    "\n",
    "df = pd.read_csv('physicaldataset2.csv')"
   ]
  },
  {
   "cell_type": "markdown",
   "id": "2d896c3f-ed54-4bff-9570-1eaf9c032831",
   "metadata": {},
   "source": [
    "## Reading Data / Cleaning Data\n",
    "**Data - Obesity Among Children and Adolescents 2-19**"
   ]
  },
  {
   "cell_type": "code",
   "execution_count": null,
   "id": "1336fb56-002e-4e46-99af-2f96f68b2414",
   "metadata": {},
   "outputs": [],
   "source": []
  },
  {
   "cell_type": "markdown",
   "id": "5dea49f0-23e7-44dc-96ed-00da4cb80de3",
   "metadata": {},
   "source": [
    "**Data - Obesity Among Adults 20+**"
   ]
  },
  {
   "cell_type": "code",
   "execution_count": null,
   "id": "e4ca1d49-9cb8-43db-b2eb-091a832d8634",
   "metadata": {},
   "outputs": [],
   "source": []
  },
  {
   "cell_type": "markdown",
   "id": "a993f428-72d3-4bf3-8166-f1313a8e114e",
   "metadata": {},
   "source": [
    "**Data - Nutrition, Physical Activity, and Obesity**"
   ]
  },
  {
   "cell_type": "code",
   "execution_count": null,
   "id": "8337a5be-8cb2-4662-98c4-8af78bb75045",
   "metadata": {},
   "outputs": [],
   "source": []
  },
  {
   "cell_type": "markdown",
   "id": "755c6161-2f3c-4dd8-bd48-5bdb65e6d0f0",
   "metadata": {},
   "source": [
    "## Machine Learning Analysis\n",
    "**Linear Regression Model**"
   ]
  },
  {
   "cell_type": "code",
   "execution_count": null,
   "id": "2574edb1-342b-4316-9b30-fd5b9e8dceae",
   "metadata": {},
   "outputs": [],
   "source": []
  },
  {
   "cell_type": "markdown",
   "id": "a3696848-687b-4c88-a492-9ea7c7f546b5",
   "metadata": {},
   "source": [
    "**Logistic Regression**"
   ]
  },
  {
   "cell_type": "code",
   "execution_count": null,
   "id": "883601e5-60a2-43a9-ac33-792822422ea6",
   "metadata": {},
   "outputs": [],
   "source": [
    "# Select relevant features and target variable\n",
    "features = ['Age(years)', 'Gender', 'Race/Ethnicity']\n",
    "target = 'Data_Value'\n",
    "# Filter the dataset to include only physical activity-related data\n",
    "activity_df = df[(df['Topic'] == 'Physical Activity - Behavior') & (df['Question'].str.contains('no leisure-time physical activity'))]\n",
    "# Convert 'Data_Value' to a binary variable based on a threshold\n",
    "threshold = 30\n",
    "activity_df = activity_df.copy()\n",
    "activity_df['Inactive'] = (activity_df['Data_Value'] >= threshold).astype(int)\n",
    "# Use 'Inactive' as the target\n",
    "target = 'Inactive'\n",
    "# Perform one-hot encoding for categorical features\n",
    "activity_df_encoded = pd.get_dummies(activity_df[features], drop_first=True)\n",
    "# Split the data into training and testing sets\n",
    "X_train, X_test, y_train, y_test = train_test_split(activity_df_encoded, activity_df[target], test_size=0.2, random_state=42)\n",
    "# Create and train the Logistic Regression model\n",
    "lr_model = LogisticRegression(random_state=42)\n",
    "lr_model.fit(X_train, y_train)\n",
    "# Make predictions on the test set\n",
    "y_pred = lr_model.predict(X_test)\n",
    "# Evaluate the model\n",
    "accuracy = accuracy_score(y_test, y_pred)\n",
    "confusion_mat = confusion_matrix(y_test, y_pred)\n",
    "print(f\"Accuracy: {accuracy:.2f}\")\n",
    "print(\"Confusion Matrix:\")\n",
    "print(confusion_mat)\n",
    "# Create sample inputs for different types of individuals\n",
    "sample_inputs = [\n",
    "    {\"Age(years)\": \"25 - 34\", \"Gender\": \"Male\", \"Race/Ethnicity\": \"Non-Hispanic White\"},\n",
    "    {\"Age(years)\": \"45 - 54\", \"Gender\": \"Female\", \"Race/Ethnicity\": \"Non-Hispanic Black\"},\n",
    "    {\"Age(years)\": \"65 or older\", \"Gender\": \"Male\", \"Race/Ethnicity\": \"Hispanic\"},\n",
    "    {\"Age(years)\": \"18 - 24\", \"Gender\": \"Female\", \"Race/Ethnicity\": \"Asian\"},\n",
    "    {\"Age(years)\": \"35 - 44\", \"Gender\": \"Male\", \"Race/Ethnicity\": \"American Indian/Alaska Native\"}\n",
    "]\n",
    "# Get the feature names from the trained model\n",
    "feature_names = lr_model.feature_names_in_\n",
    "# Predict inactivity for each sample input\n",
    "for i, sample_input in enumerate(sample_inputs, start=1):\n",
    "    # Create a DataFrame with all the encoded features from the trained model\n",
    "    sample_df = pd.DataFrame(columns=feature_names, index=[0])\n",
    "    sample_df.fillna(0, inplace=True)\n",
    "    # Set the corresponding values based on the sample input\n",
    "    for feature, value in sample_input.items():\n",
    "        encoded_feature = f\"{feature}_{value}\"\n",
    "        if encoded_feature in feature_names:\n",
    "            sample_df[encoded_feature] = 1\n",
    "    # Make a prediction for the sample input\n",
    "    sample_prediction = lr_model.predict(sample_df)\n",
    "    print(f\"\\nSample Input {i}:\")\n",
    "    print(f\"Age: {sample_input['Age(years)']}\")\n",
    "    print(f\"Gender: {sample_input['Gender']}\")\n",
    "    print(f\"Race/Ethnicity: {sample_input['Race/Ethnicity']}\")\n",
    "    print(f\"Predicted Inactivity: {'Inactive' if sample_prediction[0] == 1 else 'Active'}\")"
   ]
  },
  {
   "cell_type": "code",
   "execution_count": 1,
   "id": "3ef0c4a5",
   "metadata": {},
   "outputs": [],
   "source": [
    "# Testing the Logistic Regression ML - confusion matrix plot"
   ]
  },
  {
   "cell_type": "code",
   "execution_count": null,
   "id": "ee758c67",
   "metadata": {},
   "outputs": [],
   "source": [
    "# Create a DataFrame for plotting\n",
    "plot_data = pd.DataFrame({'Actual': y_test, 'Predicted': y_pred})\n",
    "# Create a confusion matrix plot\n",
    "plt.figure(figsize=(8, 6))\n",
    "sns.heatmap(confusion_mat, annot=True, cmap='Blues', fmt='d', cbar=False,\n",
    "            xticklabels=['Active', 'Inactive'], yticklabels=['Active', 'Inactive'])\n",
    "plt.xlabel('Predicted')\n",
    "plt.ylabel('Actual')\n",
    "plt.title('Confusion Matrix')\n",
    "plt.tight_layout()\n",
    "plt.show()"
   ]
  },
  {
   "cell_type": "code",
   "execution_count": null,
   "id": "b7f846e7",
   "metadata": {},
   "outputs": [],
   "source": [
    "# Logistic Regression ML - Visulazation Plot"
   ]
  },
  {
   "cell_type": "code",
   "execution_count": null,
   "id": "b2fcf2ad",
   "metadata": {},
   "outputs": [],
   "source": [
    "race_activity = activity_df.groupby('Race/Ethnicity')['Inactive'].mean()\n",
    "\n",
    "# Create a bar plot\n",
    "plt.figure(figsize=(10, 6))\n",
    "sns.barplot(x=race_activity.index, y=race_activity.values)\n",
    "plt.xlabel('Race/Ethnicity')\n",
    "plt.ylabel('Inactivity Percentage')\n",
    "plt.title('Inactivity Percentage by Race/Ethnicity')\n",
    "plt.xticks(rotation=45)\n",
    "plt.tight_layout()\n",
    "plt.show()"
   ]
  },
  {
   "cell_type": "markdown",
   "id": "a8662970-056b-44a4-b11b-d716abeb2869",
   "metadata": {},
   "source": [
    "## Visualizations + Additional Visualization\n",
    "**Wealthy adults in 2018 are more likely to be obese than Low-Income Adults in 1988**"
   ]
  },
  {
   "cell_type": "code",
   "execution_count": null,
   "id": "2519fd6e-9c25-41af-9fb8-bbcf6fece045",
   "metadata": {},
   "outputs": [],
   "source": []
  },
  {
   "cell_type": "markdown",
   "id": "4a93b8fd-b56a-429f-b9dd-e0846f6a1468",
   "metadata": {},
   "source": [
    "**Hispanic individuals aged 2-19 have the highest obesity rate from 1988-2018**"
   ]
  },
  {
   "cell_type": "code",
   "execution_count": null,
   "id": "f1d99292-373b-43b8-9a9c-d68689722e31",
   "metadata": {},
   "outputs": [],
   "source": []
  },
  {
   "cell_type": "markdown",
   "id": "b1c34bf5-c5df-47e8-9a5a-182ddd470c2c",
   "metadata": {},
   "source": [
    "**Asians have less obesity rate than people of other races in all levels of Obesity**\n"
   ]
  },
  {
   "cell_type": "code",
   "execution_count": null,
   "id": "95232521-de40-4518-b7bf-27a7cd7ee677",
   "metadata": {},
   "outputs": [],
   "source": []
  },
  {
   "cell_type": "markdown",
   "id": "6ad71da5-f6b6-4349-a7f9-5395b2b3f3ad",
   "metadata": {},
   "source": [
    "**Interactive Visualization**\n",
    "\n",
    "Directions on how to access interactive visualization in README."
   ]
  },
  {
   "cell_type": "code",
   "execution_count": null,
   "id": "ff857826-360d-4b36-a2ef-dfda9557a748",
   "metadata": {},
   "outputs": [],
   "source": []
  },
  {
   "cell_type": "markdown",
   "id": "01718955-02bc-4f2b-9d8a-feff6882dae0",
   "metadata": {},
   "source": [
    "## Results\n",
    "Fully explain and analyze the results from your data, i.e. the inferences or correlations you uncovered, the tools you built, or the visualizations you created. "
   ]
  }
 ],
 "metadata": {
  "kernelspec": {
   "display_name": "Python 3 (ipykernel)",
   "language": "python",
   "name": "python3"
  },
  "language_info": {
   "codemirror_mode": {
    "name": "ipython",
    "version": 3
   },
   "file_extension": ".py",
   "mimetype": "text/x-python",
   "name": "python",
   "nbconvert_exporter": "python",
   "pygments_lexer": "ipython3",
   "version": "3.11.5"
  }
 },
 "nbformat": 4,
 "nbformat_minor": 5
}
