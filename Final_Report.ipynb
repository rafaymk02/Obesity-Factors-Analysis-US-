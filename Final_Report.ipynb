{
 "cells": [
  {
   "cell_type": "markdown",
   "id": "29650d5e-3a84-4f75-9963-9a8d3f9a7554",
   "metadata": {},
   "source": [
    "# Final Report: Analysis On Factors Leading to Obesity in America\n",
    "## Project Introduction\n",
    "With obesity at all time rates in the United States it is important to understand the individuals most at risk. This analysis is focused on the critical issue of obesity among individuals in America, exploring data from selected population characteristics. This information was made available by the Centers of Disease Control and Prevention (CDC). Our goals are to investigate if race plays a role in being at risk of obesity, if income is the leading factor in obesity, and to explore other interesting relationships found within the data. \n",
    "\n",
    "**Github Repository**: https://github.com/uic-cs418/group-project-mind-masters"
   ]
  },
  {
   "cell_type": "code",
   "execution_count": null,
   "id": "adc02311-4440-41c1-8074-4d52437ac7e4",
   "metadata": {},
   "outputs": [],
   "source": [
    "import pandas as pd\n",
    "import numpy as np\n",
    "import seaborn as sns\n",
    "import plotly.express as px\n",
    "%matplotlib inline\n",
    "import matplotlib.pyplot as plt\n",
    "from obesity_children import * #cleaning python file\n",
    "import data1_helper # for analyzing data 1"
   ]
  },
  {
   "cell_type": "markdown",
   "id": "2d896c3f-ed54-4bff-9570-1eaf9c032831",
   "metadata": {},
   "source": [
    "## Reading Data / Cleaning Data\n",
    "**Data - Obesity Among Children and Adolescents 2-19**"
   ]
  },
  {
   "cell_type": "code",
   "execution_count": null,
   "id": "1336fb56-002e-4e46-99af-2f96f68b2414",
   "metadata": {},
   "outputs": [],
   "source": []
  },
  {
   "cell_type": "markdown",
   "id": "5dea49f0-23e7-44dc-96ed-00da4cb80de3",
   "metadata": {},
   "source": [
    "**Data - Obesity Among Adults 20+**"
   ]
  },
  {
   "cell_type": "code",
   "execution_count": null,
   "id": "e4ca1d49-9cb8-43db-b2eb-091a832d8634",
   "metadata": {},
   "outputs": [],
   "source": []
  },
  {
   "cell_type": "markdown",
   "id": "a993f428-72d3-4bf3-8166-f1313a8e114e",
   "metadata": {},
   "source": [
    "**Data - Nutrition, Physical Activity, and Obesity**"
   ]
  },
  {
   "cell_type": "code",
   "execution_count": null,
   "id": "8337a5be-8cb2-4662-98c4-8af78bb75045",
   "metadata": {},
   "outputs": [],
   "source": []
  },
  {
   "cell_type": "markdown",
   "id": "755c6161-2f3c-4dd8-bd48-5bdb65e6d0f0",
   "metadata": {},
   "source": [
    "## Machine Learning Analysis\n",
    "**Linear Regression Model**"
   ]
  },
  {
   "cell_type": "code",
   "execution_count": null,
   "id": "2574edb1-342b-4316-9b30-fd5b9e8dceae",
   "metadata": {},
   "outputs": [],
   "source": []
  },
  {
   "cell_type": "markdown",
   "id": "a3696848-687b-4c88-a492-9ea7c7f546b5",
   "metadata": {},
   "source": [
    "**Logistic Regression**"
   ]
  },
  {
   "cell_type": "code",
   "execution_count": null,
   "id": "883601e5-60a2-43a9-ac33-792822422ea6",
   "metadata": {},
   "outputs": [],
   "source": []
  },
  {
   "cell_type": "markdown",
   "id": "a8662970-056b-44a4-b11b-d716abeb2869",
   "metadata": {},
   "source": [
    "## Visualizations + Additional Visualization\n",
    "**Wealthy adults in 2018 are more likely to be obese than Low-Income Adults in 1988**"
   ]
  },
  {
   "cell_type": "code",
   "execution_count": null,
   "id": "2519fd6e-9c25-41af-9fb8-bbcf6fece045",
   "metadata": {},
   "outputs": [],
   "source": []
  },
  {
   "cell_type": "markdown",
   "id": "4a93b8fd-b56a-429f-b9dd-e0846f6a1468",
   "metadata": {},
   "source": [
    "**Hispanic individuals aged 2-19 have the highest obesity rate from 1988-2018**"
   ]
  },
  {
   "cell_type": "code",
   "execution_count": null,
   "id": "f1d99292-373b-43b8-9a9c-d68689722e31",
   "metadata": {},
   "outputs": [],
   "source": []
  },
  {
   "cell_type": "markdown",
   "id": "b1c34bf5-c5df-47e8-9a5a-182ddd470c2c",
   "metadata": {},
   "source": [
    "**Asians have less obesity rate than people of other races in all levels of Obesity**\n"
   ]
  },
  {
   "cell_type": "code",
   "execution_count": null,
   "id": "95232521-de40-4518-b7bf-27a7cd7ee677",
   "metadata": {},
   "outputs": [],
   "source": []
  },
  {
   "cell_type": "markdown",
   "id": "6ad71da5-f6b6-4349-a7f9-5395b2b3f3ad",
   "metadata": {},
   "source": [
    "**Interactive Visualization**\n",
    "\n",
    "Directions on how to access interactive visualization in README."
   ]
  },
  {
   "cell_type": "code",
   "execution_count": null,
   "id": "ff857826-360d-4b36-a2ef-dfda9557a748",
   "metadata": {},
   "outputs": [],
   "source": []
  },
  {
   "cell_type": "markdown",
   "id": "01718955-02bc-4f2b-9d8a-feff6882dae0",
   "metadata": {},
   "source": [
    "## Results\n",
    "Fully explain and analyze the results from your data, i.e. the inferences or correlations you uncovered, the tools you built, or the visualizations you created. "
   ]
  }
 ],
 "metadata": {
  "kernelspec": {
   "display_name": "Python 3 (ipykernel)",
   "language": "python",
   "name": "python3"
  },
  "language_info": {
   "codemirror_mode": {
    "name": "ipython",
    "version": 3
   },
   "file_extension": ".py",
   "mimetype": "text/x-python",
   "name": "python",
   "nbconvert_exporter": "python",
   "pygments_lexer": "ipython3",
   "version": "3.11.5"
  }
 },
 "nbformat": 4,
 "nbformat_minor": 5
}
