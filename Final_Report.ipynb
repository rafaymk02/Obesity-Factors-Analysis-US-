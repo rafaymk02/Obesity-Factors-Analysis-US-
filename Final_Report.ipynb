{
 "cells": [
  {
   "cell_type": "markdown",
   "id": "29650d5e-3a84-4f75-9963-9a8d3f9a7554",
   "metadata": {},
   "source": [
    "# Final Report: Analysis On Factors Leading to Obesity in America\n",
    "## Project Introduction\n",
    "With obesity at all time rates in the United States it is important to understand the individuals most at risk. This analysis is focused on the critical issue of obesity among individuals in America, exploring data from selected population characteristics. This information was made available by the Centers of Disease Control and Prevention (CDC). Our goals are to investigate if race plays a role in being at risk of obesity, if income is the leading factor in obesity, and to explore other interesting relationships found within the data. \n",
    "\n",
    "**Group:** - Om Gor, Manh Phan, Vincenzo Murray, Ali Alshaheen, Rafay Khan **Github Repository**: https://github.com/uic-cs418/group-project-mind-masters"
   ]
  },
  {
   "cell_type": "code",
   "execution_count": 13,
   "id": "adc02311-4440-41c1-8074-4d52437ac7e4",
   "metadata": {},
   "outputs": [],
   "source": [
    "import pandas as pd\n",
    "import numpy as np\n",
    "import seaborn as sns\n",
    "import plotly.express as px\n",
    "%matplotlib inline\n",
    "import matplotlib.pyplot as plt\n",
    "from obesity_children import * #cleaning python file\n",
    "import data1_helper # for analyzing data 1\n",
    "from obesity_visualization import update_plot, load_and_prepare_data # Asian / Races graph\n",
    "from ipywidgets import interact, Dropdown, fixed\n",
    "\n",
    "from sklearn.ensemble import RandomForestClassifier\n",
    "from sklearn.feature_selection import SelectKBest, f_classif\n",
    "from sklearn.model_selection import train_test_split\n",
    "from sklearn.preprocessing import StandardScaler\n",
    "from sklearn.linear_model import LogisticRegression\n",
    "from sklearn.metrics import accuracy_score, precision_score, recall_score, f1_score\n",
    "from sklearn.ensemble import RandomForestRegressor\n",
    "from sklearn.metrics import mean_squared_error, r2_score\n",
    "from sklearn.metrics import confusion_matrix\n",
    "import seaborn as sns\n",
    "\n",
    "from inactivity_model import train_model, evaluate_model, predict_inactivity, baseline_model\n",
    "\n",
    "df = pd.read_csv('physicaldataset2.csv')"
   ]
  },
  {
   "cell_type": "markdown",
   "id": "2d896c3f-ed54-4bff-9570-1eaf9c032831",
   "metadata": {},
   "source": [
    "## Reading Data / Cleaning Data\n",
    "**Data - Obesity Among Children and Adolescents 2-19**"
   ]
  },
  {
   "cell_type": "code",
   "execution_count": 32,
   "id": "1336fb56-002e-4e46-99af-2f96f68b2414",
   "metadata": {},
   "outputs": [
    {
     "data": {
      "text/html": [
       "<div>\n",
       "<style scoped>\n",
       "    .dataframe tbody tr th:only-of-type {\n",
       "        vertical-align: middle;\n",
       "    }\n",
       "\n",
       "    .dataframe tbody tr th {\n",
       "        vertical-align: top;\n",
       "    }\n",
       "\n",
       "    .dataframe thead th {\n",
       "        text-align: right;\n",
       "    }\n",
       "</style>\n",
       "<table border=\"1\" class=\"dataframe\">\n",
       "  <thead>\n",
       "    <tr style=\"text-align: right;\">\n",
       "      <th></th>\n",
       "      <th>PANEL</th>\n",
       "      <th>STUB_NAME</th>\n",
       "      <th>STUB_LABEL</th>\n",
       "      <th>YEAR</th>\n",
       "      <th>AGE</th>\n",
       "      <th>ESTIMATE</th>\n",
       "      <th>SE</th>\n",
       "      <th>FLAG</th>\n",
       "    </tr>\n",
       "  </thead>\n",
       "  <tbody>\n",
       "    <tr>\n",
       "      <th>171</th>\n",
       "      <td>2-19 years</td>\n",
       "      <td>Percent of poverty level</td>\n",
       "      <td>Below 100%</td>\n",
       "      <td>1988-1994</td>\n",
       "      <td>2-19 years</td>\n",
       "      <td>12.6</td>\n",
       "      <td>1.2</td>\n",
       "      <td>NaN</td>\n",
       "    </tr>\n",
       "    <tr>\n",
       "      <th>172</th>\n",
       "      <td>2-19 years</td>\n",
       "      <td>Percent of poverty level</td>\n",
       "      <td>Below 100%</td>\n",
       "      <td>1999-2002</td>\n",
       "      <td>2-19 years</td>\n",
       "      <td>17.6</td>\n",
       "      <td>1.1</td>\n",
       "      <td>NaN</td>\n",
       "    </tr>\n",
       "    <tr>\n",
       "      <th>173</th>\n",
       "      <td>2-19 years</td>\n",
       "      <td>Percent of poverty level</td>\n",
       "      <td>Below 100%</td>\n",
       "      <td>2001-2004</td>\n",
       "      <td>2-19 years</td>\n",
       "      <td>17.9</td>\n",
       "      <td>1.3</td>\n",
       "      <td>NaN</td>\n",
       "    </tr>\n",
       "    <tr>\n",
       "      <th>174</th>\n",
       "      <td>2-19 years</td>\n",
       "      <td>Percent of poverty level</td>\n",
       "      <td>Below 100%</td>\n",
       "      <td>2003-2006</td>\n",
       "      <td>2-19 years</td>\n",
       "      <td>18.9</td>\n",
       "      <td>1.4</td>\n",
       "      <td>NaN</td>\n",
       "    </tr>\n",
       "    <tr>\n",
       "      <th>175</th>\n",
       "      <td>2-19 years</td>\n",
       "      <td>Percent of poverty level</td>\n",
       "      <td>Below 100%</td>\n",
       "      <td>2005-2008</td>\n",
       "      <td>2-19 years</td>\n",
       "      <td>19.9</td>\n",
       "      <td>1.4</td>\n",
       "      <td>NaN</td>\n",
       "    </tr>\n",
       "  </tbody>\n",
       "</table>\n",
       "</div>"
      ],
      "text/plain": [
       "          PANEL                 STUB_NAME  STUB_LABEL       YEAR         AGE  \\\n",
       "171  2-19 years  Percent of poverty level  Below 100%  1988-1994  2-19 years   \n",
       "172  2-19 years  Percent of poverty level  Below 100%  1999-2002  2-19 years   \n",
       "173  2-19 years  Percent of poverty level  Below 100%  2001-2004  2-19 years   \n",
       "174  2-19 years  Percent of poverty level  Below 100%  2003-2006  2-19 years   \n",
       "175  2-19 years  Percent of poverty level  Below 100%  2005-2008  2-19 years   \n",
       "\n",
       "     ESTIMATE   SE FLAG  \n",
       "171      12.6  1.2  NaN  \n",
       "172      17.6  1.1  NaN  \n",
       "173      17.9  1.3  NaN  \n",
       "174      18.9  1.4  NaN  \n",
       "175      19.9  1.4  NaN  "
      ]
     },
     "execution_count": 32,
     "metadata": {},
     "output_type": "execute_result"
    }
   ],
   "source": [
    "obesity_children = pd.read_csv(\"Obesity_among_children_and_adolescents_aged_2_19_years__by_selected_characteristics__United_States.csv\")\n",
    "obesity_single_unique = remove_single_unique(obesity_children)\n",
    "obesity_clean = remove_num_columns(obesity_single_unique)\n",
    "sex_race_his_obesity, race_his_obesity, total_obesity, poverty_obesity, sex_obesity, age_obesity = final_clean(obesity_clean)\n",
    "poverty_obesity.head()"
   ]
  },
  {
   "cell_type": "markdown",
   "id": "5dea49f0-23e7-44dc-96ed-00da4cb80de3",
   "metadata": {},
   "source": [
    "**Data - Obesity Among Adults 20+**"
   ]
  },
  {
   "cell_type": "code",
   "execution_count": 14,
   "id": "e4ca1d49-9cb8-43db-b2eb-091a832d8634",
   "metadata": {},
   "outputs": [
    {
     "data": {
      "text/html": [
       "<div>\n",
       "<style scoped>\n",
       "    .dataframe tbody tr th:only-of-type {\n",
       "        vertical-align: middle;\n",
       "    }\n",
       "\n",
       "    .dataframe tbody tr th {\n",
       "        vertical-align: top;\n",
       "    }\n",
       "\n",
       "    .dataframe thead th {\n",
       "        text-align: right;\n",
       "    }\n",
       "</style>\n",
       "<table border=\"1\" class=\"dataframe\">\n",
       "  <thead>\n",
       "    <tr style=\"text-align: right;\">\n",
       "      <th></th>\n",
       "      <th>INDICATOR</th>\n",
       "      <th>PANEL</th>\n",
       "      <th>PANEL_NUM</th>\n",
       "      <th>UNIT</th>\n",
       "      <th>UNIT_NUM</th>\n",
       "      <th>STUB_NAME</th>\n",
       "      <th>STUB_NAME_NUM</th>\n",
       "      <th>STUB_LABEL</th>\n",
       "      <th>STUB_LABEL_NUM</th>\n",
       "      <th>YEAR</th>\n",
       "      <th>YEAR_NUM</th>\n",
       "      <th>AGE</th>\n",
       "      <th>AGE_NUM</th>\n",
       "      <th>ESTIMATE</th>\n",
       "      <th>SE</th>\n",
       "      <th>FLAG</th>\n",
       "      <th>Gender</th>\n",
       "      <th>Race</th>\n",
       "    </tr>\n",
       "  </thead>\n",
       "  <tbody>\n",
       "    <tr>\n",
       "      <th>49</th>\n",
       "      <td>Normal weight, overweight, and obesity among a...</td>\n",
       "      <td>Normal weight (BMI from 18.5 to 24.9)</td>\n",
       "      <td>1</td>\n",
       "      <td>Percent of population, age-adjusted</td>\n",
       "      <td>1</td>\n",
       "      <td>Sex and race and Hispanic origin</td>\n",
       "      <td>4</td>\n",
       "      <td>Male: Not Hispanic or Latino: White only</td>\n",
       "      <td>3.111</td>\n",
       "      <td>2015-2018</td>\n",
       "      <td>10</td>\n",
       "      <td>20 years and over</td>\n",
       "      <td>1.0</td>\n",
       "      <td>23.4</td>\n",
       "      <td>1.4</td>\n",
       "      <td>.</td>\n",
       "      <td>Male</td>\n",
       "      <td>White</td>\n",
       "    </tr>\n",
       "    <tr>\n",
       "      <th>59</th>\n",
       "      <td>Normal weight, overweight, and obesity among a...</td>\n",
       "      <td>Normal weight (BMI from 18.5 to 24.9)</td>\n",
       "      <td>1</td>\n",
       "      <td>Percent of population, age-adjusted</td>\n",
       "      <td>1</td>\n",
       "      <td>Sex and race and Hispanic origin</td>\n",
       "      <td>4</td>\n",
       "      <td>Female: Not Hispanic or Latino: White only</td>\n",
       "      <td>3.112</td>\n",
       "      <td>2015-2018</td>\n",
       "      <td>10</td>\n",
       "      <td>20 years and over</td>\n",
       "      <td>1.0</td>\n",
       "      <td>31.9</td>\n",
       "      <td>1.7</td>\n",
       "      <td>.</td>\n",
       "      <td>Female</td>\n",
       "      <td>White</td>\n",
       "    </tr>\n",
       "    <tr>\n",
       "      <th>79</th>\n",
       "      <td>Normal weight, overweight, and obesity among a...</td>\n",
       "      <td>Normal weight (BMI from 18.5 to 24.9)</td>\n",
       "      <td>1</td>\n",
       "      <td>Percent of population, age-adjusted</td>\n",
       "      <td>1</td>\n",
       "      <td>Sex and race and Hispanic origin</td>\n",
       "      <td>4</td>\n",
       "      <td>Male: Not Hispanic or Latino: Black or African...</td>\n",
       "      <td>3.121</td>\n",
       "      <td>2015-2018</td>\n",
       "      <td>10</td>\n",
       "      <td>20 years and over</td>\n",
       "      <td>1.0</td>\n",
       "      <td>26.4</td>\n",
       "      <td>1.7</td>\n",
       "      <td>.</td>\n",
       "      <td>Male</td>\n",
       "      <td>Black or African American</td>\n",
       "    </tr>\n",
       "    <tr>\n",
       "      <th>89</th>\n",
       "      <td>Normal weight, overweight, and obesity among a...</td>\n",
       "      <td>Normal weight (BMI from 18.5 to 24.9)</td>\n",
       "      <td>1</td>\n",
       "      <td>Percent of population, age-adjusted</td>\n",
       "      <td>1</td>\n",
       "      <td>Sex and race and Hispanic origin</td>\n",
       "      <td>4</td>\n",
       "      <td>Female: Not Hispanic or Latino: Black or Afric...</td>\n",
       "      <td>3.122</td>\n",
       "      <td>2015-2018</td>\n",
       "      <td>10</td>\n",
       "      <td>20 years and over</td>\n",
       "      <td>1.0</td>\n",
       "      <td>19.2</td>\n",
       "      <td>1.2</td>\n",
       "      <td>.</td>\n",
       "      <td>Female</td>\n",
       "      <td>Black or African American</td>\n",
       "    </tr>\n",
       "    <tr>\n",
       "      <th>109</th>\n",
       "      <td>Normal weight, overweight, and obesity among a...</td>\n",
       "      <td>Normal weight (BMI from 18.5 to 24.9)</td>\n",
       "      <td>1</td>\n",
       "      <td>Percent of population, age-adjusted</td>\n",
       "      <td>1</td>\n",
       "      <td>Sex and race and Hispanic origin</td>\n",
       "      <td>4</td>\n",
       "      <td>Male: Not Hispanic or Latino: Asian only</td>\n",
       "      <td>3.131</td>\n",
       "      <td>2015-2018</td>\n",
       "      <td>10</td>\n",
       "      <td>20 years and over</td>\n",
       "      <td>1.0</td>\n",
       "      <td>41.9</td>\n",
       "      <td>1.7</td>\n",
       "      <td>.</td>\n",
       "      <td>Male</td>\n",
       "      <td>Asian</td>\n",
       "    </tr>\n",
       "  </tbody>\n",
       "</table>\n",
       "</div>"
      ],
      "text/plain": [
       "                                             INDICATOR  \\\n",
       "49   Normal weight, overweight, and obesity among a...   \n",
       "59   Normal weight, overweight, and obesity among a...   \n",
       "79   Normal weight, overweight, and obesity among a...   \n",
       "89   Normal weight, overweight, and obesity among a...   \n",
       "109  Normal weight, overweight, and obesity among a...   \n",
       "\n",
       "                                     PANEL  PANEL_NUM  \\\n",
       "49   Normal weight (BMI from 18.5 to 24.9)          1   \n",
       "59   Normal weight (BMI from 18.5 to 24.9)          1   \n",
       "79   Normal weight (BMI from 18.5 to 24.9)          1   \n",
       "89   Normal weight (BMI from 18.5 to 24.9)          1   \n",
       "109  Normal weight (BMI from 18.5 to 24.9)          1   \n",
       "\n",
       "                                    UNIT  UNIT_NUM  \\\n",
       "49   Percent of population, age-adjusted         1   \n",
       "59   Percent of population, age-adjusted         1   \n",
       "79   Percent of population, age-adjusted         1   \n",
       "89   Percent of population, age-adjusted         1   \n",
       "109  Percent of population, age-adjusted         1   \n",
       "\n",
       "                            STUB_NAME  STUB_NAME_NUM  \\\n",
       "49   Sex and race and Hispanic origin              4   \n",
       "59   Sex and race and Hispanic origin              4   \n",
       "79   Sex and race and Hispanic origin              4   \n",
       "89   Sex and race and Hispanic origin              4   \n",
       "109  Sex and race and Hispanic origin              4   \n",
       "\n",
       "                                            STUB_LABEL  STUB_LABEL_NUM  \\\n",
       "49            Male: Not Hispanic or Latino: White only           3.111   \n",
       "59          Female: Not Hispanic or Latino: White only           3.112   \n",
       "79   Male: Not Hispanic or Latino: Black or African...           3.121   \n",
       "89   Female: Not Hispanic or Latino: Black or Afric...           3.122   \n",
       "109           Male: Not Hispanic or Latino: Asian only           3.131   \n",
       "\n",
       "          YEAR  YEAR_NUM                AGE  AGE_NUM  ESTIMATE   SE FLAG  \\\n",
       "49   2015-2018        10  20 years and over      1.0      23.4  1.4    .   \n",
       "59   2015-2018        10  20 years and over      1.0      31.9  1.7    .   \n",
       "79   2015-2018        10  20 years and over      1.0      26.4  1.7    .   \n",
       "89   2015-2018        10  20 years and over      1.0      19.2  1.2    .   \n",
       "109  2015-2018        10  20 years and over      1.0      41.9  1.7    .   \n",
       "\n",
       "     Gender                       Race  \n",
       "49     Male                      White  \n",
       "59   Female                      White  \n",
       "79     Male  Black or African American  \n",
       "89   Female  Black or African American  \n",
       "109    Male                      Asian  "
      ]
     },
     "execution_count": 14,
     "metadata": {},
     "output_type": "execute_result"
    }
   ],
   "source": [
    "obesity_adult = pd.read_csv(\"Normal_weight__overweight__and_obesity_among_adults_aged_20_and_over__by_selected_characteristics__United_States.csv\")\n",
    "panelDict, unitDict, stubNameDict, stubLabelDict, yearDict, ageDict = data1_helper.getMapping(obesity_adult)\n",
    "raceGender_df = data1_helper.cleanGenderRace(obesity_adult)\n",
    "age_df = data1_helper.cleanAge(obesity_adult)\n",
    "raceGender_df.head()"
   ]
  },
  {
   "cell_type": "markdown",
   "id": "a993f428-72d3-4bf3-8166-f1313a8e114e",
   "metadata": {},
   "source": [
    "**Data - Nutrition, Physical Activity, and Obesity**"
   ]
  },
  {
   "cell_type": "code",
   "execution_count": 15,
   "id": "8337a5be-8cb2-4662-98c4-8af78bb75045",
   "metadata": {},
   "outputs": [
    {
     "name": "stdout",
     "output_type": "stream",
     "text": [
      "(43274, 25)\n",
      "['YearStart', 'LocationAbbr', 'LocationDesc', 'Datasource', 'Class', 'Topic', 'Question', 'Data_Value_Type', 'Data_Value', 'Data_Value_Alt', 'Low_Confidence_Limit', 'High_Confidence_Limit ', 'Sample_Size', 'Total', 'Age(years)', 'Education', 'Gender', 'Income', 'Race/Ethnicity', 'GeoLocation', 'LocationID', 'StratificationCategory1', 'Stratification1', 'StratificationCategoryId1', 'StratificationID1']\n",
      "    YearStart LocationAbbr  LocationDesc  \\\n",
      "5        2015           GU          Guam   \n",
      "6        2012           WY       Wyoming   \n",
      "9        2011           AL       Alabama   \n",
      "11       2015           RI  Rhode Island   \n",
      "14       2020           DE      Delaware   \n",
      "\n",
      "                                    Datasource                    Class  \\\n",
      "5   Behavioral Risk Factor Surveillance System        Physical Activity   \n",
      "6   Behavioral Risk Factor Surveillance System  Obesity / Weight Status   \n",
      "9   Behavioral Risk Factor Surveillance System  Obesity / Weight Status   \n",
      "11  Behavioral Risk Factor Surveillance System  Obesity / Weight Status   \n",
      "14  Behavioral Risk Factor Surveillance System        Physical Activity   \n",
      "\n",
      "                           Topic  \\\n",
      "5   Physical Activity - Behavior   \n",
      "6        Obesity / Weight Status   \n",
      "9        Obesity / Weight Status   \n",
      "11       Obesity / Weight Status   \n",
      "14  Physical Activity - Behavior   \n",
      "\n",
      "                                             Question Data_Value_Type  \\\n",
      "5   Percent of adults who achieve at least 150 min...           Value   \n",
      "6   Percent of adults aged 18 years and older who ...           Value   \n",
      "9   Percent of adults aged 18 years and older who ...           Value   \n",
      "11  Percent of adults aged 18 years and older who ...           Value   \n",
      "14  Percent of adults who engage in no leisure-tim...           Value   \n",
      "\n",
      "    Data_Value  Data_Value_Alt  ...  Education        Gender        Income  \\\n",
      "5         27.4            27.4  ...        NaN  Missing Data  Missing Data   \n",
      "6         48.5            48.5  ...        NaN  Missing Data  Missing Data   \n",
      "9         35.2            35.2  ...        NaN  Missing Data  Missing Data   \n",
      "11        40.2            40.2  ...        NaN  Missing Data  Missing Data   \n",
      "14        15.3            15.3  ...        NaN  Missing Data  Missing Data   \n",
      "\n",
      "                   Race/Ethnicity                               GeoLocation  \\\n",
      "5                        Hispanic                   (13.444304, 144.793731)   \n",
      "6   American Indian/Alaska Native            (43.235541343, -108.109830353)   \n",
      "9                    Missing Data             (32.840571122, -86.631860762)   \n",
      "11                       Hispanic             (41.708280193, -71.522470314)   \n",
      "14                          Asian  (39.008830667000495, -75.57774116799965)   \n",
      "\n",
      "   LocationID StratificationCategory1                Stratification1  \\\n",
      "5          66          Race/Ethnicity                       Hispanic   \n",
      "6          56          Race/Ethnicity  American Indian/Alaska Native   \n",
      "9           1             Age (years)                        25 - 34   \n",
      "11         44          Race/Ethnicity                       Hispanic   \n",
      "14         10          Race/Ethnicity                          Asian   \n",
      "\n",
      "   StratificationCategoryId1 StratificationID1  \n",
      "5                       RACE           RACEHIS  \n",
      "6                       RACE           RACENAA  \n",
      "9                      AGEYR         AGEYR2534  \n",
      "11                      RACE           RACEHIS  \n",
      "14                      RACE           RACEASN  \n",
      "\n",
      "[5 rows x 25 columns]\n",
      "Final dataset shape: (43274, 25) (rows, columns)\n",
      "Total number of rows after cleaning: 43274\n"
     ]
    }
   ],
   "source": [
    "df = df.drop(['Data_Value_Unit', 'Data_Value_Footnote_Symbol', 'Data_Value_Footnote', 'DataValueTypeID', 'QuestionID', 'TopicID', 'ClassID'], axis=1)\n",
    "\n",
    "df = df.dropna(subset=['GeoLocation'])\n",
    "\n",
    "df = df.dropna(subset=['Data_Value'])\n",
    "\n",
    "df = df.dropna(subset=['Age(years)', 'Gender', 'Race/Ethnicity'], how='all')\n",
    "\n",
    "for column in ['Age(years)', 'Gender', 'Race/Ethnicity', 'Income']:\n",
    "    df[column] = df[column].fillna('Missing Data')\n",
    "\n",
    "year_comparison = (df['YearStart'] == df['YearEnd']).all()\n",
    "if year_comparison:\n",
    "    # Drop YearEnd if it's always the same as YearStart\n",
    "    df = df.drop('YearEnd', axis=1)\n",
    "\n",
    "print(df.shape)\n",
    "\n",
    "print(df.columns.tolist())\n",
    "\n",
    "print(df.head())\n",
    "\n",
    "print(f\"Final dataset shape: {df.shape} (rows, columns)\")\n",
    "\n",
    "print(f\"Total number of rows after cleaning: {df.shape[0]}\")"
   ]
  },
  {
   "cell_type": "markdown",
   "id": "755c6161-2f3c-4dd8-bd48-5bdb65e6d0f0",
   "metadata": {},
   "source": [
    "## Machine Learning Analysis\n",
    "**Linear Regression Model**\n",
    "\n",
    "**Question**: Based on the trend of the rate of obesity of adult in the US between 1988 and 2018, what will be the rate of obesity in the US in 2024?"
   ]
  },
  {
   "cell_type": "code",
   "execution_count": 16,
   "id": "2574edb1-342b-4316-9b30-fd5b9e8dceae",
   "metadata": {},
   "outputs": [],
   "source": [
    "from scipy import stats\n",
    "import sklearn.metrics as sm\n",
    "\n",
    "# prepare data for ML\n",
    "middleYearDict = data1_helper.getMiddleYear(yearDict)  \n",
    "generalObesity = data1_helper.getFilteredData(obesity_adult, 1, 3, 1, 1.1, middleYearDict)\n",
    "x = generalObesity[\"MiddleYear\"]\n",
    "y = generalObesity[\"ESTIMATE\"]"
   ]
  },
  {
   "cell_type": "code",
   "execution_count": 17,
   "id": "475ffd3d-a180-49a8-8c4d-c3f18d89c9d7",
   "metadata": {},
   "outputs": [
    {
     "name": "stdout",
     "output_type": "stream",
     "text": [
      "mean squared error:  22.442400000000003\n"
     ]
    }
   ],
   "source": [
    "# baseline ML model: mean\n",
    "baselineML = data1_helper.MeanModel()\n",
    "data1_helper.fitAndEvaluate(baselineML, x, y)"
   ]
  },
  {
   "cell_type": "code",
   "execution_count": 18,
   "id": "0875df65-e303-4551-8606-9be6b989baf0",
   "metadata": {},
   "outputs": [
    {
     "name": "stdout",
     "output_type": "stream",
     "text": [
      "mean squared error:  0.5901431713657087\n"
     ]
    }
   ],
   "source": [
    "# linear regression model\n",
    "linRegressML = data1_helper.LinearRegressionModel()\n",
    "data1_helper.fitAndEvaluate(linRegressML, x, y)"
   ]
  },
  {
   "cell_type": "code",
   "execution_count": 19,
   "id": "f9a968b4-66ee-4eeb-b3e2-4e3c85c01c6a",
   "metadata": {},
   "outputs": [
    {
     "data": {
      "image/png": "[encoded data removed]",
      "text/plain": [
       "<Figure size 640x480 with 1 Axes>"
      ]
     },
     "metadata": {},
     "output_type": "display_data"
    }
   ],
   "source": [
    "data1_helper.plotML(generalObesity, linRegressML, x) # plot data and best fit line"
   ]
  },
  {
   "cell_type": "markdown",
   "id": "f0d5c305-013c-48a9-a53a-ccb14eaa65ea",
   "metadata": {},
   "source": [
    "**Comment:** The linear regression outperforms the baseline model with mean squared error = 1. The model predicts that in 2024, 45.54% of the population in US are obese. The result is reasonable in the fact that the rate of obesity always increases according to our data and 2024 is close to this year range 1988-2018 so it is safe to predict based on this trend."
   ]
  },
  {
   "cell_type": "markdown",
   "id": "a3696848-687b-4c88-a492-9ea7c7f546b5",
   "metadata": {},
   "source": [
    "**Logistic Regression**"
   ]
  },
  {
   "cell_type": "code",
   "execution_count": 20,
   "id": "883601e5-60a2-43a9-ac33-792822422ea6",
   "metadata": {},
   "outputs": [
    {
     "name": "stdout",
     "output_type": "stream",
     "text": [
      "Accuracy: 0.80\n",
      "Confusion Matrix:\n",
      "[[1274   41]\n",
      " [ 304   76]]\n",
      "\n",
      "Sample Input 1:\n",
      "Age: 25 - 34\n",
      "Gender: Male\n",
      "Race/Ethnicity: Non-Hispanic White\n",
      "Predicted Inactivity: Active\n",
      "\n",
      "Sample Input 2:\n",
      "Age: 45 - 54\n",
      "Gender: Female\n",
      "Race/Ethnicity: Non-Hispanic Black\n",
      "Predicted Inactivity: Inactive\n",
      "\n",
      "Sample Input 3:\n",
      "Age: 65 or older\n",
      "Gender: Male\n",
      "Race/Ethnicity: Hispanic\n",
      "Predicted Inactivity: Inactive\n",
      "\n",
      "Baseline Accuracy: 0.22418879056047197\n",
      "Baseline Confusion Matrix:\n",
      "[[   0 1315]\n",
      " [   0  380]]\n",
      "\n",
      "Logistic Regression Accuracy: 0.7964601769911505\n",
      "Logistic Regression Confusion Matrix:\n",
      "[[1274   41]\n",
      " [ 304   76]]\n"
     ]
    }
   ],
   "source": [
    "# Train the model\n",
    "lr_model, X_test, y_test = train_model(df)\n",
    "# Evaluate the model\n",
    "evaluate_model(lr_model, X_test, y_test)\n",
    "# Create sample inputs for different types of individuals\n",
    "sample_inputs = [\n",
    "    {\"Age(years)\": \"25 - 34\", \"Gender\": \"Male\", \"Race/Ethnicity\": \"Non-Hispanic White\"},\n",
    "    {\"Age(years)\": \"45 - 54\", \"Gender\": \"Female\", \"Race/Ethnicity\": \"Non-Hispanic Black\"},\n",
    "    {\"Age(years)\": \"65 or older\", \"Gender\": \"Male\", \"Race/Ethnicity\": \"Hispanic\"},\n",
    "]\n",
    "# Predict inactivity for sample inputs\n",
    "predict_inactivity(lr_model, sample_inputs)\n",
    "# Evaluate the baseline model\n",
    "y_pred = lr_model.predict(X_test)\n",
    "baseline_model(y_test, y_pred)"
   ]
  },
  {
   "cell_type": "code",
   "execution_count": 1,
   "id": "3ef0c4a5",
   "metadata": {},
   "outputs": [],
   "source": [
    "# Testing the Logistic Regression ML - confusion matrix plot"
   ]
  },
  {
   "cell_type": "code",
   "execution_count": null,
   "id": "ee758c67",
   "metadata": {},
   "outputs": [],
   "source": [
    "# Create a DataFrame for plotting\n",
    "plot_data = pd.DataFrame({'Actual': y_test, 'Predicted': y_pred})\n",
    "# Create a confusion matrix plot\n",
    "plt.figure(figsize=(8, 6))\n",
    "sns.heatmap(confusion_mat, annot=True, cmap='Blues', fmt='d', cbar=False,\n",
    "            xticklabels=['Active', 'Inactive'], yticklabels=['Active', 'Inactive'])\n",
    "plt.xlabel('Predicted')\n",
    "plt.ylabel('Actual')\n",
    "plt.title('Confusion Matrix')\n",
    "plt.tight_layout()\n",
    "plt.show()"
   ]
  },
  {
   "cell_type": "code",
   "execution_count": null,
   "id": "b7f846e7",
   "metadata": {},
   "outputs": [],
   "source": [
    "# Logistic Regression ML - Visulazation Plot"
   ]
  },
  {
   "cell_type": "code",
   "execution_count": null,
   "id": "b2fcf2ad",
   "metadata": {},
   "outputs": [],
   "source": [
    "race_activity = activity_df.groupby('Race/Ethnicity')['Inactive'].mean()\n",
    "\n",
    "# Create a bar plot\n",
    "plt.figure(figsize=(10, 6))\n",
    "sns.barplot(x=race_activity.index, y=race_activity.values)\n",
    "plt.xlabel('Race/Ethnicity')\n",
    "plt.ylabel('Inactivity Percentage')\n",
    "plt.title('Inactivity Percentage by Race/Ethnicity')\n",
    "plt.xticks(rotation=45)\n",
    "plt.tight_layout()\n",
    "plt.show()"
   ]
  },
  {
   "cell_type": "markdown",
   "id": "a8662970-056b-44a4-b11b-d716abeb2869",
   "metadata": {},
   "source": [
    "## Visualizations + Additional Visualization\n",
    "**Wealthy adults in 2018 are more likely to be obese than Low-Income Adults in 1988**"
   ]
  },
  {
   "cell_type": "code",
   "execution_count": 33,
   "id": "2519fd6e-9c25-41af-9fb8-bbcf6fece045",
   "metadata": {},
   "outputs": [
    {
     "data": {
      "image/png": "[encoded data removed]",
      "text/plain": [
       "<Figure size 1600x350 with 2 Axes>"
      ]
     },
     "metadata": {},
     "output_type": "display_data"
    }
   ],
   "source": [
    "poverty_visual(obesity_adult)"
   ]
  },
  {
   "cell_type": "markdown",
   "id": "4a93b8fd-b56a-429f-b9dd-e0846f6a1468",
   "metadata": {},
   "source": [
    "**Hispanic individuals aged 2-19 have the highest obesity rate from 1988-2018**"
   ]
  },
  {
   "cell_type": "code",
   "execution_count": 34,
   "id": "f1d99292-373b-43b8-9a9c-d68689722e31",
   "metadata": {},
   "outputs": [
    {
     "name": "stderr",
     "output_type": "stream",
     "text": [
      "/Users/omgor/CS Projects/CS418/group-project-mind-masters/obesity_children.py:61: SettingWithCopyWarning:\n",
      "\n",
      "\n",
      "A value is trying to be set on a copy of a slice from a DataFrame\n",
      "\n",
      "See the caveats in the documentation: https://pandas.pydata.org/pandas-docs/stable/user_guide/indexing.html#returning-a-view-versus-a-copy\n",
      "\n"
     ]
    },
    {
     "data": {
      "application/vnd.plotly.v1+json": {
       "config": {
        "plotlyServerURL": "https://plot.ly"
       },
       "data": [
        {
         "hovertemplate": "RACE=Not Hispanic or Latino: White only<br>YEAR=%{x}<br>ESTIMATE=%{y}<extra></extra>",
         "legendgroup": "Not Hispanic or Latino: White only",
         "line": {
          "color": "#636efa",
          "dash": "solid",
          "width": 2.75
         },
         "marker": {
          "symbol": "circle"
         },
         "mode": "lines",
         "name": "Not Hispanic or Latino: White only",
         "orientation": "v",
         "showlegend": true,
         "type": "scatter",
         "x": [
          "1988-1994",
          "1999-2002",
          "2001-2004",
          "2003-2006",
          "2005-2008",
          "2007-2010",
          "2009-2012",
          "2011-2014",
          "2013-2016",
          "2015-2018"
         ],
         "xaxis": "x",
         "y": [
          9.2,
          12.6,
          15.1,
          14.7,
          14.1,
          14.6,
          14,
          14.7,
          14.7,
          15.1
         ],
         "yaxis": "y"
        },
        {
         "hovertemplate": "RACE=Not Hispanic or Latino: Black or African American only<br>YEAR=%{x}<br>ESTIMATE=%{y}<extra></extra>",
         "legendgroup": "Not Hispanic or Latino: Black or African American only",
         "line": {
          "color": "#EF553B",
          "dash": "solid",
          "width": 2.75
         },
         "marker": {
          "symbol": "circle"
         },
         "mode": "lines",
         "name": "Not Hispanic or Latino: Black or African American only",
         "orientation": "v",
         "showlegend": true,
         "type": "scatter",
         "x": [
          "1988-1994",
          "1999-2002",
          "2001-2004",
          "2003-2006",
          "2005-2008",
          "2007-2010",
          "2009-2012",
          "2011-2014",
          "2013-2016",
          "2015-2018"
         ],
         "xaxis": "x",
         "y": [
          12.5,
          18.2,
          18.8,
          20.7,
          20.7,
          22.1,
          22.1,
          19.5,
          20.4,
          23.1
         ],
         "yaxis": "y"
        },
        {
         "hovertemplate": "RACE=Not Hispanic or Latino: Asian only<br>YEAR=%{x}<br>ESTIMATE=%{y}<extra></extra>",
         "legendgroup": "Not Hispanic or Latino: Asian only",
         "line": {
          "color": "#00cc96",
          "dash": "solid",
          "width": 2.75
         },
         "marker": {
          "symbol": "circle"
         },
         "mode": "lines",
         "name": "Not Hispanic or Latino: Asian only",
         "orientation": "v",
         "showlegend": true,
         "type": "scatter",
         "x": [
          "1988-1994",
          "1999-2002",
          "2001-2004",
          "2003-2006",
          "2005-2008",
          "2007-2010",
          "2009-2012",
          "2011-2014",
          "2013-2016",
          "2015-2018"
         ],
         "xaxis": "x",
         "y": [
          null,
          null,
          null,
          null,
          null,
          null,
          null,
          8.6,
          9.8,
          9.8
         ],
         "yaxis": "y"
        },
        {
         "hovertemplate": "RACE=Hispanic or Latino: All races<br>YEAR=%{x}<br>ESTIMATE=%{y}<extra></extra>",
         "legendgroup": "Hispanic or Latino: All races",
         "line": {
          "color": "#ab63fa",
          "dash": "solid",
          "width": 2.75
         },
         "marker": {
          "symbol": "circle"
         },
         "mode": "lines",
         "name": "Hispanic or Latino: All races",
         "orientation": "v",
         "showlegend": true,
         "type": "scatter",
         "x": [
          "1988-1994",
          "1999-2002",
          "2001-2004",
          "2003-2006",
          "2005-2008",
          "2007-2010",
          "2009-2012",
          "2011-2014",
          "2013-2016",
          "2015-2018"
         ],
         "xaxis": "x",
         "y": [
          null,
          null,
          null,
          null,
          null,
          21.1,
          21.8,
          21.9,
          23.6,
          25.7
         ],
         "yaxis": "y"
        },
        {
         "hovertemplate": "RACE=Hispanic or Latino: Mexican: All races<br>YEAR=%{x}<br>ESTIMATE=%{y}<extra></extra>",
         "legendgroup": "Hispanic or Latino: Mexican: All races",
         "line": {
          "color": "#FFA15A",
          "dash": "solid",
          "width": 2.75
         },
         "marker": {
          "symbol": "circle"
         },
         "mode": "lines",
         "name": "Hispanic or Latino: Mexican: All races",
         "orientation": "v",
         "showlegend": true,
         "type": "scatter",
         "x": [
          "1988-1994",
          "1999-2002",
          "2001-2004",
          "2003-2006",
          "2005-2008",
          "2007-2010",
          "2009-2012",
          "2011-2014",
          "2013-2016",
          "2015-2018"
         ],
         "xaxis": "x",
         "y": [
          14.3,
          20,
          19.4,
          20.9,
          21.7,
          21,
          21.9,
          22.2,
          24.2,
          26.9
         ],
         "yaxis": "y"
        }
       ],
       "layout": {
        "autosize": true,
        "legend": {
         "title": {
          "text": "RACE"
         },
         "tracegroupgap": 0
        },
        "template": {
         "data": {
          "bar": [
           {
            "error_x": {
             "color": "#2a3f5f"
            },
            "error_y": {
             "color": "#2a3f5f"
            },
            "marker": {
             "line": {
              "color": "#E5ECF6",
              "width": 0.5
             },
             "pattern": {
              "fillmode": "overlay",
              "size": 10,
              "solidity": 0.2
             }
            },
            "type": "bar"
           }
          ],
          "barpolar": [
           {
            "marker": {
             "line": {
              "color": "#E5ECF6",
              "width": 0.5
             },
             "pattern": {
              "fillmode": "overlay",
              "size": 10,
              "solidity": 0.2
             }
            },
            "type": "barpolar"
           }
          ],
          "carpet": [
           {
            "aaxis": {
             "endlinecolor": "#2a3f5f",
             "gridcolor": "white",
             "linecolor": "white",
             "minorgridcolor": "white",
             "startlinecolor": "#2a3f5f"
            },
            "baxis": {
             "endlinecolor": "#2a3f5f",
             "gridcolor": "white",
             "linecolor": "white",
             "minorgridcolor": "white",
             "startlinecolor": "#2a3f5f"
            },
            "type": "carpet"
           }
          ],
          "choropleth": [
           {
            "colorbar": {
             "outlinewidth": 0,
             "ticks": ""
            },
            "type": "choropleth"
           }
          ],
          "contour": [
           {
            "colorbar": {
             "outlinewidth": 0,
             "ticks": ""
            },
            "colorscale": [
             [
              0,
              "#0d0887"
             ],
             [
              0.1111111111111111,
              "#46039f"
             ],
             [
              0.2222222222222222,
              "#7201a8"
             ],
             [
              0.3333333333333333,
              "#9c179e"
             ],
             [
              0.4444444444444444,
              "#bd3786"
             ],
             [
              0.5555555555555556,
              "#d8576b"
             ],
             [
              0.6666666666666666,
              "#ed7953"
             ],
             [
              0.7777777777777778,
              "#fb9f3a"
             ],
             [
              0.8888888888888888,
              "#fdca26"
             ],
             [
              1,
              "#f0f921"
             ]
            ],
            "type": "contour"
           }
          ],
          "contourcarpet": [
           {
            "colorbar": {
             "outlinewidth": 0,
             "ticks": ""
            },
            "type": "contourcarpet"
           }
          ],
          "heatmap": [
           {
            "colorbar": {
             "outlinewidth": 0,
             "ticks": ""
            },
            "colorscale": [
             [
              0,
              "#0d0887"
             ],
             [
              0.1111111111111111,
              "#46039f"
             ],
             [
              0.2222222222222222,
              "#7201a8"
             ],
             [
              0.3333333333333333,
              "#9c179e"
             ],
             [
              0.4444444444444444,
              "#bd3786"
             ],
             [
              0.5555555555555556,
              "#d8576b"
             ],
             [
              0.6666666666666666,
              "#ed7953"
             ],
             [
              0.7777777777777778,
              "#fb9f3a"
             ],
             [
              0.8888888888888888,
              "#fdca26"
             ],
             [
              1,
              "#f0f921"
             ]
            ],
            "type": "heatmap"
           }
          ],
          "heatmapgl": [
           {
            "colorbar": {
             "outlinewidth": 0,
             "ticks": ""
            },
            "colorscale": [
             [
              0,
              "#0d0887"
             ],
             [
              0.1111111111111111,
              "#46039f"
             ],
             [
              0.2222222222222222,
              "#7201a8"
             ],
             [
              0.3333333333333333,
              "#9c179e"
             ],
             [
              0.4444444444444444,
              "#bd3786"
             ],
             [
              0.5555555555555556,
              "#d8576b"
             ],
             [
              0.6666666666666666,
              "#ed7953"
             ],
             [
              0.7777777777777778,
              "#fb9f3a"
             ],
             [
              0.8888888888888888,
              "#fdca26"
             ],
             [
              1,
              "#f0f921"
             ]
            ],
            "type": "heatmapgl"
           }
          ],
          "histogram": [
           {
            "marker": {
             "pattern": {
              "fillmode": "overlay",
              "size": 10,
              "solidity": 0.2
             }
            },
            "type": "histogram"
           }
          ],
          "histogram2d": [
           {
            "colorbar": {
             "outlinewidth": 0,
             "ticks": ""
            },
            "colorscale": [
             [
              0,
              "#0d0887"
             ],
             [
              0.1111111111111111,
              "#46039f"
             ],
             [
              0.2222222222222222,
              "#7201a8"
             ],
             [
              0.3333333333333333,
              "#9c179e"
             ],
             [
              0.4444444444444444,
              "#bd3786"
             ],
             [
              0.5555555555555556,
              "#d8576b"
             ],
             [
              0.6666666666666666,
              "#ed7953"
             ],
             [
              0.7777777777777778,
              "#fb9f3a"
             ],
             [
              0.8888888888888888,
              "#fdca26"
             ],
             [
              1,
              "#f0f921"
             ]
            ],
            "type": "histogram2d"
           }
          ],
          "histogram2dcontour": [
           {
            "colorbar": {
             "outlinewidth": 0,
             "ticks": ""
            },
            "colorscale": [
             [
              0,
              "#0d0887"
             ],
             [
              0.1111111111111111,
              "#46039f"
             ],
             [
              0.2222222222222222,
              "#7201a8"
             ],
             [
              0.3333333333333333,
              "#9c179e"
             ],
             [
              0.4444444444444444,
              "#bd3786"
             ],
             [
              0.5555555555555556,
              "#d8576b"
             ],
             [
              0.6666666666666666,
              "#ed7953"
             ],
             [
              0.7777777777777778,
              "#fb9f3a"
             ],
             [
              0.8888888888888888,
              "#fdca26"
             ],
             [
              1,
              "#f0f921"
             ]
            ],
            "type": "histogram2dcontour"
           }
          ],
          "mesh3d": [
           {
            "colorbar": {
             "outlinewidth": 0,
             "ticks": ""
            },
            "type": "mesh3d"
           }
          ],
          "parcoords": [
           {
            "line": {
             "colorbar": {
              "outlinewidth": 0,
              "ticks": ""
             }
            },
            "type": "parcoords"
           }
          ],
          "pie": [
           {
            "automargin": true,
            "type": "pie"
           }
          ],
          "scatter": [
           {
            "fillpattern": {
             "fillmode": "overlay",
             "size": 10,
             "solidity": 0.2
            },
            "type": "scatter"
           }
          ],
          "scatter3d": [
           {
            "line": {
             "colorbar": {
              "outlinewidth": 0,
              "ticks": ""
             }
            },
            "marker": {
             "colorbar": {
              "outlinewidth": 0,
              "ticks": ""
             }
            },
            "type": "scatter3d"
           }
          ],
          "scattercarpet": [
           {
            "marker": {
             "colorbar": {
              "outlinewidth": 0,
              "ticks": ""
             }
            },
            "type": "scattercarpet"
           }
          ],
          "scattergeo": [
           {
            "marker": {
             "colorbar": {
              "outlinewidth": 0,
              "ticks": ""
             }
            },
            "type": "scattergeo"
           }
          ],
          "scattergl": [
           {
            "marker": {
             "colorbar": {
              "outlinewidth": 0,
              "ticks": ""
             }
            },
            "type": "scattergl"
           }
          ],
          "scattermapbox": [
           {
            "marker": {
             "colorbar": {
              "outlinewidth": 0,
              "ticks": ""
             }
            },
            "type": "scattermapbox"
           }
          ],
          "scatterpolar": [
           {
            "marker": {
             "colorbar": {
              "outlinewidth": 0,
              "ticks": ""
             }
            },
            "type": "scatterpolar"
           }
          ],
          "scatterpolargl": [
           {
            "marker": {
             "colorbar": {
              "outlinewidth": 0,
              "ticks": ""
             }
            },
            "type": "scatterpolargl"
           }
          ],
          "scatterternary": [
           {
            "marker": {
             "colorbar": {
              "outlinewidth": 0,
              "ticks": ""
             }
            },
            "type": "scatterternary"
           }
          ],
          "surface": [
           {
            "colorbar": {
             "outlinewidth": 0,
             "ticks": ""
            },
            "colorscale": [
             [
              0,
              "#0d0887"
             ],
             [
              0.1111111111111111,
              "#46039f"
             ],
             [
              0.2222222222222222,
              "#7201a8"
             ],
             [
              0.3333333333333333,
              "#9c179e"
             ],
             [
              0.4444444444444444,
              "#bd3786"
             ],
             [
              0.5555555555555556,
              "#d8576b"
             ],
             [
              0.6666666666666666,
              "#ed7953"
             ],
             [
              0.7777777777777778,
              "#fb9f3a"
             ],
             [
              0.8888888888888888,
              "#fdca26"
             ],
             [
              1,
              "#f0f921"
             ]
            ],
            "type": "surface"
           }
          ],
          "table": [
           {
            "cells": {
             "fill": {
              "color": "#EBF0F8"
             },
             "line": {
              "color": "white"
             }
            },
            "header": {
             "fill": {
              "color": "#C8D4E3"
             },
             "line": {
              "color": "white"
             }
            },
            "type": "table"
           }
          ]
         },
         "layout": {
          "annotationdefaults": {
           "arrowcolor": "#2a3f5f",
           "arrowhead": 0,
           "arrowwidth": 1
          },
          "autotypenumbers": "strict",
          "coloraxis": {
           "colorbar": {
            "outlinewidth": 0,
            "ticks": ""
           }
          },
          "colorscale": {
           "diverging": [
            [
             0,
             "#8e0152"
            ],
            [
             0.1,
             "#c51b7d"
            ],
            [
             0.2,
             "#de77ae"
            ],
            [
             0.3,
             "#f1b6da"
            ],
            [
             0.4,
             "#fde0ef"
            ],
            [
             0.5,
             "#f7f7f7"
            ],
            [
             0.6,
             "#e6f5d0"
            ],
            [
             0.7,
             "#b8e186"
            ],
            [
             0.8,
             "#7fbc41"
            ],
            [
             0.9,
             "#4d9221"
            ],
            [
             1,
             "#276419"
            ]
           ],
           "sequential": [
            [
             0,
             "#0d0887"
            ],
            [
             0.1111111111111111,
             "#46039f"
            ],
            [
             0.2222222222222222,
             "#7201a8"
            ],
            [
             0.3333333333333333,
             "#9c179e"
            ],
            [
             0.4444444444444444,
             "#bd3786"
            ],
            [
             0.5555555555555556,
             "#d8576b"
            ],
            [
             0.6666666666666666,
             "#ed7953"
            ],
            [
             0.7777777777777778,
             "#fb9f3a"
            ],
            [
             0.8888888888888888,
             "#fdca26"
            ],
            [
             1,
             "#f0f921"
            ]
           ],
           "sequentialminus": [
            [
             0,
             "#0d0887"
            ],
            [
             0.1111111111111111,
             "#46039f"
            ],
            [
             0.2222222222222222,
             "#7201a8"
            ],
            [
             0.3333333333333333,
             "#9c179e"
            ],
            [
             0.4444444444444444,
             "#bd3786"
            ],
            [
             0.5555555555555556,
             "#d8576b"
            ],
            [
             0.6666666666666666,
             "#ed7953"
            ],
            [
             0.7777777777777778,
             "#fb9f3a"
            ],
            [
             0.8888888888888888,
             "#fdca26"
            ],
            [
             1,
             "#f0f921"
            ]
           ]
          },
          "colorway": [
           "#636efa",
           "#EF553B",
           "#00cc96",
           "#ab63fa",
           "#FFA15A",
           "#19d3f3",
           "#FF6692",
           "#B6E880",
           "#FF97FF",
           "#FECB52"
          ],
          "font": {
           "color": "#2a3f5f"
          },
          "geo": {
           "bgcolor": "white",
           "lakecolor": "white",
           "landcolor": "#E5ECF6",
           "showlakes": true,
           "showland": true,
           "subunitcolor": "white"
          },
          "hoverlabel": {
           "align": "left"
          },
          "hovermode": "closest",
          "mapbox": {
           "style": "light"
          },
          "paper_bgcolor": "white",
          "plot_bgcolor": "#E5ECF6",
          "polar": {
           "angularaxis": {
            "gridcolor": "white",
            "linecolor": "white",
            "ticks": ""
           },
           "bgcolor": "#E5ECF6",
           "radialaxis": {
            "gridcolor": "white",
            "linecolor": "white",
            "ticks": ""
           }
          },
          "scene": {
           "xaxis": {
            "backgroundcolor": "#E5ECF6",
            "gridcolor": "white",
            "gridwidth": 2,
            "linecolor": "white",
            "showbackground": true,
            "ticks": "",
            "zerolinecolor": "white"
           },
           "yaxis": {
            "backgroundcolor": "#E5ECF6",
            "gridcolor": "white",
            "gridwidth": 2,
            "linecolor": "white",
            "showbackground": true,
            "ticks": "",
            "zerolinecolor": "white"
           },
           "zaxis": {
            "backgroundcolor": "#E5ECF6",
            "gridcolor": "white",
            "gridwidth": 2,
            "linecolor": "white",
            "showbackground": true,
            "ticks": "",
            "zerolinecolor": "white"
           }
          },
          "shapedefaults": {
           "line": {
            "color": "#2a3f5f"
           }
          },
          "ternary": {
           "aaxis": {
            "gridcolor": "white",
            "linecolor": "white",
            "ticks": ""
           },
           "baxis": {
            "gridcolor": "white",
            "linecolor": "white",
            "ticks": ""
           },
           "bgcolor": "#E5ECF6",
           "caxis": {
            "gridcolor": "white",
            "linecolor": "white",
            "ticks": ""
           }
          },
          "title": {
           "x": 0.05
          },
          "xaxis": {
           "automargin": true,
           "gridcolor": "white",
           "linecolor": "white",
           "ticks": "",
           "title": {
            "standoff": 15
           },
           "zerolinecolor": "white",
           "zerolinewidth": 2
          },
          "yaxis": {
           "automargin": true,
           "gridcolor": "white",
           "linecolor": "white",
           "ticks": "",
           "title": {
            "standoff": 15
           },
           "zerolinecolor": "white",
           "zerolinewidth": 2
          }
         }
        },
        "title": {
         "text": "Obesity Percentage Per Year Based On Race"
        },
        "xaxis": {
         "anchor": "y",
         "autorange": true,
         "domain": [
          0,
          1
         ],
         "range": [
          0,
          9
         ],
         "tickfont": {
          "size": 10
         },
         "title": {
          "text": "YEARS"
         },
         "type": "category"
        },
        "yaxis": {
         "anchor": "x",
         "autorange": true,
         "domain": [
          0,
          1
         ],
         "range": [
          7.583333333333333,
          27.916666666666664
         ],
         "title": {
          "text": "Obesity rate (%)"
         },
         "type": "linear"
        }
       }
      },
      "image/png": "[encoded data removed]",
      "text/html": [
       "<div>                            <div id=\"5fba87c0-c614-462d-85c9-4ec73618fa91\" class=\"plotly-graph-div\" style=\"height:525px; width:100%;\"></div>            <script type=\"text/javascript\">                require([\"plotly\"], function(Plotly) {                    window.PLOTLYENV=window.PLOTLYENV || {};                                    if (document.getElementById(\"5fba87c0-c614-462d-85c9-4ec73618fa91\")) {                    Plotly.newPlot(                        \"5fba87c0-c614-462d-85c9-4ec73618fa91\",                        [{\"hovertemplate\":\"RACE=Not Hispanic or Latino: White only<br>YEAR=%{x}<br>ESTIMATE=%{y}<extra></extra>\",\"legendgroup\":\"Not Hispanic or Latino: White only\",\"line\":{\"color\":\"#636efa\",\"dash\":\"solid\",\"width\":2.75},\"marker\":{\"symbol\":\"circle\"},\"mode\":\"lines\",\"name\":\"Not Hispanic or Latino: White only\",\"orientation\":\"v\",\"showlegend\":true,\"x\":[\"1988-1994\",\"1999-2002\",\"2001-2004\",\"2003-2006\",\"2005-2008\",\"2007-2010\",\"2009-2012\",\"2011-2014\",\"2013-2016\",\"2015-2018\"],\"xaxis\":\"x\",\"y\":[9.2,12.6,15.1,14.7,14.1,14.6,14.0,14.7,14.7,15.1],\"yaxis\":\"y\",\"type\":\"scatter\"},{\"hovertemplate\":\"RACE=Not Hispanic or Latino: Black or African American only<br>YEAR=%{x}<br>ESTIMATE=%{y}<extra></extra>\",\"legendgroup\":\"Not Hispanic or Latino: Black or African American only\",\"line\":{\"color\":\"#EF553B\",\"dash\":\"solid\",\"width\":2.75},\"marker\":{\"symbol\":\"circle\"},\"mode\":\"lines\",\"name\":\"Not Hispanic or Latino: Black or African American only\",\"orientation\":\"v\",\"showlegend\":true,\"x\":[\"1988-1994\",\"1999-2002\",\"2001-2004\",\"2003-2006\",\"2005-2008\",\"2007-2010\",\"2009-2012\",\"2011-2014\",\"2013-2016\",\"2015-2018\"],\"xaxis\":\"x\",\"y\":[12.5,18.2,18.8,20.7,20.7,22.1,22.1,19.5,20.4,23.1],\"yaxis\":\"y\",\"type\":\"scatter\"},{\"hovertemplate\":\"RACE=Not Hispanic or Latino: Asian only<br>YEAR=%{x}<br>ESTIMATE=%{y}<extra></extra>\",\"legendgroup\":\"Not Hispanic or Latino: Asian only\",\"line\":{\"color\":\"#00cc96\",\"dash\":\"solid\",\"width\":2.75},\"marker\":{\"symbol\":\"circle\"},\"mode\":\"lines\",\"name\":\"Not Hispanic or Latino: Asian only\",\"orientation\":\"v\",\"showlegend\":true,\"x\":[\"1988-1994\",\"1999-2002\",\"2001-2004\",\"2003-2006\",\"2005-2008\",\"2007-2010\",\"2009-2012\",\"2011-2014\",\"2013-2016\",\"2015-2018\"],\"xaxis\":\"x\",\"y\":[null,null,null,null,null,null,null,8.6,9.8,9.8],\"yaxis\":\"y\",\"type\":\"scatter\"},{\"hovertemplate\":\"RACE=Hispanic or Latino: All races<br>YEAR=%{x}<br>ESTIMATE=%{y}<extra></extra>\",\"legendgroup\":\"Hispanic or Latino: All races\",\"line\":{\"color\":\"#ab63fa\",\"dash\":\"solid\",\"width\":2.75},\"marker\":{\"symbol\":\"circle\"},\"mode\":\"lines\",\"name\":\"Hispanic or Latino: All races\",\"orientation\":\"v\",\"showlegend\":true,\"x\":[\"1988-1994\",\"1999-2002\",\"2001-2004\",\"2003-2006\",\"2005-2008\",\"2007-2010\",\"2009-2012\",\"2011-2014\",\"2013-2016\",\"2015-2018\"],\"xaxis\":\"x\",\"y\":[null,null,null,null,null,21.1,21.8,21.9,23.6,25.7],\"yaxis\":\"y\",\"type\":\"scatter\"},{\"hovertemplate\":\"RACE=Hispanic or Latino: Mexican: All races<br>YEAR=%{x}<br>ESTIMATE=%{y}<extra></extra>\",\"legendgroup\":\"Hispanic or Latino: Mexican: All races\",\"line\":{\"color\":\"#FFA15A\",\"dash\":\"solid\",\"width\":2.75},\"marker\":{\"symbol\":\"circle\"},\"mode\":\"lines\",\"name\":\"Hispanic or Latino: Mexican: All races\",\"orientation\":\"v\",\"showlegend\":true,\"x\":[\"1988-1994\",\"1999-2002\",\"2001-2004\",\"2003-2006\",\"2005-2008\",\"2007-2010\",\"2009-2012\",\"2011-2014\",\"2013-2016\",\"2015-2018\"],\"xaxis\":\"x\",\"y\":[14.3,20.0,19.4,20.9,21.7,21.0,21.9,22.2,24.2,26.9],\"yaxis\":\"y\",\"type\":\"scatter\"}],                        {\"template\":{\"data\":{\"histogram2dcontour\":[{\"type\":\"histogram2dcontour\",\"colorbar\":{\"outlinewidth\":0,\"ticks\":\"\"},\"colorscale\":[[0.0,\"#0d0887\"],[0.1111111111111111,\"#46039f\"],[0.2222222222222222,\"#7201a8\"],[0.3333333333333333,\"#9c179e\"],[0.4444444444444444,\"#bd3786\"],[0.5555555555555556,\"#d8576b\"],[0.6666666666666666,\"#ed7953\"],[0.7777777777777778,\"#fb9f3a\"],[0.8888888888888888,\"#fdca26\"],[1.0,\"#f0f921\"]]}],\"choropleth\":[{\"type\":\"choropleth\",\"colorbar\":{\"outlinewidth\":0,\"ticks\":\"\"}}],\"histogram2d\":[{\"type\":\"histogram2d\",\"colorbar\":{\"outlinewidth\":0,\"ticks\":\"\"},\"colorscale\":[[0.0,\"#0d0887\"],[0.1111111111111111,\"#46039f\"],[0.2222222222222222,\"#7201a8\"],[0.3333333333333333,\"#9c179e\"],[0.4444444444444444,\"#bd3786\"],[0.5555555555555556,\"#d8576b\"],[0.6666666666666666,\"#ed7953\"],[0.7777777777777778,\"#fb9f3a\"],[0.8888888888888888,\"#fdca26\"],[1.0,\"#f0f921\"]]}],\"heatmap\":[{\"type\":\"heatmap\",\"colorbar\":{\"outlinewidth\":0,\"ticks\":\"\"},\"colorscale\":[[0.0,\"#0d0887\"],[0.1111111111111111,\"#46039f\"],[0.2222222222222222,\"#7201a8\"],[0.3333333333333333,\"#9c179e\"],[0.4444444444444444,\"#bd3786\"],[0.5555555555555556,\"#d8576b\"],[0.6666666666666666,\"#ed7953\"],[0.7777777777777778,\"#fb9f3a\"],[0.8888888888888888,\"#fdca26\"],[1.0,\"#f0f921\"]]}],\"heatmapgl\":[{\"type\":\"heatmapgl\",\"colorbar\":{\"outlinewidth\":0,\"ticks\":\"\"},\"colorscale\":[[0.0,\"#0d0887\"],[0.1111111111111111,\"#46039f\"],[0.2222222222222222,\"#7201a8\"],[0.3333333333333333,\"#9c179e\"],[0.4444444444444444,\"#bd3786\"],[0.5555555555555556,\"#d8576b\"],[0.6666666666666666,\"#ed7953\"],[0.7777777777777778,\"#fb9f3a\"],[0.8888888888888888,\"#fdca26\"],[1.0,\"#f0f921\"]]}],\"contourcarpet\":[{\"type\":\"contourcarpet\",\"colorbar\":{\"outlinewidth\":0,\"ticks\":\"\"}}],\"contour\":[{\"type\":\"contour\",\"colorbar\":{\"outlinewidth\":0,\"ticks\":\"\"},\"colorscale\":[[0.0,\"#0d0887\"],[0.1111111111111111,\"#46039f\"],[0.2222222222222222,\"#7201a8\"],[0.3333333333333333,\"#9c179e\"],[0.4444444444444444,\"#bd3786\"],[0.5555555555555556,\"#d8576b\"],[0.6666666666666666,\"#ed7953\"],[0.7777777777777778,\"#fb9f3a\"],[0.8888888888888888,\"#fdca26\"],[1.0,\"#f0f921\"]]}],\"surface\":[{\"type\":\"surface\",\"colorbar\":{\"outlinewidth\":0,\"ticks\":\"\"},\"colorscale\":[[0.0,\"#0d0887\"],[0.1111111111111111,\"#46039f\"],[0.2222222222222222,\"#7201a8\"],[0.3333333333333333,\"#9c179e\"],[0.4444444444444444,\"#bd3786\"],[0.5555555555555556,\"#d8576b\"],[0.6666666666666666,\"#ed7953\"],[0.7777777777777778,\"#fb9f3a\"],[0.8888888888888888,\"#fdca26\"],[1.0,\"#f0f921\"]]}],\"mesh3d\":[{\"type\":\"mesh3d\",\"colorbar\":{\"outlinewidth\":0,\"ticks\":\"\"}}],\"scatter\":[{\"fillpattern\":{\"fillmode\":\"overlay\",\"size\":10,\"solidity\":0.2},\"type\":\"scatter\"}],\"parcoords\":[{\"type\":\"parcoords\",\"line\":{\"colorbar\":{\"outlinewidth\":0,\"ticks\":\"\"}}}],\"scatterpolargl\":[{\"type\":\"scatterpolargl\",\"marker\":{\"colorbar\":{\"outlinewidth\":0,\"ticks\":\"\"}}}],\"bar\":[{\"error_x\":{\"color\":\"#2a3f5f\"},\"error_y\":{\"color\":\"#2a3f5f\"},\"marker\":{\"line\":{\"color\":\"#E5ECF6\",\"width\":0.5},\"pattern\":{\"fillmode\":\"overlay\",\"size\":10,\"solidity\":0.2}},\"type\":\"bar\"}],\"scattergeo\":[{\"type\":\"scattergeo\",\"marker\":{\"colorbar\":{\"outlinewidth\":0,\"ticks\":\"\"}}}],\"scatterpolar\":[{\"type\":\"scatterpolar\",\"marker\":{\"colorbar\":{\"outlinewidth\":0,\"ticks\":\"\"}}}],\"histogram\":[{\"marker\":{\"pattern\":{\"fillmode\":\"overlay\",\"size\":10,\"solidity\":0.2}},\"type\":\"histogram\"}],\"scattergl\":[{\"type\":\"scattergl\",\"marker\":{\"colorbar\":{\"outlinewidth\":0,\"ticks\":\"\"}}}],\"scatter3d\":[{\"type\":\"scatter3d\",\"line\":{\"colorbar\":{\"outlinewidth\":0,\"ticks\":\"\"}},\"marker\":{\"colorbar\":{\"outlinewidth\":0,\"ticks\":\"\"}}}],\"scattermapbox\":[{\"type\":\"scattermapbox\",\"marker\":{\"colorbar\":{\"outlinewidth\":0,\"ticks\":\"\"}}}],\"scatterternary\":[{\"type\":\"scatterternary\",\"marker\":{\"colorbar\":{\"outlinewidth\":0,\"ticks\":\"\"}}}],\"scattercarpet\":[{\"type\":\"scattercarpet\",\"marker\":{\"colorbar\":{\"outlinewidth\":0,\"ticks\":\"\"}}}],\"carpet\":[{\"aaxis\":{\"endlinecolor\":\"#2a3f5f\",\"gridcolor\":\"white\",\"linecolor\":\"white\",\"minorgridcolor\":\"white\",\"startlinecolor\":\"#2a3f5f\"},\"baxis\":{\"endlinecolor\":\"#2a3f5f\",\"gridcolor\":\"white\",\"linecolor\":\"white\",\"minorgridcolor\":\"white\",\"startlinecolor\":\"#2a3f5f\"},\"type\":\"carpet\"}],\"table\":[{\"cells\":{\"fill\":{\"color\":\"#EBF0F8\"},\"line\":{\"color\":\"white\"}},\"header\":{\"fill\":{\"color\":\"#C8D4E3\"},\"line\":{\"color\":\"white\"}},\"type\":\"table\"}],\"barpolar\":[{\"marker\":{\"line\":{\"color\":\"#E5ECF6\",\"width\":0.5},\"pattern\":{\"fillmode\":\"overlay\",\"size\":10,\"solidity\":0.2}},\"type\":\"barpolar\"}],\"pie\":[{\"automargin\":true,\"type\":\"pie\"}]},\"layout\":{\"autotypenumbers\":\"strict\",\"colorway\":[\"#636efa\",\"#EF553B\",\"#00cc96\",\"#ab63fa\",\"#FFA15A\",\"#19d3f3\",\"#FF6692\",\"#B6E880\",\"#FF97FF\",\"#FECB52\"],\"font\":{\"color\":\"#2a3f5f\"},\"hovermode\":\"closest\",\"hoverlabel\":{\"align\":\"left\"},\"paper_bgcolor\":\"white\",\"plot_bgcolor\":\"#E5ECF6\",\"polar\":{\"bgcolor\":\"#E5ECF6\",\"angularaxis\":{\"gridcolor\":\"white\",\"linecolor\":\"white\",\"ticks\":\"\"},\"radialaxis\":{\"gridcolor\":\"white\",\"linecolor\":\"white\",\"ticks\":\"\"}},\"ternary\":{\"bgcolor\":\"#E5ECF6\",\"aaxis\":{\"gridcolor\":\"white\",\"linecolor\":\"white\",\"ticks\":\"\"},\"baxis\":{\"gridcolor\":\"white\",\"linecolor\":\"white\",\"ticks\":\"\"},\"caxis\":{\"gridcolor\":\"white\",\"linecolor\":\"white\",\"ticks\":\"\"}},\"coloraxis\":{\"colorbar\":{\"outlinewidth\":0,\"ticks\":\"\"}},\"colorscale\":{\"sequential\":[[0.0,\"#0d0887\"],[0.1111111111111111,\"#46039f\"],[0.2222222222222222,\"#7201a8\"],[0.3333333333333333,\"#9c179e\"],[0.4444444444444444,\"#bd3786\"],[0.5555555555555556,\"#d8576b\"],[0.6666666666666666,\"#ed7953\"],[0.7777777777777778,\"#fb9f3a\"],[0.8888888888888888,\"#fdca26\"],[1.0,\"#f0f921\"]],\"sequentialminus\":[[0.0,\"#0d0887\"],[0.1111111111111111,\"#46039f\"],[0.2222222222222222,\"#7201a8\"],[0.3333333333333333,\"#9c179e\"],[0.4444444444444444,\"#bd3786\"],[0.5555555555555556,\"#d8576b\"],[0.6666666666666666,\"#ed7953\"],[0.7777777777777778,\"#fb9f3a\"],[0.8888888888888888,\"#fdca26\"],[1.0,\"#f0f921\"]],\"diverging\":[[0,\"#8e0152\"],[0.1,\"#c51b7d\"],[0.2,\"#de77ae\"],[0.3,\"#f1b6da\"],[0.4,\"#fde0ef\"],[0.5,\"#f7f7f7\"],[0.6,\"#e6f5d0\"],[0.7,\"#b8e186\"],[0.8,\"#7fbc41\"],[0.9,\"#4d9221\"],[1,\"#276419\"]]},\"xaxis\":{\"gridcolor\":\"white\",\"linecolor\":\"white\",\"ticks\":\"\",\"title\":{\"standoff\":15},\"zerolinecolor\":\"white\",\"automargin\":true,\"zerolinewidth\":2},\"yaxis\":{\"gridcolor\":\"white\",\"linecolor\":\"white\",\"ticks\":\"\",\"title\":{\"standoff\":15},\"zerolinecolor\":\"white\",\"automargin\":true,\"zerolinewidth\":2},\"scene\":{\"xaxis\":{\"backgroundcolor\":\"#E5ECF6\",\"gridcolor\":\"white\",\"linecolor\":\"white\",\"showbackground\":true,\"ticks\":\"\",\"zerolinecolor\":\"white\",\"gridwidth\":2},\"yaxis\":{\"backgroundcolor\":\"#E5ECF6\",\"gridcolor\":\"white\",\"linecolor\":\"white\",\"showbackground\":true,\"ticks\":\"\",\"zerolinecolor\":\"white\",\"gridwidth\":2},\"zaxis\":{\"backgroundcolor\":\"#E5ECF6\",\"gridcolor\":\"white\",\"linecolor\":\"white\",\"showbackground\":true,\"ticks\":\"\",\"zerolinecolor\":\"white\",\"gridwidth\":2}},\"shapedefaults\":{\"line\":{\"color\":\"#2a3f5f\"}},\"annotationdefaults\":{\"arrowcolor\":\"#2a3f5f\",\"arrowhead\":0,\"arrowwidth\":1},\"geo\":{\"bgcolor\":\"white\",\"landcolor\":\"#E5ECF6\",\"subunitcolor\":\"white\",\"showland\":true,\"showlakes\":true,\"lakecolor\":\"white\"},\"title\":{\"x\":0.05},\"mapbox\":{\"style\":\"light\"}}},\"xaxis\":{\"anchor\":\"y\",\"domain\":[0.0,1.0],\"title\":{\"text\":\"YEARS\"},\"tickfont\":{\"size\":10}},\"yaxis\":{\"anchor\":\"x\",\"domain\":[0.0,1.0],\"title\":{\"text\":\"Obesity rate (%)\"}},\"legend\":{\"title\":{\"text\":\"RACE\"},\"tracegroupgap\":0},\"title\":{\"text\":\"Obesity Percentage Per Year Based On Race\"}},                        {\"responsive\": true}                    ).then(function(){\n",
       "                            \n",
       "var gd = document.getElementById('5fba87c0-c614-462d-85c9-4ec73618fa91');\n",
       "var x = new MutationObserver(function (mutations, observer) {{\n",
       "        var display = window.getComputedStyle(gd).display;\n",
       "        if (!display || display === 'none') {{\n",
       "            console.log([gd, 'removed!']);\n",
       "            Plotly.purge(gd);\n",
       "            observer.disconnect();\n",
       "        }}\n",
       "}});\n",
       "\n",
       "// Listen for the removal of the full notebook cells\n",
       "var notebookContainer = gd.closest('#notebook-container');\n",
       "if (notebookContainer) {{\n",
       "    x.observe(notebookContainer, {childList: true});\n",
       "}}\n",
       "\n",
       "// Listen for the clearing of the current output cell\n",
       "var outputEl = gd.closest('.output');\n",
       "if (outputEl) {{\n",
       "    x.observe(outputEl, {childList: true});\n",
       "}}\n",
       "\n",
       "                        })                };                });            </script>        </div>"
      ]
     },
     "metadata": {},
     "output_type": "display_data"
    }
   ],
   "source": [
    "obesity_Visual2(race_his_obesity)"
   ]
  },
  {
   "cell_type": "markdown",
   "id": "b1c34bf5-c5df-47e8-9a5a-182ddd470c2c",
   "metadata": {},
   "source": [
    "**Asians have less obesity rate than people of other races in all levels of Obesity**\n"
   ]
  },
  {
   "cell_type": "code",
   "execution_count": 4,
   "id": "95232521-de40-4518-b7bf-27a7cd7ee677",
   "metadata": {},
   "outputs": [
    {
     "data": {
      "image/png": "[encoded data removed]",
      "text/plain": [
       "<Figure size 1300x400 with 3 Axes>"
      ]
     },
     "metadata": {},
     "output_type": "display_data"
    }
   ],
   "source": [
    "data1_helper.obesityRaceVsObesity(raceGender_df)"
   ]
  },
  {
   "cell_type": "markdown",
   "id": "c4fcb9c1-01c1-482b-b54a-65e24da960c4",
   "metadata": {},
   "source": [
    "**Description:** We created this visualization to test the hypothesis that Asians have a lower obesity rate than other races, the visualization shows that Asians have a lower obesity level than other races in all 3 different types of obesity:\n",
    "\n",
    "Obesity grade 1: 10% asians have grade 1 obesity and other races average is around 20%;\n",
    "\n",
    "Obesity grade 2: 4% of Asians have grade 2 obesity and other races average is around 10%;\n",
    "\n",
    "Obesity grade 3: 1% of Asians have grade 3 obesity and other races average is around 9%"
   ]
  },
  {
   "cell_type": "markdown",
   "id": "6ad71da5-f6b6-4349-a7f9-5395b2b3f3ad",
   "metadata": {},
   "source": [
    "**Interactive Visualization**\n",
    "\n",
    "Directions on how to access interactive visualization in README."
   ]
  },
  {
   "cell_type": "code",
   "execution_count": 5,
   "id": "ff857826-360d-4b36-a2ef-dfda9557a748",
   "metadata": {},
   "outputs": [
    {
     "data": {
      "application/vnd.plotly.v1+json": {
       "config": {
        "plotlyServerURL": "https://plot.ly"
       },
       "data": [
        {
         "coloraxis": "coloraxis",
         "geo": "geo",
         "hovertemplate": "<b>%{hovertext}</b><br><br>LocationAbbr=%{location}<br>Obesity Rate=%{z}<extra></extra>",
         "hovertext": [
          "National",
          "National",
          "National",
          "Oklahoma",
          "Georgia",
          "Oklahoma",
          "Georgia",
          "Texas",
          "Nebraska",
          "National",
          "North Dakota",
          "New Mexico",
          "Virginia",
          "Utah",
          "New Mexico",
          "Kentucky",
          "Vermont",
          "Oregon",
          "Minnesota",
          "Louisiana",
          "Montana",
          "California",
          "Arkansas",
          "Michigan",
          "Wisconsin",
          "Maryland",
          "Texas",
          "Arizona",
          "Florida",
          "South Dakota",
          "Wisconsin",
          "South Carolina",
          "Indiana",
          "Alabama",
          "Maine",
          "Washington",
          "North Carolina",
          "Alaska",
          "Kansas",
          "New York",
          "Ohio",
          "National",
          "Colorado",
          "Missouri",
          "Maryland",
          "Texas",
          "Nebraska",
          "Wyoming",
          "National",
          "North Dakota",
          "Virginia",
          "Utah",
          "New Mexico",
          "Idaho",
          "Oregon",
          "Minnesota",
          "Montana",
          "Arkansas",
          "Arizona",
          "Florida",
          "South Dakota",
          "Wisconsin",
          "National",
          "Indiana",
          "Alabama",
          "Maine",
          "Washington",
          "North Carolina",
          "Alaska",
          "Kansas",
          "New York",
          "Ohio",
          "Colorado",
          "Missouri",
          "Maryland",
          "Maryland",
          "Michigan",
          "Ohio",
          "Alaska",
          "Virginia",
          "Utah",
          "New Jersey",
          "Oregon",
          "Virginia",
          "Alabama",
          "Maine",
          "North Dakota",
          "Mississippi",
          "Arkansas",
          "New Mexico",
          "Tennessee",
          "California",
          "Nevada",
          "Washington",
          "Georgia",
          "Minnesota",
          "Wisconsin",
          "Missouri",
          "South Carolina",
          "Wyoming",
          "Massachusetts",
          "Maine",
          "North Dakota",
          "Oregon",
          "Florida",
          "Arizona",
          "Utah",
          "South Dakota",
          "Texas",
          "Missouri",
          "Florida",
          "Arkansas",
          "Kansas",
          "Alabama",
          "Maryland",
          "Missouri",
          "Wisconsin",
          "South Dakota",
          "Ohio",
          "Connecticut",
          "Washington",
          "Texas",
          "New Mexico",
          "Wisconsin",
          "California",
          "California",
          "Minnesota",
          "Washington",
          "North Dakota",
          "Texas",
          "Alabama",
          "Wyoming",
          "Kansas",
          "Alaska",
          "New Mexico",
          "Alaska",
          "Montana",
          "Colorado",
          "Louisiana",
          "South Carolina",
          "Tennessee",
          "Nevada",
          "Wyoming",
          "Nebraska",
          "Pennsylvania",
          "Arizona",
          "National",
          "Oklahoma",
          "Montana",
          "Colorado",
          "Florida",
          "Kentucky",
          "New York",
          "Indiana",
          "Indiana",
          "Oklahoma",
          "North Carolina",
          "South Dakota",
          "Utah",
          "New Mexico",
          "Ohio",
          "Vermont",
          "Kansas",
          "Delaware",
          "Arizona",
          "Nebraska",
          "Texas",
          "Louisiana",
          "Maryland",
          "Vermont",
          "Michigan",
          "Wyoming",
          "Nebraska",
          "Minnesota",
          "New York",
          "Nebraska",
          "Virginia",
          "Arkansas",
          "Michigan",
          "Wyoming",
          "Idaho",
          "Wisconsin",
          "New Mexico",
          "North Dakota",
          "Kansas",
          "Montana",
          "Oregon",
          "Kentucky",
          "Ohio",
          "Maine",
          "Virginia",
          "Maine",
          "South Dakota",
          "Indiana",
          "Minnesota",
          "Texas",
          "Oklahoma",
          "Arizona",
          "Tennessee",
          "Louisiana",
          "National",
          "Montana",
          "California",
          "Florida",
          "New Jersey",
          "Oklahoma",
          "South Carolina",
          "Nebraska",
          "Ohio",
          "North Dakota",
          "Kansas",
          "Oklahoma",
          "South Carolina",
          "South Dakota",
          "North Carolina",
          "North Carolina",
          "Alabama",
          "Alaska",
          "South Carolina",
          "Alabama",
          "Maryland",
          "Michigan",
          "Colorado",
          "Utah",
          "Wyoming",
          "Missouri",
          "Colorado",
          "Kentucky",
          "Washington",
          "Washington",
          "Florida",
          "New Mexico",
          "Massachusetts",
          "New Mexico",
          "Maine",
          "Arkansas",
          "Maine",
          "Virginia",
          "California",
          "Alaska",
          "Idaho",
          "Alabama",
          "New York",
          "Arkansas",
          "Nevada",
          "Washington",
          "Arizona",
          "Maryland",
          "Wyoming",
          "Kentucky",
          "New York",
          "Idaho",
          "North Carolina",
          "Alaska",
          "Minnesota",
          "North Dakota",
          "Oklahoma",
          "Montana",
          "North Carolina",
          "South Dakota",
          "North Carolina",
          "Alaska",
          "Wisconsin",
          "New Jersey",
          "Montana",
          "North Carolina",
          "Arizona",
          "Nebraska",
          "Minnesota",
          "Arizona",
          "Florida",
          "Texas",
          "Missouri",
          "Montana",
          "Colorado",
          "Maine",
          "South Carolina",
          "Vermont",
          "Ohio",
          "Alabama",
          "North Dakota",
          "Kansas",
          "Arkansas",
          "Massachusetts",
          "Maryland",
          "Louisiana",
          "Minnesota",
          "Nebraska",
          "Indiana",
          "Colorado",
          "Kentucky",
          "Massachusetts",
          "Idaho",
          "Utah",
          "Wisconsin",
          "Georgia",
          "Arkansas",
          "Oklahoma",
          "South Dakota",
          "Colorado",
          "Michigan",
          "Kentucky",
          "Virginia",
          "Ohio",
          "California",
          "South Carolina",
          "Michigan",
          "Louisiana",
          "Kentucky",
          "Michigan",
          "Idaho",
          "Georgia",
          "Vermont",
          "California",
          "New Jersey",
          "New Jersey",
          "Nevada",
          "Utah",
          "Indiana",
          "Utah",
          "Idaho",
          "Wisconsin",
          "Washington",
          "Kansas",
          "Nevada",
          "Minnesota",
          "Montana",
          "Utah",
          "Alaska",
          "Arkansas",
          "North Carolina",
          "Alabama",
          "Washington",
          "New York",
          "North Dakota",
          "Colorado",
          "Indiana",
          "Maine",
          "South Carolina",
          "Oklahoma",
          "Nebraska",
          "Kansas",
          "Florida",
          "Ohio",
          "California",
          "Vermont",
          "Michigan",
          "Arizona",
          "Kentucky",
          "Virginia",
          "Missouri",
          "National",
          "Nevada",
          "South Dakota",
          "Idaho",
          "Louisiana",
          "Oregon",
          "Wisconsin",
          "North Dakota",
          "Iowa",
          "Alaska",
          "Arizona",
          "South Carolina",
          "Vermont",
          "Montana",
          "Texas",
          "New York",
          "Michigan",
          "South Dakota",
          "National",
          "North Carolina",
          "Indiana",
          "Oklahoma",
          "New Mexico",
          "Kansas",
          "Idaho",
          "Ohio",
          "Tennessee",
          "Maine",
          "Washington",
          "Georgia",
          "Colorado",
          "Missouri",
          "Utah",
          "Minnesota",
          "Nebraska",
          "Maryland",
          "Arkansas",
          "Alaska",
          "Alabama",
          "Arkansas",
          "Arizona",
          "California",
          "Colorado",
          "Florida",
          "Georgia",
          "Idaho",
          "Kansas",
          "Louisiana",
          "Maryland",
          "Maine",
          "Michigan",
          "Minnesota",
          "Missouri",
          "Montana",
          "North Carolina",
          "North Dakota",
          "Nebraska",
          "New Mexico",
          "New York",
          "Ohio",
          "Oklahoma",
          "South Carolina",
          "South Dakota",
          "Texas",
          "National",
          "Utah",
          "Virginia",
          "Vermont",
          "Washington",
          "Wisconsin",
          "Wyoming"
         ],
         "locationmode": "USA-states",
         "locations": [
          "US",
          "US",
          "US",
          "OK",
          "GA",
          "OK",
          "GA",
          "TX",
          "NE",
          "US",
          "ND",
          "NM",
          "VA",
          "UT",
          "NM",
          "KY",
          "VT",
          "OR",
          "MN",
          "LA",
          "MT",
          "CA",
          "AR",
          "MI",
          "WI",
          "MD",
          "TX",
          "AZ",
          "FL",
          "SD",
          "WI",
          "SC",
          "IN",
          "AL",
          "ME",
          "WA",
          "NC",
          "AK",
          "KS",
          "NY",
          "OH",
          "US",
          "CO",
          "MO",
          "MD",
          "TX",
          "NE",
          "WY",
          "US",
          "ND",
          "VA",
          "UT",
          "NM",
          "ID",
          "OR",
          "MN",
          "MT",
          "AR",
          "AZ",
          "FL",
          "SD",
          "WI",
          "US",
          "IN",
          "AL",
          "ME",
          "WA",
          "NC",
          "AK",
          "KS",
          "NY",
          "OH",
          "CO",
          "MO",
          "MD",
          "MD",
          "MI",
          "OH",
          "AK",
          "VA",
          "UT",
          "NJ",
          "OR",
          "VA",
          "AL",
          "ME",
          "ND",
          "MS",
          "AR",
          "NM",
          "TN",
          "CA",
          "NV",
          "WA",
          "GA",
          "MN",
          "WI",
          "MO",
          "SC",
          "WY",
          "MA",
          "ME",
          "ND",
          "OR",
          "FL",
          "AZ",
          "UT",
          "SD",
          "TX",
          "MO",
          "FL",
          "AR",
          "KS",
          "AL",
          "MD",
          "MO",
          "WI",
          "SD",
          "OH",
          "CT",
          "WA",
          "TX",
          "NM",
          "WI",
          "CA",
          "CA",
          "MN",
          "WA",
          "ND",
          "TX",
          "AL",
          "WY",
          "KS",
          "AK",
          "NM",
          "AK",
          "MT",
          "CO",
          "LA",
          "SC",
          "TN",
          "NV",
          "WY",
          "NE",
          "PA",
          "AZ",
          "US",
          "OK",
          "MT",
          "CO",
          "FL",
          "KY",
          "NY",
          "IN",
          "IN",
          "OK",
          "NC",
          "SD",
          "UT",
          "NM",
          "OH",
          "VT",
          "KS",
          "DE",
          "AZ",
          "NE",
          "TX",
          "LA",
          "MD",
          "VT",
          "MI",
          "WY",
          "NE",
          "MN",
          "NY",
          "NE",
          "VA",
          "AR",
          "MI",
          "WY",
          "ID",
          "WI",
          "NM",
          "ND",
          "KS",
          "MT",
          "OR",
          "KY",
          "OH",
          "ME",
          "VA",
          "ME",
          "SD",
          "IN",
          "MN",
          "TX",
          "OK",
          "AZ",
          "TN",
          "LA",
          "US",
          "MT",
          "CA",
          "FL",
          "NJ",
          "OK",
          "SC",
          "NE",
          "OH",
          "ND",
          "KS",
          "OK",
          "SC",
          "SD",
          "NC",
          "NC",
          "AL",
          "AK",
          "SC",
          "AL",
          "MD",
          "MI",
          "CO",
          "UT",
          "WY",
          "MO",
          "CO",
          "KY",
          "WA",
          "WA",
          "FL",
          "NM",
          "MA",
          "NM",
          "ME",
          "AR",
          "ME",
          "VA",
          "CA",
          "AK",
          "ID",
          "AL",
          "NY",
          "AR",
          "NV",
          "WA",
          "AZ",
          "MD",
          "WY",
          "KY",
          "NY",
          "ID",
          "NC",
          "AK",
          "MN",
          "ND",
          "OK",
          "MT",
          "NC",
          "SD",
          "NC",
          "AK",
          "WI",
          "NJ",
          "MT",
          "NC",
          "AZ",
          "NE",
          "MN",
          "AZ",
          "FL",
          "TX",
          "MO",
          "MT",
          "CO",
          "ME",
          "SC",
          "VT",
          "OH",
          "AL",
          "ND",
          "KS",
          "AR",
          "MA",
          "MD",
          "LA",
          "MN",
          "NE",
          "IN",
          "CO",
          "KY",
          "MA",
          "ID",
          "UT",
          "WI",
          "GA",
          "AR",
          "OK",
          "SD",
          "CO",
          "MI",
          "KY",
          "VA",
          "OH",
          "CA",
          "SC",
          "MI",
          "LA",
          "KY",
          "MI",
          "ID",
          "GA",
          "VT",
          "CA",
          "NJ",
          "NJ",
          "NV",
          "UT",
          "IN",
          "UT",
          "ID",
          "WI",
          "WA",
          "KS",
          "NV",
          "MN",
          "MT",
          "UT",
          "AK",
          "AR",
          "NC",
          "AL",
          "WA",
          "NY",
          "ND",
          "CO",
          "IN",
          "ME",
          "SC",
          "OK",
          "NE",
          "KS",
          "FL",
          "OH",
          "CA",
          "VT",
          "MI",
          "AZ",
          "KY",
          "VA",
          "MO",
          "US",
          "NV",
          "SD",
          "ID",
          "LA",
          "OR",
          "WI",
          "ND",
          "IA",
          "AK",
          "AZ",
          "SC",
          "VT",
          "MT",
          "TX",
          "NY",
          "MI",
          "SD",
          "US",
          "NC",
          "IN",
          "OK",
          "NM",
          "KS",
          "ID",
          "OH",
          "TN",
          "ME",
          "WA",
          "GA",
          "CO",
          "MO",
          "UT",
          "MN",
          "NE",
          "MD",
          "AR",
          "AK",
          "AL",
          "AR",
          "AZ",
          "CA",
          "CO",
          "FL",
          "GA",
          "ID",
          "KS",
          "LA",
          "MD",
          "ME",
          "MI",
          "MN",
          "MO",
          "MT",
          "NC",
          "ND",
          "NE",
          "NM",
          "NY",
          "OH",
          "OK",
          "SC",
          "SD",
          "TX",
          "US",
          "UT",
          "VA",
          "VT",
          "WA",
          "WI",
          "WY"
         ],
         "name": "",
         "type": "choropleth",
         "z": [
          35.4,
          36,
          34.9,
          42.7,
          43,
          38,
          17.5,
          54.1,
          43.2,
          39.1,
          44.8,
          37.5,
          29.4,
          40.6,
          41.6,
          21.4,
          37.7,
          43.3,
          50.2,
          39.8,
          41.4,
          34.5,
          40.3,
          32.6,
          48.9,
          39.2,
          32.5,
          48.6,
          24.4,
          47.5,
          46.8,
          43.7,
          57,
          25.4,
          42.3,
          30.2,
          58.6,
          29.1,
          43.5,
          32.1,
          16.7,
          33.4,
          24.4,
          52.5,
          41.8,
          32.3,
          39.7,
          36.4,
          38.8,
          52.8,
          25.4,
          46.9,
          44.1,
          51,
          27,
          51.5,
          47.1,
          24.7,
          44,
          22.2,
          38.2,
          35,
          33.7,
          48.3,
          49.7,
          24.7,
          41.2,
          43.8,
          36,
          45.6,
          20.3,
          38.5,
          41.2,
          30.9,
          21.4,
          27.9,
          31.9,
          28,
          44,
          24.2,
          34.3,
          33.3,
          43.7,
          25.5,
          46.6,
          29.3,
          46.4,
          41.9,
          50.3,
          39.1,
          26.9,
          32.1,
          50.8,
          34.9,
          36.1,
          39.3,
          37.2,
          29,
          41.2,
          44,
          22,
          44.7,
          39.3,
          31.9,
          13.2,
          45.8,
          42.3,
          35.8,
          47.6,
          32.6,
          34.9,
          46,
          36.8,
          35.2,
          32.2,
          52.4,
          56.9,
          44.7,
          40.7,
          20.5,
          34.8,
          33.5,
          36.8,
          45.7,
          38.6,
          32.1,
          40.9,
          29,
          44.1,
          32.5,
          46.2,
          38.2,
          38.6,
          30.9,
          41.8,
          31.9,
          38.4,
          37.6,
          26.9,
          31.4,
          45.8,
          35.5,
          44.4,
          33.2,
          18.4,
          42.8,
          38.7,
          46.3,
          43.2,
          27.6,
          46.7,
          37.8,
          20.3,
          44.7,
          28.9,
          37.5,
          36,
          48.7,
          34.3,
          36.9,
          23.1,
          37,
          32.6,
          33.4,
          41.6,
          47.3,
          48.2,
          45.5,
          20.3,
          44.5,
          37.5,
          44.7,
          37.2,
          36.9,
          24.2,
          35.6,
          39.1,
          49.4,
          38.2,
          24.1,
          35.2,
          49.5,
          46.1,
          40.9,
          32.8,
          41.5,
          44.4,
          23.1,
          34.9,
          32.2,
          28.1,
          29,
          45.3,
          33.1,
          48.2,
          22.8,
          41.3,
          58,
          22.5,
          39.4,
          37.9,
          40.8,
          29.1,
          18.3,
          26.1,
          40.8,
          44.4,
          49.9,
          28.9,
          57.8,
          37.9,
          41.9,
          27.8,
          40.7,
          37.7,
          35,
          39.4,
          37.3,
          34.7,
          30.9,
          41,
          28.4,
          20.6,
          37.6,
          36.1,
          40.7,
          17.5,
          25.9,
          42.1,
          42.5,
          22.3,
          40.3,
          25,
          36.3,
          37.6,
          29.2,
          35.4,
          30.5,
          17.6,
          39.1,
          28.6,
          32.9,
          18.4,
          19.3,
          19.8,
          28.4,
          53,
          39,
          25.4,
          43.1,
          38.6,
          45.4,
          42.4,
          33.6,
          38.3,
          41.8,
          47.3,
          40.5,
          46.4,
          35.1,
          28.9,
          33.8,
          36.9,
          16.1,
          39.6,
          43.8,
          34.2,
          52.9,
          28.2,
          44.6,
          31.4,
          27.2,
          37,
          36.1,
          30.7,
          21.7,
          37.2,
          27.9,
          48.2,
          26.5,
          36.1,
          35.2,
          20.3,
          42.4,
          38.4,
          39.6,
          35,
          44.7,
          37.9,
          28.6,
          42.7,
          36.1,
          37.4,
          37.8,
          30.9,
          30.7,
          45.7,
          36.4,
          37.1,
          23,
          33.1,
          30.5,
          24.9,
          51.6,
          26,
          27.5,
          38.6,
          25.2,
          24,
          33.3,
          37.7,
          31.6,
          40.1,
          37.3,
          23.6,
          41.5,
          37.4,
          34.8,
          39.2,
          27.4,
          28.9,
          37.8,
          36.3,
          35.1,
          59.2,
          36.6,
          31.6,
          32.9,
          43.1,
          28.7,
          39.8,
          32.9,
          41.9,
          25.2,
          46.7,
          23.6,
          30.6,
          48,
          41.9,
          40.7,
          38.2,
          31.4,
          34.1,
          60.4,
          38.2,
          47.6,
          42.1,
          42.1,
          25.6,
          47.8,
          38.2,
          38.1,
          36.4,
          39.6,
          37.8,
          48.3,
          37.5,
          44.8,
          51.5,
          45.2,
          39.1,
          48.9,
          52.4,
          35.2,
          39.6,
          26.5,
          40.4,
          25.9,
          54.6,
          38.7,
          33.8,
          33.2,
          47.1,
          50.1,
          45.7,
          39.1,
          37.6,
          33,
          31.5,
          43.9,
          25.1,
          29.4,
          33,
          39.9,
          41.5,
          47.4,
          31.6,
          20.5,
          36.2,
          37.4,
          39.7,
          47.9,
          42.4,
          39.2,
          40.9,
          19.5,
          45.9,
          37.6,
          45,
          23.4,
          46.6,
          26.9,
          44.8,
          35.7,
          38.6,
          37.2,
          43.9,
          42,
          42.5,
          36.4,
          31.5,
          47.8,
          28.6,
          39.1,
          44.6,
          38.8,
          51.7,
          27.8,
          33.4,
          43,
          45.4,
          40.5
         ]
        }
       ],
       "layout": {
        "coloraxis": {
         "colorbar": {
          "title": {
           "text": "Obesity Rate"
          }
         },
         "colorscale": [
          [
           0,
           "yellow"
          ],
          [
           1,
           "red"
          ]
         ]
        },
        "geo": {
         "center": {},
         "domain": {
          "x": [
           0,
           1
          ],
          "y": [
           0,
           1
          ]
         },
         "scope": "usa"
        },
        "legend": {
         "tracegroupgap": 0
        },
        "template": {
         "data": {
          "bar": [
           {
            "error_x": {
             "color": "#2a3f5f"
            },
            "error_y": {
             "color": "#2a3f5f"
            },
            "marker": {
             "line": {
              "color": "#E5ECF6",
              "width": 0.5
             },
             "pattern": {
              "fillmode": "overlay",
              "size": 10,
              "solidity": 0.2
             }
            },
            "type": "bar"
           }
          ],
          "barpolar": [
           {
            "marker": {
             "line": {
              "color": "#E5ECF6",
              "width": 0.5
             },
             "pattern": {
              "fillmode": "overlay",
              "size": 10,
              "solidity": 0.2
             }
            },
            "type": "barpolar"
           }
          ],
          "carpet": [
           {
            "aaxis": {
             "endlinecolor": "#2a3f5f",
             "gridcolor": "white",
             "linecolor": "white",
             "minorgridcolor": "white",
             "startlinecolor": "#2a3f5f"
            },
            "baxis": {
             "endlinecolor": "#2a3f5f",
             "gridcolor": "white",
             "linecolor": "white",
             "minorgridcolor": "white",
             "startlinecolor": "#2a3f5f"
            },
            "type": "carpet"
           }
          ],
          "choropleth": [
           {
            "colorbar": {
             "outlinewidth": 0,
             "ticks": ""
            },
            "type": "choropleth"
           }
          ],
          "contour": [
           {
            "colorbar": {
             "outlinewidth": 0,
             "ticks": ""
            },
            "colorscale": [
             [
              0,
              "#0d0887"
             ],
             [
              0.1111111111111111,
              "#46039f"
             ],
             [
              0.2222222222222222,
              "#7201a8"
             ],
             [
              0.3333333333333333,
              "#9c179e"
             ],
             [
              0.4444444444444444,
              "#bd3786"
             ],
             [
              0.5555555555555556,
              "#d8576b"
             ],
             [
              0.6666666666666666,
              "#ed7953"
             ],
             [
              0.7777777777777778,
              "#fb9f3a"
             ],
             [
              0.8888888888888888,
              "#fdca26"
             ],
             [
              1,
              "#f0f921"
             ]
            ],
            "type": "contour"
           }
          ],
          "contourcarpet": [
           {
            "colorbar": {
             "outlinewidth": 0,
             "ticks": ""
            },
            "type": "contourcarpet"
           }
          ],
          "heatmap": [
           {
            "colorbar": {
             "outlinewidth": 0,
             "ticks": ""
            },
            "colorscale": [
             [
              0,
              "#0d0887"
             ],
             [
              0.1111111111111111,
              "#46039f"
             ],
             [
              0.2222222222222222,
              "#7201a8"
             ],
             [
              0.3333333333333333,
              "#9c179e"
             ],
             [
              0.4444444444444444,
              "#bd3786"
             ],
             [
              0.5555555555555556,
              "#d8576b"
             ],
             [
              0.6666666666666666,
              "#ed7953"
             ],
             [
              0.7777777777777778,
              "#fb9f3a"
             ],
             [
              0.8888888888888888,
              "#fdca26"
             ],
             [
              1,
              "#f0f921"
             ]
            ],
            "type": "heatmap"
           }
          ],
          "heatmapgl": [
           {
            "colorbar": {
             "outlinewidth": 0,
             "ticks": ""
            },
            "colorscale": [
             [
              0,
              "#0d0887"
             ],
             [
              0.1111111111111111,
              "#46039f"
             ],
             [
              0.2222222222222222,
              "#7201a8"
             ],
             [
              0.3333333333333333,
              "#9c179e"
             ],
             [
              0.4444444444444444,
              "#bd3786"
             ],
             [
              0.5555555555555556,
              "#d8576b"
             ],
             [
              0.6666666666666666,
              "#ed7953"
             ],
             [
              0.7777777777777778,
              "#fb9f3a"
             ],
             [
              0.8888888888888888,
              "#fdca26"
             ],
             [
              1,
              "#f0f921"
             ]
            ],
            "type": "heatmapgl"
           }
          ],
          "histogram": [
           {
            "marker": {
             "pattern": {
              "fillmode": "overlay",
              "size": 10,
              "solidity": 0.2
             }
            },
            "type": "histogram"
           }
          ],
          "histogram2d": [
           {
            "colorbar": {
             "outlinewidth": 0,
             "ticks": ""
            },
            "colorscale": [
             [
              0,
              "#0d0887"
             ],
             [
              0.1111111111111111,
              "#46039f"
             ],
             [
              0.2222222222222222,
              "#7201a8"
             ],
             [
              0.3333333333333333,
              "#9c179e"
             ],
             [
              0.4444444444444444,
              "#bd3786"
             ],
             [
              0.5555555555555556,
              "#d8576b"
             ],
             [
              0.6666666666666666,
              "#ed7953"
             ],
             [
              0.7777777777777778,
              "#fb9f3a"
             ],
             [
              0.8888888888888888,
              "#fdca26"
             ],
             [
              1,
              "#f0f921"
             ]
            ],
            "type": "histogram2d"
           }
          ],
          "histogram2dcontour": [
           {
            "colorbar": {
             "outlinewidth": 0,
             "ticks": ""
            },
            "colorscale": [
             [
              0,
              "#0d0887"
             ],
             [
              0.1111111111111111,
              "#46039f"
             ],
             [
              0.2222222222222222,
              "#7201a8"
             ],
             [
              0.3333333333333333,
              "#9c179e"
             ],
             [
              0.4444444444444444,
              "#bd3786"
             ],
             [
              0.5555555555555556,
              "#d8576b"
             ],
             [
              0.6666666666666666,
              "#ed7953"
             ],
             [
              0.7777777777777778,
              "#fb9f3a"
             ],
             [
              0.8888888888888888,
              "#fdca26"
             ],
             [
              1,
              "#f0f921"
             ]
            ],
            "type": "histogram2dcontour"
           }
          ],
          "mesh3d": [
           {
            "colorbar": {
             "outlinewidth": 0,
             "ticks": ""
            },
            "type": "mesh3d"
           }
          ],
          "parcoords": [
           {
            "line": {
             "colorbar": {
              "outlinewidth": 0,
              "ticks": ""
             }
            },
            "type": "parcoords"
           }
          ],
          "pie": [
           {
            "automargin": true,
            "type": "pie"
           }
          ],
          "scatter": [
           {
            "fillpattern": {
             "fillmode": "overlay",
             "size": 10,
             "solidity": 0.2
            },
            "type": "scatter"
           }
          ],
          "scatter3d": [
           {
            "line": {
             "colorbar": {
              "outlinewidth": 0,
              "ticks": ""
             }
            },
            "marker": {
             "colorbar": {
              "outlinewidth": 0,
              "ticks": ""
             }
            },
            "type": "scatter3d"
           }
          ],
          "scattercarpet": [
           {
            "marker": {
             "colorbar": {
              "outlinewidth": 0,
              "ticks": ""
             }
            },
            "type": "scattercarpet"
           }
          ],
          "scattergeo": [
           {
            "marker": {
             "colorbar": {
              "outlinewidth": 0,
              "ticks": ""
             }
            },
            "type": "scattergeo"
           }
          ],
          "scattergl": [
           {
            "marker": {
             "colorbar": {
              "outlinewidth": 0,
              "ticks": ""
             }
            },
            "type": "scattergl"
           }
          ],
          "scattermapbox": [
           {
            "marker": {
             "colorbar": {
              "outlinewidth": 0,
              "ticks": ""
             }
            },
            "type": "scattermapbox"
           }
          ],
          "scatterpolar": [
           {
            "marker": {
             "colorbar": {
              "outlinewidth": 0,
              "ticks": ""
             }
            },
            "type": "scatterpolar"
           }
          ],
          "scatterpolargl": [
           {
            "marker": {
             "colorbar": {
              "outlinewidth": 0,
              "ticks": ""
             }
            },
            "type": "scatterpolargl"
           }
          ],
          "scatterternary": [
           {
            "marker": {
             "colorbar": {
              "outlinewidth": 0,
              "ticks": ""
             }
            },
            "type": "scatterternary"
           }
          ],
          "surface": [
           {
            "colorbar": {
             "outlinewidth": 0,
             "ticks": ""
            },
            "colorscale": [
             [
              0,
              "#0d0887"
             ],
             [
              0.1111111111111111,
              "#46039f"
             ],
             [
              0.2222222222222222,
              "#7201a8"
             ],
             [
              0.3333333333333333,
              "#9c179e"
             ],
             [
              0.4444444444444444,
              "#bd3786"
             ],
             [
              0.5555555555555556,
              "#d8576b"
             ],
             [
              0.6666666666666666,
              "#ed7953"
             ],
             [
              0.7777777777777778,
              "#fb9f3a"
             ],
             [
              0.8888888888888888,
              "#fdca26"
             ],
             [
              1,
              "#f0f921"
             ]
            ],
            "type": "surface"
           }
          ],
          "table": [
           {
            "cells": {
             "fill": {
              "color": "#EBF0F8"
             },
             "line": {
              "color": "white"
             }
            },
            "header": {
             "fill": {
              "color": "#C8D4E3"
             },
             "line": {
              "color": "white"
             }
            },
            "type": "table"
           }
          ]
         },
         "layout": {
          "annotationdefaults": {
           "arrowcolor": "#2a3f5f",
           "arrowhead": 0,
           "arrowwidth": 1
          },
          "autotypenumbers": "strict",
          "coloraxis": {
           "colorbar": {
            "outlinewidth": 0,
            "ticks": ""
           }
          },
          "colorscale": {
           "diverging": [
            [
             0,
             "#8e0152"
            ],
            [
             0.1,
             "#c51b7d"
            ],
            [
             0.2,
             "#de77ae"
            ],
            [
             0.3,
             "#f1b6da"
            ],
            [
             0.4,
             "#fde0ef"
            ],
            [
             0.5,
             "#f7f7f7"
            ],
            [
             0.6,
             "#e6f5d0"
            ],
            [
             0.7,
             "#b8e186"
            ],
            [
             0.8,
             "#7fbc41"
            ],
            [
             0.9,
             "#4d9221"
            ],
            [
             1,
             "#276419"
            ]
           ],
           "sequential": [
            [
             0,
             "#0d0887"
            ],
            [
             0.1111111111111111,
             "#46039f"
            ],
            [
             0.2222222222222222,
             "#7201a8"
            ],
            [
             0.3333333333333333,
             "#9c179e"
            ],
            [
             0.4444444444444444,
             "#bd3786"
            ],
            [
             0.5555555555555556,
             "#d8576b"
            ],
            [
             0.6666666666666666,
             "#ed7953"
            ],
            [
             0.7777777777777778,
             "#fb9f3a"
            ],
            [
             0.8888888888888888,
             "#fdca26"
            ],
            [
             1,
             "#f0f921"
            ]
           ],
           "sequentialminus": [
            [
             0,
             "#0d0887"
            ],
            [
             0.1111111111111111,
             "#46039f"
            ],
            [
             0.2222222222222222,
             "#7201a8"
            ],
            [
             0.3333333333333333,
             "#9c179e"
            ],
            [
             0.4444444444444444,
             "#bd3786"
            ],
            [
             0.5555555555555556,
             "#d8576b"
            ],
            [
             0.6666666666666666,
             "#ed7953"
            ],
            [
             0.7777777777777778,
             "#fb9f3a"
            ],
            [
             0.8888888888888888,
             "#fdca26"
            ],
            [
             1,
             "#f0f921"
            ]
           ]
          },
          "colorway": [
           "#636efa",
           "#EF553B",
           "#00cc96",
           "#ab63fa",
           "#FFA15A",
           "#19d3f3",
           "#FF6692",
           "#B6E880",
           "#FF97FF",
           "#FECB52"
          ],
          "font": {
           "color": "#2a3f5f"
          },
          "geo": {
           "bgcolor": "white",
           "lakecolor": "white",
           "landcolor": "#E5ECF6",
           "showlakes": true,
           "showland": true,
           "subunitcolor": "white"
          },
          "hoverlabel": {
           "align": "left"
          },
          "hovermode": "closest",
          "mapbox": {
           "style": "light"
          },
          "paper_bgcolor": "white",
          "plot_bgcolor": "#E5ECF6",
          "polar": {
           "angularaxis": {
            "gridcolor": "white",
            "linecolor": "white",
            "ticks": ""
           },
           "bgcolor": "#E5ECF6",
           "radialaxis": {
            "gridcolor": "white",
            "linecolor": "white",
            "ticks": ""
           }
          },
          "scene": {
           "xaxis": {
            "backgroundcolor": "#E5ECF6",
            "gridcolor": "white",
            "gridwidth": 2,
            "linecolor": "white",
            "showbackground": true,
            "ticks": "",
            "zerolinecolor": "white"
           },
           "yaxis": {
            "backgroundcolor": "#E5ECF6",
            "gridcolor": "white",
            "gridwidth": 2,
            "linecolor": "white",
            "showbackground": true,
            "ticks": "",
            "zerolinecolor": "white"
           },
           "zaxis": {
            "backgroundcolor": "#E5ECF6",
            "gridcolor": "white",
            "gridwidth": 2,
            "linecolor": "white",
            "showbackground": true,
            "ticks": "",
            "zerolinecolor": "white"
           }
          },
          "shapedefaults": {
           "line": {
            "color": "#2a3f5f"
           }
          },
          "ternary": {
           "aaxis": {
            "gridcolor": "white",
            "linecolor": "white",
            "ticks": ""
           },
           "baxis": {
            "gridcolor": "white",
            "linecolor": "white",
            "ticks": ""
           },
           "bgcolor": "#E5ECF6",
           "caxis": {
            "gridcolor": "white",
            "linecolor": "white",
            "ticks": ""
           }
          },
          "title": {
           "x": 0.05
          },
          "xaxis": {
           "automargin": true,
           "gridcolor": "white",
           "linecolor": "white",
           "ticks": "",
           "title": {
            "standoff": 15
           },
           "zerolinecolor": "white",
           "zerolinewidth": 2
          },
          "yaxis": {
           "automargin": true,
           "gridcolor": "white",
           "linecolor": "white",
           "ticks": "",
           "title": {
            "standoff": 15
           },
           "zerolinecolor": "white",
           "zerolinewidth": 2
          }
         }
        },
        "title": {
         "text": "Obesity Rates by American Indian/Alaska Native"
        }
       }
      }
     },
     "metadata": {},
     "output_type": "display_data"
    },
    {
     "data": {
      "application/vnd.jupyter.widget-view+json": {
       "model_id": "b92ebcc533a34e2b9ee5d5add8273837",
       "version_major": 2,
       "version_minor": 0
      },
      "text/plain": [
       "interactive(children=(Dropdown(description='Select Race:', options=('American Indian/Alaska Native', 'Other', …"
      ]
     },
     "metadata": {},
     "output_type": "display_data"
    },
    {
     "data": {
      "text/plain": [
       "<function obesity_visualization.update_plot(race, concatenated_df)>"
      ]
     },
     "execution_count": 5,
     "metadata": {},
     "output_type": "execute_result"
    }
   ],
   "source": [
    "# Load data\n",
    "concatenated_df = load_and_prepare_data()\n",
    "\n",
    "races_with_total = concatenated_df['Race/Ethnicity'].dropna().unique()\n",
    "race_dropdown = Dropdown(options=races_with_total, description=\"Select Race:\")\n",
    "interact(update_plot, race=race_dropdown, concatenated_df=fixed(concatenated_df))"
   ]
  },
  {
   "cell_type": "markdown",
   "id": "01718955-02bc-4f2b-9d8a-feff6882dae0",
   "metadata": {},
   "source": [
    "## Results\n",
    "Fully explain and analyze the results from your data, i.e. the inferences or correlations you uncovered, the tools you built, or the visualizations you created. "
   ]
  }
 ],
 "metadata": {
  "kernelspec": {
   "display_name": "Python 3 (ipykernel)",
   "language": "python",
   "name": "python3"
  },
  "language_info": {
   "codemirror_mode": {
    "name": "ipython",
    "version": 3
   },
   "file_extension": ".py",
   "mimetype": "text/x-python",
   "name": "python",
   "nbconvert_exporter": "python",
   "pygments_lexer": "ipython3",
   "version": "3.11.5"
  },
  "vscode": {
   "interpreter": {
    "hash": "ed64a4307ec82826f927b01f42017af095a31ae8dc173d19df8dd073f60ba71f"
   }
  }
 },
 "nbformat": 4,
 "nbformat_minor": 5
}
